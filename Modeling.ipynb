{
 "cells": [
  {
   "cell_type": "code",
   "execution_count": 1,
   "metadata": {},
   "outputs": [],
   "source": [
    "# S3 prefix\n",
    "prefix = 'facerecogproj'\n",
    "\n",
    "import sagemaker\n",
    "from sagemaker import get_execution_role\n",
    "\n",
    "sagemaker_session = sagemaker.Session()\n",
    "\n",
    "# Get a SageMaker-compatible role used by this Notebook Instance.\n",
    "role = get_execution_role()"
   ]
  },
  {
   "cell_type": "code",
   "execution_count": 2,
   "metadata": {},
   "outputs": [
    {
     "name": "stdout",
     "output_type": "stream",
     "text": [
      "Collecting pip\n",
      "  Using cached https://files.pythonhosted.org/packages/54/0c/d01aa759fdc501a58f431eb594a17495f15b88da142ce14b5845662c13f3/pip-20.0.2-py2.py3-none-any.whl\n",
      "\u001b[31mfastai 1.0.60 requires nvidia-ml-py3, which is not installed.\u001b[0m\n",
      "Installing collected packages: pip\n",
      "  Found existing installation: pip 10.0.1\n",
      "    Uninstalling pip-10.0.1:\n",
      "      Successfully uninstalled pip-10.0.1\n",
      "Successfully installed pip-20.0.2\n",
      "\u001b[33mYou are using pip version 20.0.2, however version 20.1b1 is available.\n",
      "You should consider upgrading via the 'pip install --upgrade pip' command.\u001b[0m\n",
      "Collecting facenet_pytorch\n",
      "  Downloading facenet_pytorch-2.2.9-py3-none-any.whl (1.9 MB)\n",
      "\u001b[K     |████████████████████████████████| 1.9 MB 39.3 MB/s eta 0:00:01\n",
      "\u001b[?25hRequirement already satisfied: numpy in /home/ec2-user/anaconda3/envs/pytorch_p36/lib/python3.6/site-packages (from facenet_pytorch) (1.15.4)\n",
      "Requirement already satisfied: requests in /home/ec2-user/anaconda3/envs/pytorch_p36/lib/python3.6/site-packages (from facenet_pytorch) (2.20.0)\n",
      "Requirement already satisfied: urllib3<1.25,>=1.21.1 in /home/ec2-user/anaconda3/envs/pytorch_p36/lib/python3.6/site-packages (from requests->facenet_pytorch) (1.23)\n",
      "Requirement already satisfied: chardet<3.1.0,>=3.0.2 in /home/ec2-user/anaconda3/envs/pytorch_p36/lib/python3.6/site-packages (from requests->facenet_pytorch) (3.0.4)\n",
      "Requirement already satisfied: idna<2.8,>=2.5 in /home/ec2-user/anaconda3/envs/pytorch_p36/lib/python3.6/site-packages (from requests->facenet_pytorch) (2.6)\n",
      "Requirement already satisfied: certifi>=2017.4.17 in /home/ec2-user/anaconda3/envs/pytorch_p36/lib/python3.6/site-packages (from requests->facenet_pytorch) (2019.11.28)\n",
      "Installing collected packages: facenet-pytorch\n",
      "Successfully installed facenet-pytorch-2.2.9\n"
     ]
    }
   ],
   "source": [
    "# Change this to Lifecycle Configurations\n",
    "!pip install --upgrade pip\n",
    "!pip install facenet_pytorch"
   ]
  },
  {
   "cell_type": "code",
   "execution_count": 3,
   "metadata": {},
   "outputs": [],
   "source": [
    "from facenet_pytorch import InceptionResnetV1, MTCNN"
   ]
  },
  {
   "cell_type": "markdown",
   "metadata": {},
   "source": [
    "## Download the images from bucket"
   ]
  },
  {
   "cell_type": "code",
   "execution_count": 4,
   "metadata": {},
   "outputs": [],
   "source": [
    "import boto3\n",
    "import botocore\n",
    "\n",
    "BUCKET_NAME = 'images-facerecogproj' # replace with your bucket name\n",
    "s3_res = boto3.resource('s3')"
   ]
  },
  {
   "cell_type": "code",
   "execution_count": 14,
   "metadata": {},
   "outputs": [],
   "source": [
    "import re\n",
    "import boto3\n",
    "import os\n",
    "\n",
    "def get_s3_keys(bucket):\n",
    "    \"\"\"Get a list of keys in an S3 bucket.\"\"\"\n",
    "    keys = []\n",
    "    s3 = boto3.client('s3')\n",
    "    resp = s3.list_objects_v2(Bucket= bucket)\n",
    "    for obj in resp['Contents']:\n",
    "        keys.append(obj['Key'])\n",
    "    return keys\n",
    "\n",
    "def download_keys(keys, file, bucket, verbose = False):\n",
    "    \"\"\" Download all the keys in a list to file\"\"\"\n",
    "    create_dirs(keys, file)\n",
    "    s3 = boto3.client('s3')\n",
    "    for i,key in enumerate(keys):\n",
    "        if verbose:\n",
    "            print(key)\n",
    "        try:\n",
    "            # download as local file\n",
    "            s3.download_file(bucket, keyot, os.path.join(file,key))\n",
    "            \n",
    "        except botocore.exceptions.ClientError as e:\n",
    "            if e.response['Error']['Code'] == \"404\":\n",
    "                print(\"The object does not exist.\")\n",
    "            else:\n",
    "                raise\n",
    "    return print(\"{} files were downloaded!\".format(i))\n",
    "\n",
    "def create_dirs(keys, file):\n",
    "    \"\"\" Given a set of keys will create the needed files\"\"\"\n",
    "    if not os.path.exists(file):\n",
    "        os.mkdir(file)\n",
    "        \n",
    "    folders = [re.split(\"/\", key)[:-1] for key in keys]\n",
    "    unique_folders = [list(x) for x in set(tuple(x) for x in folders)]\n",
    "    success = 0\n",
    "    for folders in unique_folders:\n",
    "        path = os.path.join(file,\"/\".join(folders))\n",
    "        if not os.path.exists(path):\n",
    "            os.makedirs(path)\n",
    "            success += 1\n",
    "    return print(\"{} Folders were created\".format(success))"
   ]
  },
  {
   "cell_type": "code",
   "execution_count": 12,
   "metadata": {},
   "outputs": [],
   "source": [
    "import cv2\n",
    "\n",
    "def crop(input_img):\n",
    "    '''\n",
    "      :return:  a cropped face in numpy array format\n",
    "    '''\n",
    "    img = cv2.imread(input_img)\n",
    "    img = cv2.cvtColor(img, cv2.COLOR_BGR2RGB)\n",
    "    mtcnn = MTCNN(select_largest=False, post_process = False, margin = 50)\n",
    "    img_cropped = mtcnn(img)\n",
    "    #simple message notifying if a face was detected or not\n",
    "    if img_cropped is None:\n",
    "        print(f'Face not detected in file {input_img}')\n",
    "        return\n",
    "    img_cropped = img_cropped.permute(1, 2, 0).int().numpy() \n",
    "    return img_cropped\n",
    "  \n",
    "def plot_crop_face(img_cropped, output_img):\n",
    "    '''\n",
    "    :params:\n",
    "    :return:\n",
    "    '''\n",
    "    plt.imshow(img_cropped)  \n",
    "    plt.axis('off')\n",
    "    plt.savefig(output_img)\n",
    "\n",
    "def cropFace(input_img, output_img = None):\n",
    "    '''\n",
    "    :params:\n",
    "    :return:\n",
    "    '''\n",
    "    if output_img is None:\n",
    "        return crop(input_img)\n",
    "    else:\n",
    "        img_cropped = crop(input_img)\n",
    "        plot_crop_face(img_cropped,output_img)\n",
    "\n",
    "def cropAllAux(file_dir, output_dir, keys = None):\n",
    "    \"\"\"\n",
    "    Crop all the functions given a directory and save it locally or in a bucket\n",
    "\n",
    "    Args:\n",
    "       file_dir (str): Name of the directory that contains all images\n",
    "       output_dir (str): Name of the directory or bucket were the images should be saved\n",
    "       keys (json): Json with credential keys\n",
    "\n",
    "\n",
    "    Returns:\n",
    "       Print statement\n",
    "    \"\"\"\n",
    "     # It creates the folder if it does not exist\n",
    "    if not keys:\n",
    "        os.makedirs(output_dir, exist_ok= True)\n",
    "        \n",
    "    for file in os.listdir(file_dir):\n",
    "        if \".jpg\" in file:\n",
    "            user = re.sub(\"_.*$\",\"\",file)\n",
    "            img_cropped = crop(os.path.join(file_dir,file))\n",
    "            if img_cropped is not None:\n",
    "                if not keys:\n",
    "                    os.makedirs(os.path.join(output_dir,user), exist_ok= True)\n",
    "                    #print(\"Saving file {file} in directory {out}\".format(file = file, out = output_dir))\n",
    "                    cv2.imwrite(os.path.join(output_dir,user,file),img_cropped)\n",
    "                else:\n",
    "                    tmp_file = \"tmp_\"+file\n",
    "                    tmp_path = os.path.join(os.getcwd(),tmp_file)\n",
    "                    cv2.imwrite(tmp_file, img_cropped) \n",
    "                    try:\n",
    "                        # Uploading to the bucket\n",
    "                        print(\"Saving file {file} in bucket {out}\".format(file = file, out = output_dir))\n",
    "                        uploadBucket(tmp_path, output_dir, file, keys = keys)\n",
    "                        os.remove(tmp_path) \n",
    "                    except: \n",
    "                        print(\"error\")        \n",
    "    return print(\"Done!\")\n",
    "\n",
    "def cropAll(file_dir, output_dir, keys = None):\n",
    "    \"\"\"\n",
    "    Crop all the functions given a directory and save it locally or in a bucket\n",
    "\n",
    "    Args:\n",
    "       file_dir (str): Name of the directory that contains all images\n",
    "       output_dir (str): Name of the directory or bucket were the images should be saved\n",
    "       keys (json): Json with credential keys\n",
    "\n",
    "\n",
    "    Returns:\n",
    "       Print statement\n",
    "    \"\"\"\n",
    "     # It creates the folder if it does not exist\n",
    "    for roots,dirs,files in os.walk(file_dir):\n",
    "        cropAllAux(roots, output_dir, keys = None)\n",
    "    return print(\"Done!\")"
   ]
  },
  {
   "cell_type": "code",
   "execution_count": 7,
   "metadata": {},
   "outputs": [],
   "source": [
    "keys = get_s3_keys(BUCKET_NAME)"
   ]
  },
  {
   "cell_type": "code",
   "execution_count": 18,
   "metadata": {},
   "outputs": [
    {
     "name": "stdout",
     "output_type": "stream",
     "text": [
      "3 Folders were created\n",
      "216 files were downloaded!\n"
     ]
    }
   ],
   "source": [
    "download_keys(keys,\"Images2\",\"images-facerecogproj\")"
   ]
  },
  {
   "cell_type": "code",
   "execution_count": 13,
   "metadata": {},
   "outputs": [
    {
     "name": "stdout",
     "output_type": "stream",
     "text": [
      "Done!\n",
      "Done!\n",
      "Done!\n",
      "Face not detected in file Images/Azucena/Azucena_53.jpg\n",
      "Face not detected in file Images/Azucena/Azucena_16.jpg\n",
      "Face not detected in file Images/Azucena/Azucena_9.jpg\n",
      "Face not detected in file Images/Azucena/Azucena_34.jpg\n",
      "Face not detected in file Images/Azucena/Azucena_36.jpg\n",
      "Face not detected in file Images/Azucena/Azucena_33.jpg\n",
      "Face not detected in file Images/Azucena/Azucena_17.jpg\n",
      "Face not detected in file Images/Azucena/Azucena_56.jpg\n",
      "Face not detected in file Images/Azucena/Azucena_18.jpg\n",
      "Face not detected in file Images/Azucena/Azucena_32.jpg\n",
      "Face not detected in file Images/Azucena/Azucena_25.jpg\n",
      "Face not detected in file Images/Azucena/Azucena_35.jpg\n",
      "Face not detected in file Images/Azucena/Azucena_14.jpg\n",
      "Face not detected in file Images/Azucena/Azucena_6.jpg\n",
      "Face not detected in file Images/Azucena/Azucena_15.jpg\n",
      "Face not detected in file Images/Azucena/Azucena_55.jpg\n",
      "Face not detected in file Images/Azucena/Azucena_23.jpg\n",
      "Face not detected in file Images/Azucena/Azucena_8.jpg\n",
      "Face not detected in file Images/Azucena/Azucena_54.jpg\n",
      "Done!\n",
      "Face not detected in file Images/Iuliia/Iuliia_3.jpg\n",
      "Face not detected in file Images/Iuliia/Iuliia_7.jpg\n",
      "Face not detected in file Images/Iuliia/Iuliia_30.jpg\n",
      "Face not detected in file Images/Iuliia/Iuliia_8.jpg\n",
      "Done!\n",
      "Done!\n"
     ]
    }
   ],
   "source": [
    "cropAll(\"Images\", \"Face2\", keys = None)"
   ]
  },
  {
   "cell_type": "markdown",
   "metadata": {},
   "source": [
    "## Ready to have some fun!"
   ]
  },
  {
   "cell_type": "code",
   "execution_count": 15,
   "metadata": {},
   "outputs": [],
   "source": [
    "from facenet_pytorch import InceptionResnetV1, MTCNN\n",
    "from sklearn.svm import SVC\n",
    "from sklearn.metrics import accuracy_score\n",
    "import os\n",
    "import argparse\n",
    "import cv2\n",
    "import torch\n",
    "from PIL import Image\n",
    "import torchvision.transforms as transforms\n",
    "import re\n",
    "import random "
   ]
  },
  {
   "cell_type": "code",
   "execution_count": 16,
   "metadata": {},
   "outputs": [
    {
     "name": "stdout",
     "output_type": "stream",
     "text": [
      "Downloading parameters (1/2)\n",
      "Downloading parameters (2/2)\n"
     ]
    }
   ],
   "source": [
    "resnet = InceptionResnetV1(pretrained='vggface2').eval()"
   ]
  },
  {
   "cell_type": "code",
   "execution_count": 17,
   "metadata": {},
   "outputs": [],
   "source": [
    "def readFaces(file,model,tensor = False):\n",
    "    face_dict = {}\n",
    "    for roots,dirs,files in os.walk(file):\n",
    "        emb_list = []\n",
    "        for file in files:\n",
    "            if '.jpg' in file:\n",
    "                print(file)\n",
    "                path = os.path.join(roots,file)\n",
    "                img_emb = embeddings(path,model)\n",
    "                if not tensor:\n",
    "                    img_emb = img_emb.detach().numpy()\n",
    "                    emb_list.append(img_emb)\n",
    "        face_dict[re.sub(\"_.*$\",\"\",file)] = emb_list\n",
    "    train, label = [], []\n",
    "    for key, values in face_dict.items():\n",
    "        for val in values:\n",
    "            train.append(val)\n",
    "            label.append(key)\n",
    "    return train, label\n",
    "        \n",
    "\n",
    "def embeddings(file, model):\n",
    "    img = Image.open(file).convert('RGB')\n",
    "    img_tensor = transforms.functional.to_tensor(img)\n",
    "    embedding = model(img_tensor.unsqueeze(0))[0]\n",
    "    return embedding"
   ]
  },
  {
   "cell_type": "code",
   "execution_count": 21,
   "metadata": {},
   "outputs": [
    {
     "name": "stdout",
     "output_type": "stream",
     "text": [
      "Joaquin_59.jpg\n",
      "Joaquin_34.jpg\n",
      "Joaquin_35.jpg\n",
      "Joaquin_31.jpg\n",
      "Joaquin_19.jpg\n",
      "Joaquin_69.jpg\n",
      "Joaquin_42.jpg\n",
      "Joaquin_33.jpg\n",
      "Joaquin_49.jpg\n",
      "Joaquin_54.jpg\n",
      "Joaquin_60.jpg\n",
      "Joaquin_6.jpg\n",
      "Joaquin_39.jpg\n",
      "Joaquin_11.jpg\n",
      "Joaquin_53.jpg\n",
      "Joaquin_65.jpg\n",
      "Joaquin_15.jpg\n",
      "Joaquin_37.jpg\n",
      "Joaquin_21.jpg\n",
      "Joaquin_1.jpg\n",
      "Joaquin_4.jpg\n",
      "Joaquin_13.jpg\n",
      "Joaquin_10.jpg\n",
      "Joaquin_40.jpg\n",
      "Joaquin_27.jpg\n",
      "Joaquin_68.jpg\n",
      "Joaquin_32.jpg\n",
      "Joaquin_52.jpg\n",
      "Joaquin_29.jpg\n",
      "Joaquin_44.jpg\n",
      "Joaquin_26.jpg\n",
      "Joaquin_9.jpg\n",
      "Joaquin_41.jpg\n",
      "Joaquin_47.jpg\n",
      "Joaquin_46.jpg\n",
      "Joaquin_30.jpg\n",
      "Joaquin_70.jpg\n",
      "Joaquin_57.jpg\n",
      "Joaquin_20.jpg\n",
      "Joaquin_58.jpg\n",
      "Joaquin_28.jpg\n",
      "Joaquin_22.jpg\n",
      "Joaquin_16.jpg\n",
      "Joaquin_61.jpg\n",
      "Joaquin_23.jpg\n",
      "Joaquin_8.jpg\n",
      "Joaquin_51.jpg\n",
      "Joaquin_66.jpg\n",
      "Joaquin_62.jpg\n",
      "Joaquin_43.jpg\n",
      "Joaquin_45.jpg\n",
      "Joaquin_17.jpg\n",
      "Joaquin_63.jpg\n",
      "Joaquin_3.jpg\n",
      "Joaquin_67.jpg\n",
      "Joaquin_24.jpg\n",
      "Joaquin_18.jpg\n",
      "Joaquin_64.jpg\n",
      "Joaquin_36.jpg\n",
      "Joaquin_25.jpg\n",
      "Joaquin_55.jpg\n",
      "Joaquin_7.jpg\n",
      "Joaquin_48.jpg\n",
      "Joaquin_50.jpg\n",
      "Joaquin_14.jpg\n",
      "Joaquin_38.jpg\n",
      "Joaquin_5.jpg\n",
      "Joaquin_2.jpg\n",
      "Joaquin_56.jpg\n",
      "Joaquin_12.jpg\n",
      "Azucena_62.jpg\n",
      "Azucena_58.jpg\n",
      "Azucena_43.jpg\n",
      "Azucena_27.jpg\n",
      "Azucena_20.jpg\n",
      "Azucena_10.jpg\n",
      "Azucena_1.jpg\n",
      "Azucena_22.jpg\n",
      "Azucena_49.jpg\n",
      "Azucena_40.jpg\n",
      "Azucena_59.jpg\n",
      "Azucena_28.jpg\n",
      "Azucena_65.jpg\n",
      "Azucena_63.jpg\n",
      "Azucena_2.jpg\n",
      "Azucena_31.jpg\n",
      "Azucena_52.jpg\n",
      "Azucena_11.jpg\n",
      "Azucena_39.jpg\n",
      "Azucena_64.jpg\n",
      "Azucena_48.jpg\n",
      "Azucena_50.jpg\n",
      "Azucena_13.jpg\n",
      "Azucena_29.jpg\n",
      "Azucena_21.jpg\n",
      "Azucena_42.jpg\n",
      "Azucena_26.jpg\n",
      "Azucena_47.jpg\n",
      "Azucena_24.jpg\n",
      "Azucena_38.jpg\n",
      "Azucena_30.jpg\n",
      "Azucena_41.jpg\n",
      "Azucena_61.jpg\n",
      "Azucena_3.jpg\n",
      "Azucena_51.jpg\n",
      "Azucena_12.jpg\n",
      "Azucena_4.jpg\n",
      "Azucena_44.jpg\n",
      "Azucena_5.jpg\n",
      "Azucena_60.jpg\n",
      "Azucena_37.jpg\n",
      "Azucena_45.jpg\n",
      "Azucena_7.jpg\n",
      "Azucena_46.jpg\n",
      "Azucena_57.jpg\n",
      "Azucena_19.jpg\n",
      "Iuliia_36.jpg\n",
      "Iuliia_34.jpg\n",
      "Iuliia_24.jpg\n",
      "Iuliia_19.jpg\n",
      "Iuliia_14.jpg\n",
      "Iuliia_20.jpg\n",
      "Iuliia_6.jpg\n",
      "Iuliia_16.jpg\n",
      "Iuliia_17.jpg\n",
      "Iuliia_13.jpg\n",
      "Iuliia_11.jpg\n",
      "Iuliia_27.jpg\n",
      "Iuliia_28.jpg\n",
      "Iuliia_29.jpg\n",
      "Iuliia_4.jpg\n",
      "Iuliia_10.jpg\n",
      "Iuliia_15.jpg\n",
      "Iuliia_2.jpg\n",
      "Iuliia_33.jpg\n",
      "Iuliia_9.jpg\n",
      "Iuliia_1.jpg\n",
      "Iuliia_18.jpg\n",
      "Iuliia_35.jpg\n",
      "Iuliia_22.jpg\n",
      "Iuliia_5.jpg\n",
      "Iuliia_26.jpg\n",
      "Iuliia_12.jpg\n",
      "Iuliia_21.jpg\n",
      "Iuliia_23.jpg\n",
      "Iuliia_25.jpg\n",
      "Iuliia_32.jpg\n",
      "Iuliia_31.jpg\n"
     ]
    }
   ],
   "source": [
    "train, label = readFaces(\"./Face2/\", resnet)"
   ]
  },
  {
   "cell_type": "code",
   "execution_count": null,
   "metadata": {},
   "outputs": [],
   "source": [
    "# Shuffling the lists\n",
    "temp = list(zip(train, label)) \n",
    "random.shuffle(temp) \n",
    "train_rnd, label_rnd = zip(*temp) \n",
    "train_rnd, label_rnd = list(train_rnd), list(label_rnd)"
   ]
  },
  {
   "cell_type": "code",
   "execution_count": null,
   "metadata": {},
   "outputs": [],
   "source": [
    "#Splitting training and test\n",
    "test_num = 10\n",
    "testX, testY = train_rnd[-test_num:],label_rnd[-test_num:]\n",
    "trainX, trainY = train_rnd[:-test_num],label_rnd[:-test_num]"
   ]
  },
  {
   "cell_type": "code",
   "execution_count": 115,
   "metadata": {},
   "outputs": [
    {
     "data": {
      "text/plain": [
       "array([[0.16303605, 0.78415599, 0.05280796],\n",
       "       [0.94992948, 0.02739326, 0.02267726],\n",
       "       [0.03150116, 0.94707056, 0.02142828],\n",
       "       [0.9561988 , 0.01776587, 0.02603533],\n",
       "       [0.95415555, 0.01496364, 0.03088081],\n",
       "       [0.01980741, 0.94492273, 0.03526986],\n",
       "       [0.06191662, 0.90872056, 0.02936282],\n",
       "       [0.02056926, 0.9596588 , 0.01977194],\n",
       "       [0.93503805, 0.02733405, 0.03762789],\n",
       "       [0.01768651, 0.95730366, 0.02500983]])"
      ]
     },
     "execution_count": 115,
     "metadata": {},
     "output_type": "execute_result"
    }
   ],
   "source": [
    "# Fitting an SVM model\n",
    "#model = SVC(kernel='linear', probability=True)\n",
    "#model.fit(trainX, trainY)\n",
    "#model.predict_proba(testX)"
   ]
  },
  {
   "cell_type": "code",
   "execution_count": 110,
   "metadata": {},
   "outputs": [
    {
     "data": {
      "text/plain": [
       "array([[3.33503112e-03, 9.93693898e-01, 2.97107076e-03],\n",
       "       [9.99999203e-01, 1.17902160e-08, 7.84874196e-07],\n",
       "       [8.26047911e-07, 9.99990639e-01, 8.53449766e-06],\n",
       "       [9.99999515e-01, 6.50850760e-10, 4.84818208e-07],\n",
       "       [9.99999399e-01, 2.41660661e-10, 6.00387974e-07],\n",
       "       [1.35347293e-07, 9.99978007e-01, 2.18578115e-05],\n",
       "       [1.56510482e-05, 9.99944676e-01, 3.96729747e-05],\n",
       "       [5.36867391e-07, 9.99991938e-01, 7.52545384e-06],\n",
       "       [9.99996318e-01, 1.15813507e-08, 3.67043117e-06],\n",
       "       [1.40728274e-07, 9.99984012e-01, 1.58471141e-05]])"
      ]
     },
     "execution_count": 110,
     "metadata": {},
     "output_type": "execute_result"
    }
   ],
   "source": [
    "from sklearn.neural_network import MLPClassifier\n",
    "\n",
    "NN = MLPClassifier(solver='lbfgs', alpha=1e-5, hidden_layer_sizes=(10,), random_state=1)\n",
    "NN.fit(trainX, trainY)\n",
    "NN.predict_proba(testX)"
   ]
  },
  {
   "cell_type": "code",
   "execution_count": 95,
   "metadata": {},
   "outputs": [
    {
     "name": "stdout",
     "output_type": "stream",
     "text": [
      "--2020-04-23 20:53:14--  https://upload.wikimedia.org/wikipedia/commons/c/c1/Lionel_Messi_20180626.jpg\n",
      "Resolving upload.wikimedia.org (upload.wikimedia.org)... 208.80.154.240, 2620:0:861:ed1a::2:b\n",
      "Connecting to upload.wikimedia.org (upload.wikimedia.org)|208.80.154.240|:443... connected.\n",
      "HTTP request sent, awaiting response... 200 OK\n",
      "Length: 578583 (565K) [image/jpeg]\n",
      "Saving to: ‘Lionel_Messi_20180626.jpg’\n",
      "\n",
      "Lionel_Messi_201806 100%[===================>] 565.02K  --.-KB/s    in 0.02s   \n",
      "\n",
      "2020-04-23 20:53:14 (28.9 MB/s) - ‘Lionel_Messi_20180626.jpg’ saved [578583/578583]\n",
      "\n"
     ]
    }
   ],
   "source": [
    "!wget https://upload.wikimedia.org/wikipedia/commons/c/c1/Lionel_Messi_20180626.jpg"
   ]
  },
  {
   "cell_type": "code",
   "execution_count": 97,
   "metadata": {},
   "outputs": [],
   "source": [
    "mtcnn = MTCNN(select_largest=False, post_process = False, margin = 50)"
   ]
  },
  {
   "cell_type": "code",
   "execution_count": 107,
   "metadata": {},
   "outputs": [],
   "source": [
    "img_test = cv2.imread(\"Lionel_Messi_20180626.jpg\")\n",
    "img_test = cv2.cvtColor(img_test, cv2.COLOR_BGR2RGB)\n",
    "img_test_cropped = mtcnn(img_test)\n",
    "test_emb = resnet(img_test_cropped.unsqueeze(0))[0]\n",
    "test_emb = test_emb.detach().numpy()"
   ]
  },
  {
   "cell_type": "code",
   "execution_count": 112,
   "metadata": {},
   "outputs": [
    {
     "data": {
      "text/plain": [
       "array([[7.57191977e-01, 3.97304437e-04, 2.42410719e-01]])"
      ]
     },
     "execution_count": 112,
     "metadata": {},
     "output_type": "execute_result"
    }
   ],
   "source": [
    "NN.predict_proba(test_emb.reshape(1,-1))"
   ]
  },
  {
   "cell_type": "markdown",
   "metadata": {},
   "source": [
    "## Upload the data"
   ]
  },
  {
   "cell_type": "code",
   "execution_count": 55,
   "metadata": {},
   "outputs": [],
   "source": [
    "import numpy as np\n",
    "import os\n",
    "from sklearn import datasets\n",
    "import pickle as pkl \n",
    "\n",
    "# Load data and join it in a dataframe\n",
    "data = {'data': train, \"label\": label}\n",
    "\n",
    "# Create directory and write csv\n",
    "os.makedirs('./data', exist_ok=True)\n",
    "#data.to_csv(\"./data/data.csv\", index = False)\n",
    "\n",
    "with open('./data/data.pickle', 'wb') as handle:\n",
    "    pkl.dump(data, handle, protocol=pkl.HIGHEST_PROTOCOL)"
   ]
  },
  {
   "cell_type": "code",
   "execution_count": 6,
   "metadata": {},
   "outputs": [
    {
     "ename": "NameError",
     "evalue": "name 'os' is not defined",
     "output_type": "error",
     "traceback": [
      "\u001b[0;31m---------------------------------------------------------------------------\u001b[0m",
      "\u001b[0;31mNameError\u001b[0m                                 Traceback (most recent call last)",
      "\u001b[0;32m<ipython-input-6-8fcbc604f124>\u001b[0m in \u001b[0;36m<module>\u001b[0;34m()\u001b[0m\n\u001b[0;32m----> 1\u001b[0;31m \u001b[0;32mwith\u001b[0m \u001b[0mopen\u001b[0m\u001b[0;34m(\u001b[0m\u001b[0mos\u001b[0m\u001b[0;34m.\u001b[0m\u001b[0mpath\u001b[0m\u001b[0;34m.\u001b[0m\u001b[0mjoin\u001b[0m\u001b[0;34m(\u001b[0m\u001b[0margs\u001b[0m\u001b[0;34m.\u001b[0m\u001b[0mtrain\u001b[0m\u001b[0;34m,\u001b[0m \u001b[0;34m\"data.pickle\"\u001b[0m\u001b[0;34m)\u001b[0m\u001b[0;34m,\u001b[0m \u001b[0;34m'rb'\u001b[0m\u001b[0;34m)\u001b[0m \u001b[0;32mas\u001b[0m \u001b[0mhandle\u001b[0m\u001b[0;34m:\u001b[0m\u001b[0;34m\u001b[0m\u001b[0m\n\u001b[0m\u001b[1;32m      2\u001b[0m     \u001b[0mdata\u001b[0m \u001b[0;34m=\u001b[0m \u001b[0mpkl\u001b[0m\u001b[0;34m.\u001b[0m\u001b[0mload\u001b[0m\u001b[0;34m(\u001b[0m\u001b[0mhandle\u001b[0m\u001b[0;34m)\u001b[0m\u001b[0;34m\u001b[0m\u001b[0m\n",
      "\u001b[0;31mNameError\u001b[0m: name 'os' is not defined"
     ]
    }
   ],
   "source": [
    "with open(os.path.join(args.train, \"data.pickle\"), 'rb') as handle:\n",
    "    data = pkl.load(handle)"
   ]
  },
  {
   "cell_type": "code",
   "execution_count": 82,
   "metadata": {},
   "outputs": [],
   "source": [
    "import argparse\n",
    "import pandas as pd\n",
    "import os\n",
    "import pickle as pkl \n",
    "\n",
    "from sklearn.neural_network import MLPClassifier\n",
    "from sklearn.externals import joblib\n",
    "\n",
    "\n",
    "if __name__ == '__main__':\n",
    "    \n",
    "    parser = argparse.ArgumentParser()\n",
    "\n",
    "    # Hyperparameters are described here. In this simple example we are just including one hyperparameter.\n",
    "    parser.add_argument('--solver', type=str, default='lbfgs')\n",
    "    parser.add_argument('--alpha', type=float, default= .00001)\n",
    "    parser.add_argument('--hidden_layer_sizes', type=tuple, default= (10,))\n",
    "    parser.add_argument('--random_state', type=int, default= 1)\n",
    "    \n",
    "\n",
    "    # Sagemaker specific arguments. Defaults are set in the environment variables.\n",
    "    parser.add_argument('--output-data-dir', type=str, default=os.environ['SM_OUTPUT_DATA_DIR'])\n",
    "    parser.add_argument('--model-dir', type=str, default=os.environ['SM_MODEL_DIR'])\n",
    "    parser.add_argument('--train', type=str, default=os.environ['SM_CHANNEL_TRAIN'])\n",
    "\n",
    "    args, unknown = parser.parse_known_args()\n",
    "\n",
    "    # Take the set of files and read them all into a single pandas dataframe\n",
    "    with open(os.path.join(args.train, \"data.pickle\"), 'rb') as handle:\n",
    "        data = pkl.load(handle)\n",
    "\n",
    "    # labels are in the first column\n",
    "    train_y = data['label']\n",
    "    train_X = data['data']\n",
    "\n",
    "    # Now use scikit-learn's NN to train the model.\n",
    "    model = MLPClassifier(solver=args.solver, \n",
    "                       alpha=args.alpha, \n",
    "                       hidden_layer_sizes=args.hidden_layer_sizes, \n",
    "                       random_state=args.random_state)\n",
    "    \n",
    "    model = model.fit(train_X, train_y)\n",
    "\n",
    "    # Print the coefficients of the trained classifier, and save the coefficients\n",
    "    joblib.dump(model, os.path.join(args.model_dir, \"model.joblib\"))\n",
    "    \n",
    "def model_fn(model_dir):\n",
    "    \"\"\"Deserialized and return fitted model\n",
    "\n",
    "    Note that this should have the same name as the serialized model in the main method\n",
    "    \"\"\"\n",
    "    model = joblib.load(os.path.join(model_dir, \"model.joblib\"))\n",
    "    return model"
   ]
  },
  {
   "cell_type": "code",
   "execution_count": 3,
   "metadata": {},
   "outputs": [],
   "source": [
    "from sagemaker.sklearn.estimator import SKLearn\n",
    "\n",
    "script_path = './model/model.py'\n",
    "\n",
    "sklearn = SKLearn(\n",
    "    entry_point=script_path,\n",
    "    train_instance_type=\"ml.m4.xlarge\",\n",
    "    role=role,\n",
    "    sagemaker_session=sagemaker_session\n",
    "    #hyperparameters={'max_leaf_nodes': 30}\n",
    ")"
   ]
  },
  {
   "cell_type": "code",
   "execution_count": 4,
   "metadata": {},
   "outputs": [],
   "source": [
    "import sagemaker\n",
    "from sagemaker import get_execution_role\n",
    "\n",
    "sagemaker_session = sagemaker.Session()\n",
    "role=sagemaker.get_execution_role()\n",
    "inputs = sagemaker_session.upload_data(path='data', key_prefix='data/data.pickle', bucket='video-facerecogproj')\n"
   ]
  },
  {
   "cell_type": "code",
   "execution_count": 5,
   "metadata": {},
   "outputs": [
    {
     "name": "stdout",
     "output_type": "stream",
     "text": [
      "2020-04-25 05:05:05 Starting - Starting the training job...\n",
      "2020-04-25 05:05:07 Starting - Launching requested ML instances......\n",
      "2020-04-25 05:06:15 Starting - Preparing the instances for training......\n",
      "2020-04-25 05:07:11 Downloading - Downloading input data...\n",
      "2020-04-25 05:07:54 Training - Downloading the training image..\u001b[34m2020-04-25 05:08:13,628 sagemaker-containers INFO     Imported framework sagemaker_sklearn_container.training\u001b[0m\n",
      "\u001b[34m2020-04-25 05:08:13,634 sagemaker-containers INFO     No GPUs detected (normal if no gpus installed)\u001b[0m\n",
      "\u001b[34m2020-04-25 05:08:13,658 sagemaker_sklearn_container.training INFO     Invoking user training script.\u001b[0m\n",
      "\u001b[34m2020-04-25 05:08:13,961 sagemaker-containers INFO     Module model does not provide a setup.py. \u001b[0m\n",
      "\u001b[34mGenerating setup.py\u001b[0m\n",
      "\u001b[34m2020-04-25 05:08:13,961 sagemaker-containers INFO     Generating setup.cfg\u001b[0m\n",
      "\u001b[34m2020-04-25 05:08:13,961 sagemaker-containers INFO     Generating MANIFEST.in\u001b[0m\n",
      "\u001b[34m2020-04-25 05:08:13,962 sagemaker-containers INFO     Installing module with the following command:\u001b[0m\n",
      "\u001b[34m/miniconda3/bin/python -m pip install . \u001b[0m\n",
      "\u001b[34mProcessing /opt/ml/code\u001b[0m\n",
      "\u001b[34mBuilding wheels for collected packages: model\n",
      "  Building wheel for model (setup.py): started\n",
      "  Building wheel for model (setup.py): finished with status 'done'\n",
      "  Created wheel for model: filename=model-1.0.0-py2.py3-none-any.whl size=5752 sha256=659ba643f567921710855784cbe52d6266062bc43dd03d71c52d123ede891024\n",
      "  Stored in directory: /tmp/pip-ephem-wheel-cache-8a50smy6/wheels/35/24/16/37574d11bf9bde50616c67372a334f94fa8356bc7164af8ca3\u001b[0m\n",
      "\u001b[34mSuccessfully built model\u001b[0m\n",
      "\u001b[34mInstalling collected packages: model\u001b[0m\n",
      "\u001b[34mSuccessfully installed model-1.0.0\u001b[0m\n",
      "\u001b[34m2020-04-25 05:08:15,382 sagemaker-containers INFO     No GPUs detected (normal if no gpus installed)\u001b[0m\n",
      "\u001b[34m2020-04-25 05:08:15,394 sagemaker-containers INFO     Invoking user script\n",
      "\u001b[0m\n",
      "\u001b[34mTraining Env:\n",
      "\u001b[0m\n",
      "\u001b[34m{\n",
      "    \"additional_framework_parameters\": {},\n",
      "    \"channel_input_dirs\": {\n",
      "        \"train\": \"/opt/ml/input/data/train\"\n",
      "    },\n",
      "    \"current_host\": \"algo-1\",\n",
      "    \"framework_module\": \"sagemaker_sklearn_container.training:main\",\n",
      "    \"hosts\": [\n",
      "        \"algo-1\"\n",
      "    ],\n",
      "    \"hyperparameters\": {},\n",
      "    \"input_config_dir\": \"/opt/ml/input/config\",\n",
      "    \"input_data_config\": {\n",
      "        \"train\": {\n",
      "            \"TrainingInputMode\": \"File\",\n",
      "            \"S3DistributionType\": \"FullyReplicated\",\n",
      "            \"RecordWrapperType\": \"None\"\n",
      "        }\n",
      "    },\n",
      "    \"input_dir\": \"/opt/ml/input\",\n",
      "    \"is_master\": true,\n",
      "    \"job_name\": \"sagemaker-scikit-learn-2020-04-25-05-05-04-962\",\n",
      "    \"log_level\": 20,\n",
      "    \"master_hostname\": \"algo-1\",\n",
      "    \"model_dir\": \"/opt/ml/model\",\n",
      "    \"module_dir\": \"s3://sagemaker-us-east-1-706015522303/sagemaker-scikit-learn-2020-04-25-05-05-04-962/source/sourcedir.tar.gz\",\n",
      "    \"module_name\": \"model\",\n",
      "    \"network_interface_name\": \"eth0\",\n",
      "    \"num_cpus\": 4,\n",
      "    \"num_gpus\": 0,\n",
      "    \"output_data_dir\": \"/opt/ml/output/data\",\n",
      "    \"output_dir\": \"/opt/ml/output\",\n",
      "    \"output_intermediate_dir\": \"/opt/ml/output/intermediate\",\n",
      "    \"resource_config\": {\n",
      "        \"current_host\": \"algo-1\",\n",
      "        \"hosts\": [\n",
      "            \"algo-1\"\n",
      "        ],\n",
      "        \"network_interface_name\": \"eth0\"\n",
      "    },\n",
      "    \"user_entry_point\": \"model.py\"\u001b[0m\n",
      "\u001b[34m}\n",
      "\u001b[0m\n",
      "\u001b[34mEnvironment variables:\n",
      "\u001b[0m\n",
      "\u001b[34mSM_HOSTS=[\"algo-1\"]\u001b[0m\n",
      "\u001b[34mSM_NETWORK_INTERFACE_NAME=eth0\u001b[0m\n",
      "\u001b[34mSM_HPS={}\u001b[0m\n",
      "\u001b[34mSM_USER_ENTRY_POINT=model.py\u001b[0m\n",
      "\u001b[34mSM_FRAMEWORK_PARAMS={}\u001b[0m\n",
      "\u001b[34mSM_RESOURCE_CONFIG={\"current_host\":\"algo-1\",\"hosts\":[\"algo-1\"],\"network_interface_name\":\"eth0\"}\u001b[0m\n",
      "\u001b[34mSM_INPUT_DATA_CONFIG={\"train\":{\"RecordWrapperType\":\"None\",\"S3DistributionType\":\"FullyReplicated\",\"TrainingInputMode\":\"File\"}}\u001b[0m\n",
      "\u001b[34mSM_OUTPUT_DATA_DIR=/opt/ml/output/data\u001b[0m\n",
      "\u001b[34mSM_CHANNELS=[\"train\"]\u001b[0m\n",
      "\u001b[34mSM_CURRENT_HOST=algo-1\u001b[0m\n",
      "\u001b[34mSM_MODULE_NAME=model\u001b[0m\n",
      "\u001b[34mSM_LOG_LEVEL=20\u001b[0m\n",
      "\u001b[34mSM_FRAMEWORK_MODULE=sagemaker_sklearn_container.training:main\u001b[0m\n",
      "\u001b[34mSM_INPUT_DIR=/opt/ml/input\u001b[0m\n",
      "\u001b[34mSM_INPUT_CONFIG_DIR=/opt/ml/input/config\u001b[0m\n",
      "\u001b[34mSM_OUTPUT_DIR=/opt/ml/output\u001b[0m\n",
      "\u001b[34mSM_NUM_CPUS=4\u001b[0m\n",
      "\u001b[34mSM_NUM_GPUS=0\u001b[0m\n",
      "\u001b[34mSM_MODEL_DIR=/opt/ml/model\u001b[0m\n",
      "\u001b[34mSM_MODULE_DIR=s3://sagemaker-us-east-1-706015522303/sagemaker-scikit-learn-2020-04-25-05-05-04-962/source/sourcedir.tar.gz\u001b[0m\n",
      "\u001b[34mSM_TRAINING_ENV={\"additional_framework_parameters\":{},\"channel_input_dirs\":{\"train\":\"/opt/ml/input/data/train\"},\"current_host\":\"algo-1\",\"framework_module\":\"sagemaker_sklearn_container.training:main\",\"hosts\":[\"algo-1\"],\"hyperparameters\":{},\"input_config_dir\":\"/opt/ml/input/config\",\"input_data_config\":{\"train\":{\"RecordWrapperType\":\"None\",\"S3DistributionType\":\"FullyReplicated\",\"TrainingInputMode\":\"File\"}},\"input_dir\":\"/opt/ml/input\",\"is_master\":true,\"job_name\":\"sagemaker-scikit-learn-2020-04-25-05-05-04-962\",\"log_level\":20,\"master_hostname\":\"algo-1\",\"model_dir\":\"/opt/ml/model\",\"module_dir\":\"s3://sagemaker-us-east-1-706015522303/sagemaker-scikit-learn-2020-04-25-05-05-04-962/source/sourcedir.tar.gz\",\"module_name\":\"model\",\"network_interface_name\":\"eth0\",\"num_cpus\":4,\"num_gpus\":0,\"output_data_dir\":\"/opt/ml/output/data\",\"output_dir\":\"/opt/ml/output\",\"output_intermediate_dir\":\"/opt/ml/output/intermediate\",\"resource_config\":{\"current_host\":\"algo-1\",\"hosts\":[\"algo-1\"],\"network_interface_name\":\"eth0\"},\"user_entry_point\":\"model.py\"}\u001b[0m\n",
      "\u001b[34mSM_USER_ARGS=[]\u001b[0m\n",
      "\u001b[34mSM_OUTPUT_INTERMEDIATE_DIR=/opt/ml/output/intermediate\u001b[0m\n",
      "\u001b[34mSM_CHANNEL_TRAIN=/opt/ml/input/data/train\u001b[0m\n",
      "\u001b[34mPYTHONPATH=/miniconda3/bin:/miniconda3/lib/python37.zip:/miniconda3/lib/python3.7:/miniconda3/lib/python3.7/lib-dynload:/miniconda3/lib/python3.7/site-packages\n",
      "\u001b[0m\n",
      "\u001b[34mInvoking script with the following command:\n",
      "\u001b[0m\n",
      "\u001b[34m/miniconda3/bin/python -m model\n",
      "\n",
      "\u001b[0m\n",
      "\u001b[34m/miniconda3/lib/python3.7/site-packages/sklearn/externals/joblib/externals/cloudpickle/cloudpickle.py:47: DeprecationWarning: the imp module is deprecated in favour of importlib; see the module's documentation for alternative uses\n",
      "  import imp\u001b[0m\n",
      "\u001b[34m2020-04-25 05:08:16,675 sagemaker-containers INFO     Reporting training SUCCESS\u001b[0m\n",
      "\n",
      "2020-04-25 05:08:25 Uploading - Uploading generated training model\n",
      "2020-04-25 05:08:25 Completed - Training job completed\n",
      "Training seconds: 74\n",
      "Billable seconds: 74\n"
     ]
    }
   ],
   "source": [
    "sklearn.fit({'train': inputs})"
   ]
  },
  {
   "cell_type": "code",
   "execution_count": 7,
   "metadata": {},
   "outputs": [
    {
     "name": "stdout",
     "output_type": "stream",
     "text": [
      "---------------!"
     ]
    }
   ],
   "source": [
    "predictor = sklearn.deploy(initial_instance_count=1, instance_type=\"ml.m4.xlarge\")"
   ]
  },
  {
   "cell_type": "code",
   "execution_count": 13,
   "metadata": {},
   "outputs": [],
   "source": [
    "import os\n",
    "import pickle as pkl\n",
    "with open(os.path.join(\"data/\", \"data.pickle\"), 'rb') as handle:\n",
    "    data = pkl.load(handle)"
   ]
  },
  {
   "cell_type": "code",
   "execution_count": 16,
   "metadata": {},
   "outputs": [],
   "source": [
    "train = data['data']\n",
    "label = data['label']"
   ]
  },
  {
   "cell_type": "code",
   "execution_count": 19,
   "metadata": {},
   "outputs": [
    {
     "name": "stdout",
     "output_type": "stream",
     "text": [
      "['Joaquin' 'Joaquin' 'Joaquin' 'Joaquin' 'Joaquin' 'Joaquin' 'Joaquin'\n",
      " 'Joaquin' 'Joaquin' 'Joaquin']\n"
     ]
    }
   ],
   "source": [
    "print(predictor.predict(train[:10]))"
   ]
  },
  {
   "cell_type": "code",
   "execution_count": 20,
   "metadata": {},
   "outputs": [
    {
     "name": "stdout",
     "output_type": "stream",
     "text": [
      "['Joaquin', 'Joaquin', 'Joaquin', 'Joaquin', 'Joaquin', 'Joaquin', 'Joaquin', 'Joaquin', 'Joaquin', 'Joaquin']\n"
     ]
    }
   ],
   "source": [
    "print(label[:10])"
   ]
  },
  {
   "cell_type": "code",
   "execution_count": 21,
   "metadata": {},
   "outputs": [],
   "source": [
    "sklearn.delete_endpoint()"
   ]
  },
  {
   "cell_type": "code",
   "execution_count": null,
   "metadata": {},
   "outputs": [],
   "source": []
  }
 ],
 "metadata": {
  "kernelspec": {
   "display_name": "conda_pytorch_p36",
   "language": "python",
   "name": "conda_pytorch_p36"
  },
  "language_info": {
   "codemirror_mode": {
    "name": "ipython",
    "version": 3
   },
   "file_extension": ".py",
   "mimetype": "text/x-python",
   "name": "python",
   "nbconvert_exporter": "python",
   "pygments_lexer": "ipython3",
   "version": "3.6.5"
  }
 },
 "nbformat": 4,
 "nbformat_minor": 4
}
