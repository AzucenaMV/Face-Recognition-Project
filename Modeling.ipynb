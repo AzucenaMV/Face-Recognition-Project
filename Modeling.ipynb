{
 "cells": [
  {
   "cell_type": "code",
   "execution_count": 1,
   "metadata": {},
   "outputs": [
    {
     "name": "stdout",
     "output_type": "stream",
     "text": [
      "Requirement already up-to-date: pip in /home/ec2-user/anaconda3/envs/pytorch_p36/lib/python3.6/site-packages (20.0.2)\n",
      "Requirement already satisfied: facenet_pytorch in /home/ec2-user/anaconda3/envs/pytorch_p36/lib/python3.6/site-packages (2.2.9)\n",
      "Requirement already satisfied: numpy in /home/ec2-user/anaconda3/envs/pytorch_p36/lib/python3.6/site-packages (from facenet_pytorch) (1.15.4)\n",
      "Requirement already satisfied: requests in /home/ec2-user/anaconda3/envs/pytorch_p36/lib/python3.6/site-packages (from facenet_pytorch) (2.20.0)\n",
      "Requirement already satisfied: certifi>=2017.4.17 in /home/ec2-user/anaconda3/envs/pytorch_p36/lib/python3.6/site-packages (from requests->facenet_pytorch) (2019.11.28)\n",
      "Requirement already satisfied: urllib3<1.25,>=1.21.1 in /home/ec2-user/anaconda3/envs/pytorch_p36/lib/python3.6/site-packages (from requests->facenet_pytorch) (1.23)\n",
      "Requirement already satisfied: idna<2.8,>=2.5 in /home/ec2-user/anaconda3/envs/pytorch_p36/lib/python3.6/site-packages (from requests->facenet_pytorch) (2.6)\n",
      "Requirement already satisfied: chardet<3.1.0,>=3.0.2 in /home/ec2-user/anaconda3/envs/pytorch_p36/lib/python3.6/site-packages (from requests->facenet_pytorch) (3.0.4)\n"
     ]
    }
   ],
   "source": [
    "# Change this to Lifecycle Configurations\n",
    "!pip install --upgrade pip\n",
    "!pip install facenet_pytorch"
   ]
  },
  {
   "cell_type": "code",
   "execution_count": 2,
   "metadata": {},
   "outputs": [],
   "source": [
    "from facenet_pytorch import InceptionResnetV1, MTCNN"
   ]
  },
  {
   "cell_type": "markdown",
   "metadata": {},
   "source": [
    "## Download images from bucket"
   ]
  },
  {
   "cell_type": "code",
   "execution_count": 3,
   "metadata": {},
   "outputs": [],
   "source": [
    "import boto3\n",
    "import botocore\n",
    "\n",
    "BUCKET_NAME = 'images-facerecogproj'\n",
    "s3_res = boto3.resource('s3')"
   ]
  },
  {
   "cell_type": "code",
   "execution_count": 4,
   "metadata": {},
   "outputs": [],
   "source": [
    "import re\n",
    "import boto3\n",
    "import os\n",
    "\n",
    "def get_s3_keys(bucket):\n",
    "    \"\"\"Get a list of keys in an S3 bucket.\"\"\"\n",
    "    keys = []\n",
    "    s3 = boto3.client('s3')\n",
    "    resp = s3.list_objects_v2(Bucket= bucket)\n",
    "    for obj in resp['Contents']:\n",
    "        keys.append(obj['Key'])\n",
    "    return keys\n",
    "\n",
    "def download_keys(keys, file, bucket, verbose = False):\n",
    "    \"\"\" Download all the keys in a list to file\"\"\"\n",
    "    create_dirs(keys, file)\n",
    "    s3 = boto3.client('s3')\n",
    "    for i,key in enumerate(keys):\n",
    "        if verbose:\n",
    "            print(key)\n",
    "        try:\n",
    "            # download as local file\n",
    "            s3.download_file(bucket, key, os.path.join(file,key))\n",
    "            \n",
    "        except botocore.exceptions.ClientError as e:\n",
    "            if e.response['Error']['Code'] == \"404\":\n",
    "                print(\"The object does not exist.\")\n",
    "            else:\n",
    "                raise\n",
    "    return print(\"{} files were downloaded!\".format(i))\n",
    "\n",
    "def create_dirs(keys, file):\n",
    "    \"\"\" Given a set of keys will create the needed files\"\"\"\n",
    "    if not os.path.exists(file):\n",
    "        os.mkdir(file)\n",
    "        \n",
    "    folders = [re.split(\"/\", key)[:-1] for key in keys]\n",
    "    unique_folders = [list(x) for x in set(tuple(x) for x in folders)]\n",
    "    success = 0\n",
    "    for folders in unique_folders:\n",
    "        path = os.path.join(file,\"/\".join(folders))\n",
    "        if not os.path.exists(path):\n",
    "            os.makedirs(path)\n",
    "            success += 1\n",
    "    return print(\"{} Folders were created\".format(success))"
   ]
  },
  {
   "cell_type": "code",
   "execution_count": 5,
   "metadata": {},
   "outputs": [],
   "source": [
    "keys = get_s3_keys(BUCKET_NAME)"
   ]
  },
  {
   "cell_type": "code",
   "execution_count": 6,
   "metadata": {},
   "outputs": [
    {
     "name": "stdout",
     "output_type": "stream",
     "text": [
      "0 Folders were created\n",
      "170 files were downloaded!\n"
     ]
    }
   ],
   "source": [
    "download_keys(keys,\"Images\",\"images-facerecogproj\")"
   ]
  },
  {
   "cell_type": "markdown",
   "metadata": {},
   "source": [
    "## Preprocessing"
   ]
  },
  {
   "cell_type": "markdown",
   "metadata": {},
   "source": [
    "### Cropping the faces of the images"
   ]
  },
  {
   "cell_type": "code",
   "execution_count": 9,
   "metadata": {},
   "outputs": [],
   "source": [
    "import cv2\n",
    "\n",
    "def crop(input_img):\n",
    "    '''\n",
    "    Crop an image given a file \n",
    "    \n",
    "    Args:\n",
    "       input_img (str): Name of the directory of the image\n",
    "\n",
    "    Returns:\n",
    "       img_cropped (numpy): A numpy array of a cropped image\n",
    "    '''\n",
    "    img = cv2.imread(input_img)\n",
    "    img = cv2.cvtColor(img, cv2.COLOR_BGR2RGB)\n",
    "    mtcnn = MTCNN(select_largest=False, post_process = False, margin = 50)\n",
    "    img_cropped = mtcnn(img)\n",
    "    if img_cropped is None:\n",
    "        print(f'Face not detected in file {input_img}')\n",
    "        return\n",
    "    img_cropped = img_cropped.permute(1, 2, 0).int().numpy() \n",
    "    return img_cropped\n",
    "\n",
    "def cropAllAux(file_dir, output_dir, keys = None):\n",
    "    \"\"\"\n",
    "    Crop all the functions given a directory and save it locally or in a bucket\n",
    "\n",
    "    Args:\n",
    "       file_dir (str): Name of the directory that contains all images\n",
    "       output_dir (str): Name of the directory or bucket were the images should be saved\n",
    "       keys (json): Json with credential keys\n",
    "\n",
    "\n",
    "    Returns:\n",
    "       Print statement\n",
    "    \"\"\"\n",
    "     # It creates the folder if it does not exist\n",
    "    if not keys:\n",
    "        os.makedirs(output_dir, exist_ok= True)\n",
    "        \n",
    "    for file in os.listdir(file_dir):\n",
    "        if \".jpg\" in file:\n",
    "            user = re.sub(\"_.*$\",\"\",file)\n",
    "            img_cropped = crop(os.path.join(file_dir,file))\n",
    "            if img_cropped is not None:\n",
    "                if not keys:\n",
    "                    os.makedirs(os.path.join(output_dir,user), exist_ok= True)\n",
    "                    #print(\"Saving file {file} in directory {out}\".format(file = file, out = output_dir))\n",
    "                    cv2.imwrite(os.path.join(output_dir,user,file),img_cropped)\n",
    "                else:\n",
    "                    tmp_file = \"tmp_\"+file\n",
    "                    tmp_path = os.path.join(os.getcwd(),tmp_file)\n",
    "                    cv2.imwrite(tmp_file, img_cropped) \n",
    "                    try:\n",
    "                        # Uploading to the bucket\n",
    "                        print(\"Saving file {file} in bucket {out}\".format(file = file, out = output_dir))\n",
    "                        uploadBucket(tmp_path, output_dir, file, keys = keys)\n",
    "                        os.remove(tmp_path) \n",
    "                    except: \n",
    "                        print(\"error\")        \n",
    "    return print(\"Done!\")\n",
    "\n",
    "def cropAll(file_dir, output_dir, keys = None):\n",
    "    \"\"\"\n",
    "    Crop all the functions given a directory and save it locally or in a bucket\n",
    "\n",
    "    Args:\n",
    "       file_dir (str): Name of the directory that contains all images\n",
    "       output_dir (str): Name of the directory or bucket were the images should be saved\n",
    "       keys (json): Json with credential keys\n",
    "\n",
    "\n",
    "    Returns:\n",
    "       Print statement\n",
    "    \"\"\"\n",
    "     # It creates the folder if it does not exist\n",
    "    for roots,dirs,files in os.walk(file_dir):\n",
    "        cropAllAux(roots, output_dir, keys = None)\n",
    "    return print(\"Done!\")"
   ]
  },
  {
   "cell_type": "code",
   "execution_count": 10,
   "metadata": {},
   "outputs": [
    {
     "name": "stdout",
     "output_type": "stream",
     "text": [
      "Done!\n",
      "Face not detected in file Images/Azucena/Azucena_6.jpg\n",
      "Face not detected in file Images/Azucena/Azucena_36.jpg\n",
      "Face not detected in file Images/Azucena/Azucena_8.jpg\n",
      "Face not detected in file Images/Azucena/Azucena_56.jpg\n",
      "Face not detected in file Images/Azucena/Azucena_16.jpg\n",
      "Face not detected in file Images/Azucena/Azucena_14.jpg\n",
      "Face not detected in file Images/Azucena/Azucena_33.jpg\n",
      "Face not detected in file Images/Azucena/Azucena_15.jpg\n",
      "Face not detected in file Images/Azucena/Azucena_9.jpg\n",
      "Face not detected in file Images/Azucena/Azucena_34.jpg\n",
      "Face not detected in file Images/Azucena/Azucena_17.jpg\n",
      "Face not detected in file Images/Azucena/Azucena_18.jpg\n",
      "Face not detected in file Images/Azucena/Azucena_55.jpg\n",
      "Face not detected in file Images/Azucena/Azucena_25.jpg\n",
      "Face not detected in file Images/Azucena/Azucena_23.jpg\n",
      "Face not detected in file Images/Azucena/Azucena_54.jpg\n",
      "Face not detected in file Images/Azucena/Azucena_35.jpg\n",
      "Face not detected in file Images/Azucena/Azucena_53.jpg\n",
      "Face not detected in file Images/Azucena/Azucena_32.jpg\n",
      "Done!\n",
      "Done!\n",
      "Face not detected in file Images/Iuliia/Iuliia_7.jpg\n",
      "Face not detected in file Images/Iuliia/Iuliia_30.jpg\n",
      "Face not detected in file Images/Iuliia/Iuliia_8.jpg\n",
      "Face not detected in file Images/Iuliia/Iuliia_3.jpg\n",
      "Done!\n",
      "Done!\n",
      "Done!\n"
     ]
    }
   ],
   "source": [
    "cropAll(\"Images\", \"Face\", keys = None)"
   ]
  },
  {
   "cell_type": "markdown",
   "metadata": {},
   "source": [
    "### Get the embbedings of the faces"
   ]
  },
  {
   "cell_type": "code",
   "execution_count": 11,
   "metadata": {},
   "outputs": [],
   "source": [
    "from facenet_pytorch import InceptionResnetV1, MTCNN\n",
    "from sklearn.svm import SVC\n",
    "from sklearn.metrics import accuracy_score\n",
    "import os\n",
    "import argparse\n",
    "import cv2\n",
    "import torch\n",
    "from PIL import Image\n",
    "import torchvision.transforms as transforms\n",
    "import re\n",
    "import random "
   ]
  },
  {
   "cell_type": "code",
   "execution_count": 12,
   "metadata": {},
   "outputs": [],
   "source": [
    "resnet = InceptionResnetV1(pretrained='vggface2').eval()"
   ]
  },
  {
   "cell_type": "code",
   "execution_count": 13,
   "metadata": {},
   "outputs": [],
   "source": [
    "def readFaces(file,model,tensor = False):\n",
    "    face_dict = {}\n",
    "    for roots,dirs,files in os.walk(file):\n",
    "        emb_list = []\n",
    "        for file in files:\n",
    "            if '.jpg' in file:\n",
    "                print(file)\n",
    "                path = os.path.join(roots,file)\n",
    "                img_emb = embeddings(path,model)\n",
    "                if not tensor:\n",
    "                    img_emb = img_emb.detach().numpy()\n",
    "                    emb_list.append(img_emb)\n",
    "        face_dict[re.sub(\"_.*$\",\"\",file)] = emb_list\n",
    "    train, label = [], []\n",
    "    for key, values in face_dict.items():\n",
    "        for val in values:\n",
    "            train.append(val)\n",
    "            label.append(key)\n",
    "    return train, label\n",
    "        \n",
    "\n",
    "def embeddings(file, model):\n",
    "    img = Image.open(file).convert('RGB')\n",
    "    img_tensor = transforms.functional.to_tensor(img)\n",
    "    embedding = model(img_tensor.unsqueeze(0))[0]\n",
    "    return embedding"
   ]
  },
  {
   "cell_type": "code",
   "execution_count": 14,
   "metadata": {},
   "outputs": [
    {
     "name": "stdout",
     "output_type": "stream",
     "text": [
      "Azucena_12.jpg\n",
      "Azucena_52.jpg\n",
      "Azucena_59.jpg\n",
      "Azucena_11-checkpoint.jpg\n",
      "Azucena_47.jpg\n",
      "Azucena_64.jpg\n",
      "Azucena_61.jpg\n",
      "Azucena_26.jpg\n",
      "Azucena_60.jpg\n",
      "Azucena_11.jpg\n",
      "Azucena_58.jpg\n",
      "Azucena_62.jpg\n",
      "Azucena_20.jpg\n",
      "Azucena_44.jpg\n",
      "Azucena_45.jpg\n",
      "Azucena_7.jpg\n",
      "Azucena_4.jpg\n",
      "Azucena_27.jpg\n",
      "Azucena_1.jpg\n",
      "Azucena_22.jpg\n",
      "Azucena_38.jpg\n",
      "Azucena_42.jpg\n",
      "Azucena_13.jpg\n",
      "Azucena_50.jpg\n",
      "Azucena_49.jpg\n",
      "Azucena_31.jpg\n",
      "Azucena_57.jpg\n",
      "Azucena_40.jpg\n",
      "Azucena_39.jpg\n",
      "Azucena_43.jpg\n",
      "Azucena_10.jpg\n",
      "Azucena_29.jpg\n",
      "Azucena_2.jpg\n",
      "Azucena_51.jpg\n",
      "Azucena_46.jpg\n",
      "Azucena_65.jpg\n",
      "Azucena_21.jpg\n",
      "Azucena_41.jpg\n",
      "Azucena_3.jpg\n",
      "Azucena_37.jpg\n",
      "Azucena_24.jpg\n",
      "Azucena_19.jpg\n",
      "Azucena_63.jpg\n",
      "Azucena_5.jpg\n",
      "Azucena_48.jpg\n",
      "Azucena_30.jpg\n",
      "Azucena_28.jpg\n",
      "Iuliia_4.jpg\n",
      "Iuliia_28.jpg\n",
      "Iuliia_24.jpg\n",
      "Iuliia_31.jpg\n",
      "Iuliia_21.jpg\n",
      "Iuliia_13.jpg\n",
      "Iuliia_12.jpg\n",
      "Iuliia_26.jpg\n",
      "Iuliia_36.jpg\n",
      "Iuliia_22.jpg\n",
      "Iuliia_5.jpg\n",
      "Iuliia_2.jpg\n",
      "Iuliia_33.jpg\n",
      "Iuliia_29.jpg\n",
      "Iuliia_34.jpg\n",
      "Iuliia_17.jpg\n",
      "Iuliia_23.jpg\n",
      "Iuliia_16.jpg\n",
      "Iuliia_11.jpg\n",
      "Iuliia_20.jpg\n",
      "Iuliia_25.jpg\n",
      "Iuliia_19.jpg\n",
      "Iuliia_18.jpg\n",
      "Iuliia_9.jpg\n",
      "Iuliia_6.jpg\n",
      "Iuliia_27.jpg\n",
      "Iuliia_35.jpg\n",
      "Iuliia_1.jpg\n",
      "Iuliia_32.jpg\n",
      "Iuliia_14.jpg\n",
      "Iuliia_15.jpg\n",
      "Iuliia_10.jpg\n",
      "Joaquin_26.jpg\n",
      "Joaquin_41.jpg\n",
      "Joaquin_67.jpg\n",
      "Joaquin_50.jpg\n",
      "Joaquin_61.jpg\n",
      "Joaquin_27.jpg\n",
      "Joaquin_57.jpg\n",
      "Joaquin_43.jpg\n",
      "Joaquin_8.jpg\n",
      "Joaquin_3.jpg\n",
      "Joaquin_30.jpg\n",
      "Joaquin_44.jpg\n",
      "Joaquin_39.jpg\n",
      "Joaquin_29.jpg\n",
      "Joaquin_36.jpg\n",
      "Joaquin_12.jpg\n",
      "Joaquin_48.jpg\n",
      "Joaquin_65.jpg\n",
      "Joaquin_62.jpg\n",
      "Joaquin_49.jpg\n",
      "Joaquin_60.jpg\n",
      "Joaquin_33.jpg\n",
      "Joaquin_70.jpg\n",
      "Joaquin_45.jpg\n",
      "Joaquin_31.jpg\n",
      "Joaquin_19.jpg\n",
      "Joaquin_56.jpg\n",
      "Joaquin_38.jpg\n",
      "Joaquin_59.jpg\n",
      "Joaquin_6.jpg\n",
      "Joaquin_63.jpg\n",
      "Joaquin_40.jpg\n",
      "Joaquin_14.jpg\n",
      "Joaquin_53.jpg\n",
      "Joaquin_52.jpg\n",
      "Joaquin_18.jpg\n",
      "Joaquin_34.jpg\n",
      "Joaquin_42.jpg\n",
      "Joaquin_5.jpg\n",
      "Joaquin_20.jpg\n",
      "Joaquin_35.jpg\n",
      "Joaquin_69.jpg\n",
      "Joaquin_25.jpg\n",
      "Joaquin_51.jpg\n",
      "Joaquin_32.jpg\n",
      "Joaquin_13.jpg\n",
      "Joaquin_17.jpg\n",
      "Joaquin_1.jpg\n",
      "Joaquin_58.jpg\n",
      "Joaquin_66.jpg\n",
      "Joaquin_4.jpg\n",
      "Joaquin_46.jpg\n",
      "Joaquin_37.jpg\n",
      "Joaquin_16.jpg\n",
      "Joaquin_64.jpg\n",
      "Joaquin_9.jpg\n",
      "Joaquin_22.jpg\n",
      "Joaquin_23.jpg\n",
      "Joaquin_28.jpg\n",
      "Joaquin_68.jpg\n",
      "Joaquin_55.jpg\n",
      "Joaquin_2.jpg\n",
      "Joaquin_47.jpg\n",
      "Joaquin_54.jpg\n",
      "Joaquin_7.jpg\n",
      "Joaquin_15.jpg\n",
      "Joaquin_11.jpg\n",
      "Joaquin_21.jpg\n",
      "Joaquin_10.jpg\n",
      "Joaquin_24.jpg\n"
     ]
    }
   ],
   "source": [
    "train, label = readFaces(\"./Face/\", resnet)"
   ]
  },
  {
   "cell_type": "code",
   "execution_count": 15,
   "metadata": {},
   "outputs": [],
   "source": [
    "# Shuffling the lists\n",
    "temp = list(zip(train, label)) \n",
    "random.shuffle(temp) \n",
    "train_rnd, label_rnd = zip(*temp) \n",
    "train_rnd, label_rnd = list(train_rnd), list(label_rnd)"
   ]
  },
  {
   "cell_type": "code",
   "execution_count": 16,
   "metadata": {},
   "outputs": [],
   "source": [
    "#Splitting training and test\n",
    "test_num = 10\n",
    "testX, testY = train_rnd[-test_num:],label_rnd[-test_num:]\n",
    "trainX, trainY = train_rnd[:-test_num],label_rnd[:-test_num]"
   ]
  },
  {
   "cell_type": "code",
   "execution_count": 17,
   "metadata": {},
   "outputs": [
    {
     "data": {
      "text/plain": [
       "SVC(C=1.0, cache_size=200, class_weight=None, coef0=0.0,\n",
       "  decision_function_shape='ovr', degree=3, gamma='auto_deprecated',\n",
       "  kernel='linear', max_iter=-1, probability=True, random_state=None,\n",
       "  shrinking=True, tol=0.001, verbose=False)"
      ]
     },
     "execution_count": 17,
     "metadata": {},
     "output_type": "execute_result"
    }
   ],
   "source": [
    "# Fitting an SVM model\n",
    "model = SVC(kernel='linear', probability=True)\n",
    "model.fit(trainX, trainY)"
   ]
  },
  {
   "cell_type": "markdown",
   "metadata": {},
   "source": [
    "## Testing"
   ]
  },
  {
   "cell_type": "markdown",
   "metadata": {},
   "source": [
    "#### Testing in the data test"
   ]
  },
  {
   "cell_type": "code",
   "execution_count": 18,
   "metadata": {},
   "outputs": [
    {
     "data": {
      "text/plain": [
       "array([[0.97401945, 0.0114553 , 0.01452525],\n",
       "       [0.9654119 , 0.02120769, 0.01338041],\n",
       "       [0.02165868, 0.01471799, 0.96362333],\n",
       "       [0.0110714 , 0.00649179, 0.98243681],\n",
       "       [0.0210554 , 0.01826512, 0.96067948],\n",
       "       [0.01463834, 0.01244852, 0.97291314],\n",
       "       [0.11329819, 0.85028664, 0.03641517],\n",
       "       [0.97549695, 0.00819438, 0.01630867],\n",
       "       [0.01201156, 0.01241341, 0.97557502],\n",
       "       [0.04396155, 0.92436595, 0.0316725 ]])"
      ]
     },
     "execution_count": 18,
     "metadata": {},
     "output_type": "execute_result"
    }
   ],
   "source": [
    "model.predict_proba(testX)"
   ]
  },
  {
   "cell_type": "code",
   "execution_count": 15,
   "metadata": {},
   "outputs": [],
   "source": [
    "#testY"
   ]
  },
  {
   "cell_type": "markdown",
   "metadata": {},
   "source": [
    "#### Testing in an image from a different person"
   ]
  },
  {
   "cell_type": "code",
   "execution_count": 16,
   "metadata": {},
   "outputs": [],
   "source": [
    "!wget https://upload.wikimedia.org/wikipedia/commons/c/c1/Lionel_Messi_20180626.jpg"
   ]
  },
  {
   "cell_type": "code",
   "execution_count": 19,
   "metadata": {},
   "outputs": [],
   "source": [
    "mtcnn = MTCNN(select_largest=False, post_process = False, margin = 50)"
   ]
  },
  {
   "cell_type": "code",
   "execution_count": 20,
   "metadata": {},
   "outputs": [],
   "source": [
    "img_test = cv2.imread(\"Lionel_Messi_20180626.jpg\")\n",
    "img_test = cv2.cvtColor(img_test, cv2.COLOR_BGR2RGB)\n",
    "img_test_cropped = mtcnn(img_test)\n",
    "test_emb = resnet(img_test_cropped.unsqueeze(0))[0]\n",
    "test_emb = test_emb.detach().numpy()"
   ]
  },
  {
   "cell_type": "code",
   "execution_count": 21,
   "metadata": {},
   "outputs": [
    {
     "data": {
      "text/plain": [
       "array([[0.22798799, 0.04523323, 0.72677878]])"
      ]
     },
     "execution_count": 21,
     "metadata": {},
     "output_type": "execute_result"
    }
   ],
   "source": [
    "model.predict_proba(test_emb.reshape(1,-1))"
   ]
  },
  {
   "cell_type": "markdown",
   "metadata": {},
   "source": [
    "### Upload the data to the bucket"
   ]
  },
  {
   "cell_type": "code",
   "execution_count": 22,
   "metadata": {},
   "outputs": [],
   "source": [
    "import numpy as np\n",
    "import os\n",
    "from sklearn import datasets\n",
    "import pickle as pkl \n",
    "\n",
    "# Load data and join it in a dataframe\n",
    "data = {'data': trainX, \"label\": trainY}\n",
    "\n",
    "# Create directory and write csv\n",
    "os.makedirs('./data', exist_ok=True)\n",
    "\n",
    "with open('./data/data.pickle', 'wb') as handle:\n",
    "    pkl.dump(data, handle, protocol=pkl.HIGHEST_PROTOCOL)"
   ]
  },
  {
   "cell_type": "markdown",
   "metadata": {},
   "source": [
    "### Save the data from the bucket"
   ]
  },
  {
   "cell_type": "code",
   "execution_count": 33,
   "metadata": {},
   "outputs": [],
   "source": [
    "with open(os.path.join(\"./data\", \"data.pickle\"), 'rb') as handle:\n",
    "    data = pkl.load(handle)"
   ]
  },
  {
   "cell_type": "markdown",
   "metadata": {},
   "source": [
    "# Training the model"
   ]
  },
  {
   "cell_type": "code",
   "execution_count": 177,
   "metadata": {},
   "outputs": [],
   "source": [
    "from sagemaker.sklearn.estimator import SKLearn\n",
    "\n",
    "script_path = './model/model.py'\n",
    "\n",
    "sklearn = SKLearn(\n",
    "    entry_point=script_path,\n",
    "    train_instance_type=\"ml.m4.xlarge\",\n",
    "    role=role,\n",
    "    sagemaker_session=sagemaker_session\n",
    "    #hyperparameters={'max_leaf_nodes': 30}\n",
    ")"
   ]
  },
  {
   "cell_type": "code",
   "execution_count": 178,
   "metadata": {},
   "outputs": [],
   "source": [
    "import sagemaker\n",
    "from sagemaker import get_execution_role\n",
    "\n",
    "\n",
    "sagemaker_session = sagemaker.Session()\n",
    "role=sagemaker.get_execution_role()\n",
    "inputs = sagemaker_session.upload_data(path='data', key_prefix='data/data.pickle', bucket='video-facerecogproj')\n"
   ]
  },
  {
   "cell_type": "code",
   "execution_count": 179,
   "metadata": {},
   "outputs": [
    {
     "name": "stdout",
     "output_type": "stream",
     "text": [
      "2020-04-27 18:11:40 Starting - Starting the training job...\n",
      "2020-04-27 18:11:41 Starting - Launching requested ML instances......\n",
      "2020-04-27 18:12:48 Starting - Preparing the instances for training......\n",
      "2020-04-27 18:13:45 Downloading - Downloading input data...\n",
      "2020-04-27 18:14:40 Training - Training image download completed. Training in progress..\u001b[34m2020-04-27 18:14:41,168 sagemaker-containers INFO     Imported framework sagemaker_sklearn_container.training\u001b[0m\n",
      "\u001b[34m2020-04-27 18:14:41,171 sagemaker-containers INFO     No GPUs detected (normal if no gpus installed)\u001b[0m\n",
      "\u001b[34m2020-04-27 18:14:41,183 sagemaker_sklearn_container.training INFO     Invoking user training script.\u001b[0m\n",
      "\u001b[34m2020-04-27 18:14:41,450 sagemaker-containers INFO     Module model does not provide a setup.py. \u001b[0m\n",
      "\u001b[34mGenerating setup.py\u001b[0m\n",
      "\u001b[34m2020-04-27 18:14:41,450 sagemaker-containers INFO     Generating setup.cfg\u001b[0m\n",
      "\u001b[34m2020-04-27 18:14:41,450 sagemaker-containers INFO     Generating MANIFEST.in\u001b[0m\n",
      "\u001b[34m2020-04-27 18:14:41,451 sagemaker-containers INFO     Installing module with the following command:\u001b[0m\n",
      "\u001b[34m/miniconda3/bin/python -m pip install . \u001b[0m\n",
      "\u001b[34mProcessing /opt/ml/code\u001b[0m\n",
      "\u001b[34mBuilding wheels for collected packages: model\n",
      "  Building wheel for model (setup.py): started\n",
      "  Building wheel for model (setup.py): finished with status 'done'\n",
      "  Created wheel for model: filename=model-1.0.0-py2.py3-none-any.whl size=7010 sha256=b4de1c54c77ed495ddf24af30c401d162331ef6826bbf9f29d145f8e9c018bcb\n",
      "  Stored in directory: /tmp/pip-ephem-wheel-cache-u_tcpsx9/wheels/35/24/16/37574d11bf9bde50616c67372a334f94fa8356bc7164af8ca3\u001b[0m\n",
      "\u001b[34mSuccessfully built model\u001b[0m\n",
      "\u001b[34mInstalling collected packages: model\u001b[0m\n",
      "\u001b[34mSuccessfully installed model-1.0.0\u001b[0m\n",
      "\u001b[34m2020-04-27 18:14:43,027 sagemaker-containers INFO     No GPUs detected (normal if no gpus installed)\u001b[0m\n",
      "\u001b[34m2020-04-27 18:14:43,050 sagemaker-containers INFO     Invoking user script\n",
      "\u001b[0m\n",
      "\u001b[34mTraining Env:\n",
      "\u001b[0m\n",
      "\u001b[34m{\n",
      "    \"additional_framework_parameters\": {},\n",
      "    \"channel_input_dirs\": {\n",
      "        \"train\": \"/opt/ml/input/data/train\"\n",
      "    },\n",
      "    \"current_host\": \"algo-1\",\n",
      "    \"framework_module\": \"sagemaker_sklearn_container.training:main\",\n",
      "    \"hosts\": [\n",
      "        \"algo-1\"\n",
      "    ],\n",
      "    \"hyperparameters\": {},\n",
      "    \"input_config_dir\": \"/opt/ml/input/config\",\n",
      "    \"input_data_config\": {\n",
      "        \"train\": {\n",
      "            \"TrainingInputMode\": \"File\",\n",
      "            \"S3DistributionType\": \"FullyReplicated\",\n",
      "            \"RecordWrapperType\": \"None\"\n",
      "        }\n",
      "    },\n",
      "    \"input_dir\": \"/opt/ml/input\",\n",
      "    \"is_master\": true,\n",
      "    \"job_name\": \"sagemaker-scikit-learn-2020-04-27-18-11-39-809\",\n",
      "    \"log_level\": 20,\n",
      "    \"master_hostname\": \"algo-1\",\n",
      "    \"model_dir\": \"/opt/ml/model\",\n",
      "    \"module_dir\": \"s3://sagemaker-us-east-1-706015522303/sagemaker-scikit-learn-2020-04-27-18-11-39-809/source/sourcedir.tar.gz\",\n",
      "    \"module_name\": \"model\",\n",
      "    \"network_interface_name\": \"eth0\",\n",
      "    \"num_cpus\": 4,\n",
      "    \"num_gpus\": 0,\n",
      "    \"output_data_dir\": \"/opt/ml/output/data\",\n",
      "    \"output_dir\": \"/opt/ml/output\",\n",
      "    \"output_intermediate_dir\": \"/opt/ml/output/intermediate\",\n",
      "    \"resource_config\": {\n",
      "        \"current_host\": \"algo-1\",\n",
      "        \"hosts\": [\n",
      "            \"algo-1\"\n",
      "        ],\n",
      "        \"network_interface_name\": \"eth0\"\n",
      "    },\n",
      "    \"user_entry_point\": \"model.py\"\u001b[0m\n",
      "\u001b[34m}\n",
      "\u001b[0m\n",
      "\u001b[34mEnvironment variables:\n",
      "\u001b[0m\n",
      "\u001b[34mSM_HOSTS=[\"algo-1\"]\u001b[0m\n",
      "\u001b[34mSM_NETWORK_INTERFACE_NAME=eth0\u001b[0m\n",
      "\u001b[34mSM_HPS={}\u001b[0m\n",
      "\u001b[34mSM_USER_ENTRY_POINT=model.py\u001b[0m\n",
      "\u001b[34mSM_FRAMEWORK_PARAMS={}\u001b[0m\n",
      "\u001b[34mSM_RESOURCE_CONFIG={\"current_host\":\"algo-1\",\"hosts\":[\"algo-1\"],\"network_interface_name\":\"eth0\"}\u001b[0m\n",
      "\u001b[34mSM_INPUT_DATA_CONFIG={\"train\":{\"RecordWrapperType\":\"None\",\"S3DistributionType\":\"FullyReplicated\",\"TrainingInputMode\":\"File\"}}\u001b[0m\n",
      "\u001b[34mSM_OUTPUT_DATA_DIR=/opt/ml/output/data\u001b[0m\n",
      "\u001b[34mSM_CHANNELS=[\"train\"]\u001b[0m\n",
      "\u001b[34mSM_CURRENT_HOST=algo-1\u001b[0m\n",
      "\u001b[34mSM_MODULE_NAME=model\u001b[0m\n",
      "\u001b[34mSM_LOG_LEVEL=20\u001b[0m\n",
      "\u001b[34mSM_FRAMEWORK_MODULE=sagemaker_sklearn_container.training:main\u001b[0m\n",
      "\u001b[34mSM_INPUT_DIR=/opt/ml/input\u001b[0m\n",
      "\u001b[34mSM_INPUT_CONFIG_DIR=/opt/ml/input/config\u001b[0m\n",
      "\u001b[34mSM_OUTPUT_DIR=/opt/ml/output\u001b[0m\n",
      "\u001b[34mSM_NUM_CPUS=4\u001b[0m\n",
      "\u001b[34mSM_NUM_GPUS=0\u001b[0m\n",
      "\u001b[34mSM_MODEL_DIR=/opt/ml/model\u001b[0m\n",
      "\u001b[34mSM_MODULE_DIR=s3://sagemaker-us-east-1-706015522303/sagemaker-scikit-learn-2020-04-27-18-11-39-809/source/sourcedir.tar.gz\u001b[0m\n",
      "\u001b[34mSM_TRAINING_ENV={\"additional_framework_parameters\":{},\"channel_input_dirs\":{\"train\":\"/opt/ml/input/data/train\"},\"current_host\":\"algo-1\",\"framework_module\":\"sagemaker_sklearn_container.training:main\",\"hosts\":[\"algo-1\"],\"hyperparameters\":{},\"input_config_dir\":\"/opt/ml/input/config\",\"input_data_config\":{\"train\":{\"RecordWrapperType\":\"None\",\"S3DistributionType\":\"FullyReplicated\",\"TrainingInputMode\":\"File\"}},\"input_dir\":\"/opt/ml/input\",\"is_master\":true,\"job_name\":\"sagemaker-scikit-learn-2020-04-27-18-11-39-809\",\"log_level\":20,\"master_hostname\":\"algo-1\",\"model_dir\":\"/opt/ml/model\",\"module_dir\":\"s3://sagemaker-us-east-1-706015522303/sagemaker-scikit-learn-2020-04-27-18-11-39-809/source/sourcedir.tar.gz\",\"module_name\":\"model\",\"network_interface_name\":\"eth0\",\"num_cpus\":4,\"num_gpus\":0,\"output_data_dir\":\"/opt/ml/output/data\",\"output_dir\":\"/opt/ml/output\",\"output_intermediate_dir\":\"/opt/ml/output/intermediate\",\"resource_config\":{\"current_host\":\"algo-1\",\"hosts\":[\"algo-1\"],\"network_interface_name\":\"eth0\"},\"user_entry_point\":\"model.py\"}\u001b[0m\n",
      "\u001b[34mSM_USER_ARGS=[]\u001b[0m\n",
      "\u001b[34mSM_OUTPUT_INTERMEDIATE_DIR=/opt/ml/output/intermediate\u001b[0m\n",
      "\u001b[34mSM_CHANNEL_TRAIN=/opt/ml/input/data/train\u001b[0m\n",
      "\u001b[34mPYTHONPATH=/miniconda3/bin:/miniconda3/lib/python37.zip:/miniconda3/lib/python3.7:/miniconda3/lib/python3.7/lib-dynload:/miniconda3/lib/python3.7/site-packages\n",
      "\u001b[0m\n",
      "\u001b[34mInvoking script with the following command:\n",
      "\u001b[0m\n",
      "\u001b[34m/miniconda3/bin/python -m model\n",
      "\n",
      "\u001b[0m\n",
      "\u001b[34m/miniconda3/lib/python3.7/site-packages/sklearn/externals/joblib/externals/cloudpickle/cloudpickle.py:47: DeprecationWarning: the imp module is deprecated in favour of importlib; see the module's documentation for alternative uses\n",
      "  import imp\u001b[0m\n",
      "\u001b[34m2020-04-27 18:14:44,687 sagemaker-containers INFO     Reporting training SUCCESS\u001b[0m\n",
      "\n",
      "2020-04-27 18:14:53 Uploading - Uploading generated training model\n",
      "2020-04-27 18:14:53 Completed - Training job completed\n",
      "Training seconds: 68\n",
      "Billable seconds: 68\n"
     ]
    }
   ],
   "source": [
    "sklearn.fit({'train': inputs})"
   ]
  },
  {
   "cell_type": "code",
   "execution_count": 180,
   "metadata": {},
   "outputs": [
    {
     "name": "stdout",
     "output_type": "stream",
     "text": [
      "---------------!"
     ]
    }
   ],
   "source": [
    "predictor = sklearn.deploy(initial_instance_count=1,\n",
    "                           instance_type=\"ml.m4.xlarge\"\n",
    "                              )"
   ]
  },
  {
   "cell_type": "markdown",
   "metadata": {},
   "source": [
    "### Testing predictor"
   ]
  },
  {
   "cell_type": "code",
   "execution_count": 29,
   "metadata": {},
   "outputs": [],
   "source": [
    "import os\n",
    "import pickle as pkl\n",
    "with open(os.path.join(\"data/\", \"data.pickle\"), 'rb') as handle:\n",
    "    data = pkl.load(handle)"
   ]
  },
  {
   "cell_type": "code",
   "execution_count": 30,
   "metadata": {},
   "outputs": [],
   "source": [
    "train = data['data']\n",
    "label = data['label']"
   ]
  },
  {
   "cell_type": "code",
   "execution_count": 31,
   "metadata": {},
   "outputs": [],
   "source": [
    "#print(predictor.predict(train[0].reshape(1,-1)))"
   ]
  },
  {
   "cell_type": "markdown",
   "metadata": {},
   "source": [
    "## Testing invoke method"
   ]
  },
  {
   "cell_type": "code",
   "execution_count": 32,
   "metadata": {},
   "outputs": [],
   "source": [
    "import io\n",
    "import numpy as np\n",
    "\n",
    "def np2npy(arr):\n",
    "    npy = io.BytesIO()\n",
    "    np.save(npy, arr)\n",
    "    return npy"
   ]
  },
  {
   "cell_type": "code",
   "execution_count": 34,
   "metadata": {},
   "outputs": [],
   "source": [
    "npy = np2npy(testX[0].reshape(1,-1))"
   ]
  },
  {
   "cell_type": "code",
   "execution_count": 35,
   "metadata": {},
   "outputs": [
    {
     "data": {
      "text/plain": [
       "0"
      ]
     },
     "execution_count": 35,
     "metadata": {},
     "output_type": "execute_result"
    }
   ],
   "source": [
    "npy.seek(0)"
   ]
  },
  {
   "cell_type": "code",
   "execution_count": 36,
   "metadata": {},
   "outputs": [],
   "source": [
    "import boto3\n",
    "\n",
    "runtime= boto3.client('runtime.sagemaker')\n",
    "\n",
    "response = runtime.invoke_endpoint(EndpointName=\"sagemaker-scikit-learn-2020-04-27-18-11-39-809\",\n",
    "                                   ContentType = 'application/x-npy',\n",
    "                                   Body=npy)\n"
   ]
  },
  {
   "cell_type": "code",
   "execution_count": 37,
   "metadata": {},
   "outputs": [
    {
     "data": {
      "text/plain": [
       "'[\"Azucena\"]'"
      ]
     },
     "execution_count": 37,
     "metadata": {},
     "output_type": "execute_result"
    }
   ],
   "source": [
    "response['Body'].read().decode()"
   ]
  }
 ],
 "metadata": {
  "kernelspec": {
   "display_name": "conda_pytorch_p36",
   "language": "python",
   "name": "conda_pytorch_p36"
  },
  "language_info": {
   "codemirror_mode": {
    "name": "ipython",
    "version": 3
   },
   "file_extension": ".py",
   "mimetype": "text/x-python",
   "name": "python",
   "nbconvert_exporter": "python",
   "pygments_lexer": "ipython3",
   "version": "3.6.5"
  }
 },
 "nbformat": 4,
 "nbformat_minor": 4
}
