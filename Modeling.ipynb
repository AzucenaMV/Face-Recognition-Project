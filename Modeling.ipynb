{
 "cells": [
  {
   "cell_type": "code",
   "execution_count": 1,
   "metadata": {},
   "outputs": [],
   "source": [
    "# S3 prefix\n",
    "prefix = 'facerecogproj'\n",
    "\n",
    "import sagemaker\n",
    "from sagemaker import get_execution_role\n",
    "\n",
    "sagemaker_session = sagemaker.Session()\n",
    "\n",
    "# Get a SageMaker-compatible role used by this Notebook Instance.\n",
    "role = get_execution_role()"
   ]
  },
  {
   "cell_type": "code",
   "execution_count": 2,
   "metadata": {},
   "outputs": [
    {
     "name": "stdout",
     "output_type": "stream",
     "text": [
      "Collecting pip\n",
      "  Using cached https://files.pythonhosted.org/packages/54/0c/d01aa759fdc501a58f431eb594a17495f15b88da142ce14b5845662c13f3/pip-20.0.2-py2.py3-none-any.whl\n",
      "\u001b[31mfastai 1.0.60 requires nvidia-ml-py3, which is not installed.\u001b[0m\n",
      "Installing collected packages: pip\n",
      "  Found existing installation: pip 10.0.1\n",
      "    Uninstalling pip-10.0.1:\n",
      "      Successfully uninstalled pip-10.0.1\n",
      "Successfully installed pip-20.0.2\n",
      "\u001b[33mYou are using pip version 20.0.2, however version 20.1b1 is available.\n",
      "You should consider upgrading via the 'pip install --upgrade pip' command.\u001b[0m\n",
      "Collecting facenet_pytorch\n",
      "  Downloading facenet_pytorch-2.2.9-py3-none-any.whl (1.9 MB)\n",
      "\u001b[K     |████████████████████████████████| 1.9 MB 11.4 MB/s eta 0:00:01\n",
      "\u001b[?25hRequirement already satisfied: requests in /home/ec2-user/anaconda3/envs/pytorch_p36/lib/python3.6/site-packages (from facenet_pytorch) (2.20.0)\n",
      "Requirement already satisfied: numpy in /home/ec2-user/anaconda3/envs/pytorch_p36/lib/python3.6/site-packages (from facenet_pytorch) (1.15.4)\n",
      "Requirement already satisfied: chardet<3.1.0,>=3.0.2 in /home/ec2-user/anaconda3/envs/pytorch_p36/lib/python3.6/site-packages (from requests->facenet_pytorch) (3.0.4)\n",
      "Requirement already satisfied: urllib3<1.25,>=1.21.1 in /home/ec2-user/anaconda3/envs/pytorch_p36/lib/python3.6/site-packages (from requests->facenet_pytorch) (1.23)\n",
      "Requirement already satisfied: certifi>=2017.4.17 in /home/ec2-user/anaconda3/envs/pytorch_p36/lib/python3.6/site-packages (from requests->facenet_pytorch) (2019.11.28)\n",
      "Requirement already satisfied: idna<2.8,>=2.5 in /home/ec2-user/anaconda3/envs/pytorch_p36/lib/python3.6/site-packages (from requests->facenet_pytorch) (2.6)\n",
      "Installing collected packages: facenet-pytorch\n",
      "Successfully installed facenet-pytorch-2.2.9\n"
     ]
    }
   ],
   "source": [
    "# Change this to Lifecycle Configurations\n",
    "!pip install --upgrade pip\n",
    "!pip install facenet_pytorch"
   ]
  },
  {
   "cell_type": "code",
   "execution_count": 3,
   "metadata": {},
   "outputs": [],
   "source": [
    "from facenet_pytorch import InceptionResnetV1, MTCNN"
   ]
  },
  {
   "cell_type": "markdown",
   "metadata": {},
   "source": [
    "## Download the images from bucket"
   ]
  },
  {
   "cell_type": "code",
   "execution_count": 4,
   "metadata": {},
   "outputs": [],
   "source": [
    "import boto3\n",
    "import botocore\n",
    "\n",
    "BUCKET_NAME = 'images-facerecogproj'\n",
    "s3_res = boto3.resource('s3')"
   ]
  },
  {
   "cell_type": "code",
   "execution_count": 9,
   "metadata": {},
   "outputs": [],
   "source": [
    "import re\n",
    "import boto3\n",
    "import os\n",
    "\n",
    "def get_s3_keys(bucket):\n",
    "    \"\"\"Get a list of keys in an S3 bucket.\"\"\"\n",
    "    keys = []\n",
    "    s3 = boto3.client('s3')\n",
    "    resp = s3.list_objects_v2(Bucket= bucket)\n",
    "    for obj in resp['Contents']:\n",
    "        keys.append(obj['Key'])\n",
    "    return keys\n",
    "\n",
    "def download_keys(keys, file, bucket, verbose = False):\n",
    "    \"\"\" Download all the keys in a list to file\"\"\"\n",
    "    create_dirs(keys, file)\n",
    "    s3 = boto3.client('s3')\n",
    "    for i,key in enumerate(keys):\n",
    "        if verbose:\n",
    "            print(key)\n",
    "        try:\n",
    "            # download as local file\n",
    "            s3.download_file(bucket, key, os.path.join(file,key))\n",
    "            \n",
    "        except botocore.exceptions.ClientError as e:\n",
    "            if e.response['Error']['Code'] == \"404\":\n",
    "                print(\"The object does not exist.\")\n",
    "            else:\n",
    "                raise\n",
    "    return print(\"{} files were downloaded!\".format(i))\n",
    "\n",
    "def create_dirs(keys, file):\n",
    "    \"\"\" Given a set of keys will create the needed files\"\"\"\n",
    "    if not os.path.exists(file):\n",
    "        os.mkdir(file)\n",
    "        \n",
    "    folders = [re.split(\"/\", key)[:-1] for key in keys]\n",
    "    unique_folders = [list(x) for x in set(tuple(x) for x in folders)]\n",
    "    success = 0\n",
    "    for folders in unique_folders:\n",
    "        path = os.path.join(file,\"/\".join(folders))\n",
    "        if not os.path.exists(path):\n",
    "            os.makedirs(path)\n",
    "            success += 1\n",
    "    return print(\"{} Folders were created\".format(success))"
   ]
  },
  {
   "cell_type": "code",
   "execution_count": 6,
   "metadata": {},
   "outputs": [],
   "source": [
    "import cv2\n",
    "\n",
    "def crop(input_img):\n",
    "    '''\n",
    "      :return:  a cropped face in numpy array format\n",
    "    '''\n",
    "    img = cv2.imread(input_img)\n",
    "    img = cv2.cvtColor(img, cv2.COLOR_BGR2RGB)\n",
    "    mtcnn = MTCNN(select_largest=False, post_process = False, margin = 50)\n",
    "    img_cropped = mtcnn(img)\n",
    "    #simple message notifying if a face was detected or not\n",
    "    if img_cropped is None:\n",
    "        print(f'Face not detected in file {input_img}')\n",
    "        return\n",
    "    img_cropped = img_cropped.permute(1, 2, 0).int().numpy() \n",
    "    return img_cropped\n",
    "  \n",
    "def plot_crop_face(img_cropped, output_img):\n",
    "    '''\n",
    "    :params:\n",
    "    :return:\n",
    "    '''\n",
    "    plt.imshow(img_cropped)  \n",
    "    plt.axis('off')\n",
    "    plt.savefig(output_img)\n",
    "\n",
    "def cropFace(input_img, output_img = None):\n",
    "    '''\n",
    "    :params:\n",
    "    :return:\n",
    "    '''\n",
    "    if output_img is None:\n",
    "        return crop(input_img)\n",
    "    else:\n",
    "        img_cropped = crop(input_img)\n",
    "        plot_crop_face(img_cropped,output_img)\n",
    "\n",
    "def cropAllAux(file_dir, output_dir, keys = None):\n",
    "    \"\"\"\n",
    "    Crop all the functions given a directory and save it locally or in a bucket\n",
    "\n",
    "    Args:\n",
    "       file_dir (str): Name of the directory that contains all images\n",
    "       output_dir (str): Name of the directory or bucket were the images should be saved\n",
    "       keys (json): Json with credential keys\n",
    "\n",
    "\n",
    "    Returns:\n",
    "       Print statement\n",
    "    \"\"\"\n",
    "     # It creates the folder if it does not exist\n",
    "    if not keys:\n",
    "        os.makedirs(output_dir, exist_ok= True)\n",
    "        \n",
    "    for file in os.listdir(file_dir):\n",
    "        if \".jpg\" in file:\n",
    "            user = re.sub(\"_.*$\",\"\",file)\n",
    "            img_cropped = crop(os.path.join(file_dir,file))\n",
    "            if img_cropped is not None:\n",
    "                if not keys:\n",
    "                    os.makedirs(os.path.join(output_dir,user), exist_ok= True)\n",
    "                    #print(\"Saving file {file} in directory {out}\".format(file = file, out = output_dir))\n",
    "                    cv2.imwrite(os.path.join(output_dir,user,file),img_cropped)\n",
    "                else:\n",
    "                    tmp_file = \"tmp_\"+file\n",
    "                    tmp_path = os.path.join(os.getcwd(),tmp_file)\n",
    "                    cv2.imwrite(tmp_file, img_cropped) \n",
    "                    try:\n",
    "                        # Uploading to the bucket\n",
    "                        print(\"Saving file {file} in bucket {out}\".format(file = file, out = output_dir))\n",
    "                        uploadBucket(tmp_path, output_dir, file, keys = keys)\n",
    "                        os.remove(tmp_path) \n",
    "                    except: \n",
    "                        print(\"error\")        \n",
    "    return print(\"Done!\")\n",
    "\n",
    "def cropAll(file_dir, output_dir, keys = None):\n",
    "    \"\"\"\n",
    "    Crop all the functions given a directory and save it locally or in a bucket\n",
    "\n",
    "    Args:\n",
    "       file_dir (str): Name of the directory that contains all images\n",
    "       output_dir (str): Name of the directory or bucket were the images should be saved\n",
    "       keys (json): Json with credential keys\n",
    "\n",
    "\n",
    "    Returns:\n",
    "       Print statement\n",
    "    \"\"\"\n",
    "     # It creates the folder if it does not exist\n",
    "    for roots,dirs,files in os.walk(file_dir):\n",
    "        cropAllAux(roots, output_dir, keys = None)\n",
    "    return print(\"Done!\")"
   ]
  },
  {
   "cell_type": "code",
   "execution_count": 7,
   "metadata": {},
   "outputs": [],
   "source": [
    "keys = get_s3_keys(BUCKET_NAME)"
   ]
  },
  {
   "cell_type": "code",
   "execution_count": 10,
   "metadata": {},
   "outputs": [
    {
     "name": "stdout",
     "output_type": "stream",
     "text": [
      "0 Folders were created\n",
      "170 files were downloaded!\n"
     ]
    }
   ],
   "source": [
    "download_keys(keys,\"Images\",\"images-facerecogproj\")"
   ]
  },
  {
   "cell_type": "code",
   "execution_count": 11,
   "metadata": {},
   "outputs": [
    {
     "name": "stdout",
     "output_type": "stream",
     "text": [
      "Done!\n",
      "Face not detected in file Images/Azucena/Azucena_6.jpg\n",
      "Face not detected in file Images/Azucena/Azucena_36.jpg\n",
      "Face not detected in file Images/Azucena/Azucena_8.jpg\n",
      "Face not detected in file Images/Azucena/Azucena_56.jpg\n",
      "Face not detected in file Images/Azucena/Azucena_16.jpg\n",
      "Face not detected in file Images/Azucena/Azucena_14.jpg\n",
      "Face not detected in file Images/Azucena/Azucena_33.jpg\n",
      "Face not detected in file Images/Azucena/Azucena_15.jpg\n",
      "Face not detected in file Images/Azucena/Azucena_9.jpg\n",
      "Face not detected in file Images/Azucena/Azucena_34.jpg\n",
      "Face not detected in file Images/Azucena/Azucena_17.jpg\n",
      "Face not detected in file Images/Azucena/Azucena_18.jpg\n",
      "Face not detected in file Images/Azucena/Azucena_55.jpg\n",
      "Face not detected in file Images/Azucena/Azucena_25.jpg\n",
      "Face not detected in file Images/Azucena/Azucena_23.jpg\n",
      "Face not detected in file Images/Azucena/Azucena_54.jpg\n",
      "Face not detected in file Images/Azucena/Azucena_35.jpg\n",
      "Face not detected in file Images/Azucena/Azucena_53.jpg\n",
      "Face not detected in file Images/Azucena/Azucena_32.jpg\n",
      "Done!\n",
      "Face not detected in file Images/Iuliia/Iuliia_7.jpg\n",
      "Face not detected in file Images/Iuliia/Iuliia_30.jpg\n",
      "Face not detected in file Images/Iuliia/Iuliia_8.jpg\n",
      "Face not detected in file Images/Iuliia/Iuliia_3.jpg\n",
      "Done!\n",
      "Done!\n",
      "Done!\n"
     ]
    }
   ],
   "source": [
    "cropAll(\"Images\", \"Face\", keys = None)"
   ]
  },
  {
   "cell_type": "markdown",
   "metadata": {},
   "source": [
    "## Ready to have some fun!"
   ]
  },
  {
   "cell_type": "code",
   "execution_count": 12,
   "metadata": {},
   "outputs": [],
   "source": [
    "from facenet_pytorch import InceptionResnetV1, MTCNN\n",
    "from sklearn.svm import SVC\n",
    "from sklearn.metrics import accuracy_score\n",
    "import os\n",
    "import argparse\n",
    "import cv2\n",
    "import torch\n",
    "from PIL import Image\n",
    "import torchvision.transforms as transforms\n",
    "import re\n",
    "import random "
   ]
  },
  {
   "cell_type": "code",
   "execution_count": 13,
   "metadata": {},
   "outputs": [
    {
     "name": "stdout",
     "output_type": "stream",
     "text": [
      "Downloading parameters (1/2)\n",
      "Downloading parameters (2/2)\n"
     ]
    }
   ],
   "source": [
    "resnet = InceptionResnetV1(pretrained='vggface2').eval()"
   ]
  },
  {
   "cell_type": "code",
   "execution_count": 14,
   "metadata": {},
   "outputs": [],
   "source": [
    "def readFaces(file,model,tensor = False):\n",
    "    face_dict = {}\n",
    "    for roots,dirs,files in os.walk(file):\n",
    "        emb_list = []\n",
    "        for file in files:\n",
    "            if '.jpg' in file:\n",
    "                print(file)\n",
    "                path = os.path.join(roots,file)\n",
    "                img_emb = embeddings(path,model)\n",
    "                if not tensor:\n",
    "                    img_emb = img_emb.detach().numpy()\n",
    "                    emb_list.append(img_emb)\n",
    "        face_dict[re.sub(\"_.*$\",\"\",file)] = emb_list\n",
    "    train, label = [], []\n",
    "    for key, values in face_dict.items():\n",
    "        for val in values:\n",
    "            train.append(val)\n",
    "            label.append(key)\n",
    "    return train, label\n",
    "        \n",
    "\n",
    "def embeddings(file, model):\n",
    "    img = Image.open(file).convert('RGB')\n",
    "    img_tensor = transforms.functional.to_tensor(img)\n",
    "    embedding = model(img_tensor.unsqueeze(0))[0]\n",
    "    return embedding"
   ]
  },
  {
   "cell_type": "code",
   "execution_count": 17,
   "metadata": {},
   "outputs": [
    {
     "name": "stdout",
     "output_type": "stream",
     "text": [
      "Azucena_12.jpg\n",
      "Azucena_52.jpg\n",
      "Azucena_59.jpg\n",
      "Azucena_47.jpg\n",
      "Azucena_64.jpg\n",
      "Azucena_61.jpg\n",
      "Azucena_26.jpg\n",
      "Azucena_60.jpg\n",
      "Azucena_11.jpg\n",
      "Azucena_58.jpg\n",
      "Azucena_62.jpg\n",
      "Azucena_20.jpg\n",
      "Azucena_44.jpg\n",
      "Azucena_45.jpg\n",
      "Azucena_7.jpg\n",
      "Azucena_4.jpg\n",
      "Azucena_27.jpg\n",
      "Azucena_1.jpg\n",
      "Azucena_22.jpg\n",
      "Azucena_38.jpg\n",
      "Azucena_42.jpg\n",
      "Azucena_13.jpg\n",
      "Azucena_50.jpg\n",
      "Azucena_49.jpg\n",
      "Azucena_31.jpg\n",
      "Azucena_57.jpg\n",
      "Azucena_40.jpg\n",
      "Azucena_39.jpg\n",
      "Azucena_43.jpg\n",
      "Azucena_10.jpg\n",
      "Azucena_29.jpg\n",
      "Azucena_2.jpg\n",
      "Azucena_51.jpg\n",
      "Azucena_46.jpg\n",
      "Azucena_65.jpg\n",
      "Azucena_21.jpg\n",
      "Azucena_41.jpg\n",
      "Azucena_3.jpg\n",
      "Azucena_37.jpg\n",
      "Azucena_24.jpg\n",
      "Azucena_19.jpg\n",
      "Azucena_63.jpg\n",
      "Azucena_5.jpg\n",
      "Azucena_48.jpg\n",
      "Azucena_30.jpg\n",
      "Azucena_28.jpg\n",
      "Iuliia_4.jpg\n",
      "Iuliia_28.jpg\n",
      "Iuliia_24.jpg\n",
      "Iuliia_31.jpg\n",
      "Iuliia_21.jpg\n",
      "Iuliia_13.jpg\n",
      "Iuliia_12.jpg\n",
      "Iuliia_26.jpg\n",
      "Iuliia_36.jpg\n",
      "Iuliia_22.jpg\n",
      "Iuliia_5.jpg\n",
      "Iuliia_2.jpg\n",
      "Iuliia_33.jpg\n",
      "Iuliia_29.jpg\n",
      "Iuliia_34.jpg\n",
      "Iuliia_17.jpg\n",
      "Iuliia_23.jpg\n",
      "Iuliia_16.jpg\n",
      "Iuliia_11.jpg\n",
      "Iuliia_20.jpg\n",
      "Iuliia_25.jpg\n",
      "Iuliia_19.jpg\n",
      "Iuliia_18.jpg\n",
      "Iuliia_9.jpg\n",
      "Iuliia_6.jpg\n",
      "Iuliia_27.jpg\n",
      "Iuliia_35.jpg\n",
      "Iuliia_1.jpg\n",
      "Iuliia_32.jpg\n",
      "Iuliia_14.jpg\n",
      "Iuliia_15.jpg\n",
      "Iuliia_10.jpg\n",
      "Joaquin_26.jpg\n",
      "Joaquin_41.jpg\n",
      "Joaquin_67.jpg\n",
      "Joaquin_50.jpg\n",
      "Joaquin_61.jpg\n",
      "Joaquin_27.jpg\n",
      "Joaquin_57.jpg\n",
      "Joaquin_43.jpg\n",
      "Joaquin_8.jpg\n",
      "Joaquin_3.jpg\n",
      "Joaquin_30.jpg\n",
      "Joaquin_44.jpg\n",
      "Joaquin_39.jpg\n",
      "Joaquin_29.jpg\n",
      "Joaquin_36.jpg\n",
      "Joaquin_12.jpg\n",
      "Joaquin_48.jpg\n",
      "Joaquin_65.jpg\n",
      "Joaquin_62.jpg\n",
      "Joaquin_49.jpg\n",
      "Joaquin_60.jpg\n",
      "Joaquin_33.jpg\n",
      "Joaquin_70.jpg\n",
      "Joaquin_45.jpg\n",
      "Joaquin_31.jpg\n",
      "Joaquin_19.jpg\n",
      "Joaquin_56.jpg\n",
      "Joaquin_38.jpg\n",
      "Joaquin_59.jpg\n",
      "Joaquin_6.jpg\n",
      "Joaquin_63.jpg\n",
      "Joaquin_40.jpg\n",
      "Joaquin_14.jpg\n",
      "Joaquin_53.jpg\n",
      "Joaquin_52.jpg\n",
      "Joaquin_18.jpg\n",
      "Joaquin_34.jpg\n",
      "Joaquin_42.jpg\n",
      "Joaquin_5.jpg\n",
      "Joaquin_20.jpg\n",
      "Joaquin_35.jpg\n",
      "Joaquin_69.jpg\n",
      "Joaquin_25.jpg\n",
      "Joaquin_51.jpg\n",
      "Joaquin_32.jpg\n",
      "Joaquin_13.jpg\n",
      "Joaquin_17.jpg\n",
      "Joaquin_1.jpg\n",
      "Joaquin_58.jpg\n",
      "Joaquin_66.jpg\n",
      "Joaquin_4.jpg\n",
      "Joaquin_46.jpg\n",
      "Joaquin_37.jpg\n",
      "Joaquin_16.jpg\n",
      "Joaquin_64.jpg\n",
      "Joaquin_9.jpg\n",
      "Joaquin_22.jpg\n",
      "Joaquin_23.jpg\n",
      "Joaquin_28.jpg\n",
      "Joaquin_68.jpg\n",
      "Joaquin_55.jpg\n",
      "Joaquin_2.jpg\n",
      "Joaquin_47.jpg\n",
      "Joaquin_54.jpg\n",
      "Joaquin_7.jpg\n",
      "Joaquin_15.jpg\n",
      "Joaquin_11.jpg\n",
      "Joaquin_21.jpg\n",
      "Joaquin_10.jpg\n",
      "Joaquin_24.jpg\n"
     ]
    }
   ],
   "source": [
    "train, label = readFaces(\"./Face/\", resnet)"
   ]
  },
  {
   "cell_type": "code",
   "execution_count": 18,
   "metadata": {},
   "outputs": [],
   "source": [
    "# Shuffling the lists\n",
    "temp = list(zip(train, label)) \n",
    "random.shuffle(temp) \n",
    "train_rnd, label_rnd = zip(*temp) \n",
    "train_rnd, label_rnd = list(train_rnd), list(label_rnd)"
   ]
  },
  {
   "cell_type": "code",
   "execution_count": 19,
   "metadata": {},
   "outputs": [],
   "source": [
    "#Splitting training and test\n",
    "test_num = 10\n",
    "testX, testY = train_rnd[-test_num:],label_rnd[-test_num:]\n",
    "trainX, trainY = train_rnd[:-test_num],label_rnd[:-test_num]"
   ]
  },
  {
   "cell_type": "code",
   "execution_count": 103,
   "metadata": {},
   "outputs": [
    {
     "data": {
      "text/plain": [
       "array([[0.03097119, 0.94691604, 0.02211277],\n",
       "       [0.95348396, 0.02845077, 0.01806527],\n",
       "       [0.01996723, 0.95584316, 0.02418961],\n",
       "       [0.03232885, 0.94615404, 0.0215171 ],\n",
       "       [0.01174646, 0.00870606, 0.97954748],\n",
       "       [0.0322914 , 0.95446479, 0.01324381],\n",
       "       [0.94395577, 0.03784279, 0.01820143],\n",
       "       [0.01137761, 0.00949141, 0.97913098],\n",
       "       [0.94805945, 0.03152467, 0.02041588],\n",
       "       [0.01648286, 0.00990969, 0.97360745]])"
      ]
     },
     "execution_count": 103,
     "metadata": {},
     "output_type": "execute_result"
    }
   ],
   "source": [
    "# Fitting an SVM model\n",
    "model = SVC(kernel='linear', probability=True)\n",
    "model.fit(trainX, trainY)\n",
    "model.predict_proba(testX)"
   ]
  },
  {
   "cell_type": "code",
   "execution_count": 104,
   "metadata": {},
   "outputs": [
    {
     "data": {
      "text/plain": [
       "array(['Iuliia', 'Azucena', 'Iuliia', 'Iuliia', 'Joaquin', 'Iuliia',\n",
       "       'Azucena', 'Joaquin', 'Azucena', 'Joaquin'], dtype='<U7')"
      ]
     },
     "execution_count": 104,
     "metadata": {},
     "output_type": "execute_result"
    }
   ],
   "source": [
    "model.predict(testX)"
   ]
  },
  {
   "cell_type": "code",
   "execution_count": 105,
   "metadata": {},
   "outputs": [
    {
     "data": {
      "text/plain": [
       "['Iuliia',\n",
       " 'Azucena',\n",
       " 'Iuliia',\n",
       " 'Iuliia',\n",
       " 'Joaquin',\n",
       " 'Iuliia',\n",
       " 'Azucena',\n",
       " 'Joaquin',\n",
       " 'Azucena',\n",
       " 'Joaquin']"
      ]
     },
     "execution_count": 105,
     "metadata": {},
     "output_type": "execute_result"
    }
   ],
   "source": [
    "testY"
   ]
  },
  {
   "cell_type": "code",
   "execution_count": 108,
   "metadata": {},
   "outputs": [],
   "source": [
    "import json\n",
    "\n",
    "with open(\"new1.txt\") as json_data:\n",
    "    test = json.load(json_data)"
   ]
  },
  {
   "cell_type": "code",
   "execution_count": 109,
   "metadata": {},
   "outputs": [],
   "source": [
    "import ast \n",
    "\n",
    "res = ast.literal_eval(test['body']) "
   ]
  },
  {
   "cell_type": "code",
   "execution_count": 110,
   "metadata": {},
   "outputs": [
    {
     "data": {
      "text/plain": [
       "array(['Joaquin'], dtype='<U7')"
      ]
     },
     "execution_count": 110,
     "metadata": {},
     "output_type": "execute_result"
    }
   ],
   "source": [
    "import numpy as np\n",
    "model.predict(np.asarray(res).reshape(1,-1))"
   ]
  },
  {
   "cell_type": "code",
   "execution_count": 111,
   "metadata": {},
   "outputs": [
    {
     "data": {
      "text/plain": [
       "array([[0.00995952, 0.00784139, 0.98219909]])"
      ]
     },
     "execution_count": 111,
     "metadata": {},
     "output_type": "execute_result"
    }
   ],
   "source": [
    "model.predict_proba(np.asarray(res).reshape(1,-1))"
   ]
  },
  {
   "cell_type": "code",
   "execution_count": 33,
   "metadata": {},
   "outputs": [
    {
     "name": "stdout",
     "output_type": "stream",
     "text": [
      "--2020-04-26 03:49:37--  https://upload.wikimedia.org/wikipedia/commons/c/c1/Lionel_Messi_20180626.jpg\n",
      "Resolving upload.wikimedia.org (upload.wikimedia.org)... 208.80.154.240, 2620:0:861:ed1a::2:b\n",
      "Connecting to upload.wikimedia.org (upload.wikimedia.org)|208.80.154.240|:443... connected.\n",
      "HTTP request sent, awaiting response... 200 OK\n",
      "Length: 578583 (565K) [image/jpeg]\n",
      "Saving to: ‘Lionel_Messi_20180626.jpg’\n",
      "\n",
      "Lionel_Messi_201806 100%[===================>] 565.02K  --.-KB/s    in 0.02s   \n",
      "\n",
      "2020-04-26 03:49:37 (29.1 MB/s) - ‘Lionel_Messi_20180626.jpg’ saved [578583/578583]\n",
      "\n"
     ]
    }
   ],
   "source": [
    "!wget https://upload.wikimedia.org/wikipedia/commons/c/c1/Lionel_Messi_20180626.jpg"
   ]
  },
  {
   "cell_type": "code",
   "execution_count": 34,
   "metadata": {},
   "outputs": [],
   "source": [
    "mtcnn = MTCNN(select_largest=False, post_process = False, margin = 50)"
   ]
  },
  {
   "cell_type": "code",
   "execution_count": 35,
   "metadata": {},
   "outputs": [],
   "source": [
    "img_test = cv2.imread(\"Lionel_Messi_20180626.jpg\")\n",
    "img_test = cv2.cvtColor(img_test, cv2.COLOR_BGR2RGB)\n",
    "img_test_cropped = mtcnn(img_test)\n",
    "test_emb = resnet(img_test_cropped.unsqueeze(0))[0]\n",
    "test_emb = test_emb.detach().numpy()"
   ]
  },
  {
   "cell_type": "code",
   "execution_count": 107,
   "metadata": {},
   "outputs": [
    {
     "data": {
      "text/plain": [
       "array([[0.20291716, 0.04471621, 0.75236663]])"
      ]
     },
     "execution_count": 107,
     "metadata": {},
     "output_type": "execute_result"
    }
   ],
   "source": [
    "model.predict_proba(test_emb.reshape(1,-1))"
   ]
  },
  {
   "cell_type": "markdown",
   "metadata": {},
   "source": [
    "## Upload the data"
   ]
  },
  {
   "cell_type": "code",
   "execution_count": 71,
   "metadata": {},
   "outputs": [],
   "source": [
    "import numpy as np\n",
    "import os\n",
    "from sklearn import datasets\n",
    "import pickle as pkl \n",
    "\n",
    "# Load data and join it in a dataframe\n",
    "data = {'data': trainX, \"label\": trainY}\n",
    "\n",
    "# Create directory and write csv\n",
    "os.makedirs('./data', exist_ok=True)\n",
    "#data.to_csv(\"./data/data.csv\", index = False)\n",
    "\n",
    "with open('./data/data.pickle', 'wb') as handle:\n",
    "    pkl.dump(data, handle, protocol=pkl.HIGHEST_PROTOCOL)"
   ]
  },
  {
   "cell_type": "code",
   "execution_count": 72,
   "metadata": {},
   "outputs": [],
   "source": [
    "with open(os.path.join(\"./data\", \"data.pickle\"), 'rb') as handle:\n",
    "    data = pkl.load(handle)"
   ]
  },
  {
   "cell_type": "code",
   "execution_count": 73,
   "metadata": {},
   "outputs": [
    {
     "ename": "KeyError",
     "evalue": "'SM_OUTPUT_DATA_DIR'",
     "output_type": "error",
     "traceback": [
      "\u001b[0;31m---------------------------------------------------------------------------\u001b[0m",
      "\u001b[0;31mKeyError\u001b[0m                                  Traceback (most recent call last)",
      "\u001b[0;32m<ipython-input-73-96c4204307c7>\u001b[0m in \u001b[0;36m<module>\u001b[0;34m()\u001b[0m\n\u001b[1;32m     21\u001b[0m \u001b[0;34m\u001b[0m\u001b[0m\n\u001b[1;32m     22\u001b[0m     \u001b[0;31m# Sagemaker specific arguments. Defaults are set in the environment variables.\u001b[0m\u001b[0;34m\u001b[0m\u001b[0;34m\u001b[0m\u001b[0m\n\u001b[0;32m---> 23\u001b[0;31m     \u001b[0mparser\u001b[0m\u001b[0;34m.\u001b[0m\u001b[0madd_argument\u001b[0m\u001b[0;34m(\u001b[0m\u001b[0;34m'--output-data-dir'\u001b[0m\u001b[0;34m,\u001b[0m \u001b[0mtype\u001b[0m\u001b[0;34m=\u001b[0m\u001b[0mstr\u001b[0m\u001b[0;34m,\u001b[0m \u001b[0mdefault\u001b[0m\u001b[0;34m=\u001b[0m\u001b[0mos\u001b[0m\u001b[0;34m.\u001b[0m\u001b[0menviron\u001b[0m\u001b[0;34m[\u001b[0m\u001b[0;34m'SM_OUTPUT_DATA_DIR'\u001b[0m\u001b[0;34m]\u001b[0m\u001b[0;34m)\u001b[0m\u001b[0;34m\u001b[0m\u001b[0m\n\u001b[0m\u001b[1;32m     24\u001b[0m     \u001b[0mparser\u001b[0m\u001b[0;34m.\u001b[0m\u001b[0madd_argument\u001b[0m\u001b[0;34m(\u001b[0m\u001b[0;34m'--model-dir'\u001b[0m\u001b[0;34m,\u001b[0m \u001b[0mtype\u001b[0m\u001b[0;34m=\u001b[0m\u001b[0mstr\u001b[0m\u001b[0;34m,\u001b[0m \u001b[0mdefault\u001b[0m\u001b[0;34m=\u001b[0m\u001b[0mos\u001b[0m\u001b[0;34m.\u001b[0m\u001b[0menviron\u001b[0m\u001b[0;34m[\u001b[0m\u001b[0;34m'SM_MODEL_DIR'\u001b[0m\u001b[0;34m]\u001b[0m\u001b[0;34m)\u001b[0m\u001b[0;34m\u001b[0m\u001b[0m\n\u001b[1;32m     25\u001b[0m     \u001b[0mparser\u001b[0m\u001b[0;34m.\u001b[0m\u001b[0madd_argument\u001b[0m\u001b[0;34m(\u001b[0m\u001b[0;34m'--train'\u001b[0m\u001b[0;34m,\u001b[0m \u001b[0mtype\u001b[0m\u001b[0;34m=\u001b[0m\u001b[0mstr\u001b[0m\u001b[0;34m,\u001b[0m \u001b[0mdefault\u001b[0m\u001b[0;34m=\u001b[0m\u001b[0mos\u001b[0m\u001b[0;34m.\u001b[0m\u001b[0menviron\u001b[0m\u001b[0;34m[\u001b[0m\u001b[0;34m'SM_CHANNEL_TRAIN'\u001b[0m\u001b[0;34m]\u001b[0m\u001b[0;34m)\u001b[0m\u001b[0;34m\u001b[0m\u001b[0m\n",
      "\u001b[0;32m~/anaconda3/envs/pytorch_p36/lib/python3.6/os.py\u001b[0m in \u001b[0;36m__getitem__\u001b[0;34m(self, key)\u001b[0m\n\u001b[1;32m    667\u001b[0m         \u001b[0;32mexcept\u001b[0m \u001b[0mKeyError\u001b[0m\u001b[0;34m:\u001b[0m\u001b[0;34m\u001b[0m\u001b[0m\n\u001b[1;32m    668\u001b[0m             \u001b[0;31m# raise KeyError with the original key value\u001b[0m\u001b[0;34m\u001b[0m\u001b[0;34m\u001b[0m\u001b[0m\n\u001b[0;32m--> 669\u001b[0;31m             \u001b[0;32mraise\u001b[0m \u001b[0mKeyError\u001b[0m\u001b[0;34m(\u001b[0m\u001b[0mkey\u001b[0m\u001b[0;34m)\u001b[0m \u001b[0;32mfrom\u001b[0m \u001b[0;32mNone\u001b[0m\u001b[0;34m\u001b[0m\u001b[0m\n\u001b[0m\u001b[1;32m    670\u001b[0m         \u001b[0;32mreturn\u001b[0m \u001b[0mself\u001b[0m\u001b[0;34m.\u001b[0m\u001b[0mdecodevalue\u001b[0m\u001b[0;34m(\u001b[0m\u001b[0mvalue\u001b[0m\u001b[0;34m)\u001b[0m\u001b[0;34m\u001b[0m\u001b[0m\n\u001b[1;32m    671\u001b[0m \u001b[0;34m\u001b[0m\u001b[0m\n",
      "\u001b[0;31mKeyError\u001b[0m: 'SM_OUTPUT_DATA_DIR'"
     ]
    }
   ],
   "source": [
    "import argparse\n",
    "import pandas as pd\n",
    "import os\n",
    "import pickle as pkl \n",
    "\n",
    "from sklearn.svm import SVC\n",
    "from sklearn.externals import joblib\n",
    "\n",
    "\n",
    "if __name__ == '__main__':\n",
    "    \n",
    "    parser = argparse.ArgumentParser()\n",
    "\n",
    "    # Hyperparameters are described here. In this simple example we are just including one hyperparameter.\n",
    "    parser.add_argument('--C', type=float, default= 1)\n",
    "    parser.add_argument('--kernel', type=str, default='linear')\n",
    "    parser.add_argument('--gamma', type= str, default='scale')\n",
    "    parser.add_argument('--probability', type= bool, default= True)\n",
    "\n",
    "    \n",
    "\n",
    "    # Sagemaker specific arguments. Defaults are set in the environment variables.\n",
    "    parser.add_argument('--output-data-dir', type=str, default=os.environ['SM_OUTPUT_DATA_DIR'])\n",
    "    parser.add_argument('--model-dir', type=str, default=os.environ['SM_MODEL_DIR'])\n",
    "    parser.add_argument('--train', type=str, default=os.environ['SM_CHANNEL_TRAIN'])\n",
    "\n",
    "    args, unknown = parser.parse_known_args()\n",
    "\n",
    "    # Take the set of files and read them all into a single pandas dataframe\n",
    "    with open(os.path.join(args.train, \"data.pickle\"), 'rb') as handle:\n",
    "        data = pkl.load(handle)\n",
    "\n",
    "    # labels are in the first column\n",
    "    train_y = data['label']\n",
    "    train_X = data['data']\n",
    "\n",
    "    # Now use scikit-learn's NN to train the model.\n",
    "    model = model = SVC(C = args.C,\n",
    "                        kernel= args.kernel,\n",
    "                        gamma = args.gamma,\n",
    "                        probability= args.probability\n",
    "                       )\n",
    "\n",
    "\n",
    "    \n",
    "    model = model.fit(train_X, train_y)\n",
    "\n",
    "    # Print the coefficients of the trained classifier, and save the coefficients\n",
    "    joblib.dump(model, os.path.join(args.model_dir, \"model.joblib\"))\n",
    "    \n",
    "def model_fn(model_dir):\n",
    "    \"\"\"Deserialized and return fitted model\n",
    "\n",
    "    Note that this should have the same name as the serialized model in the main method\n",
    "    \"\"\"\n",
    "    model = joblib.load(os.path.join(model_dir, \"model.joblib\"))\n",
    "    return model"
   ]
  },
  {
   "cell_type": "code",
   "execution_count": 78,
   "metadata": {},
   "outputs": [],
   "source": [
    "from sagemaker.sklearn.estimator import SKLearn\n",
    "\n",
    "script_path = './model/model.py'\n",
    "\n",
    "sklearn = SKLearn(\n",
    "    entry_point=script_path,\n",
    "    train_instance_type=\"ml.m4.xlarge\",\n",
    "    role=role,\n",
    "    sagemaker_session=sagemaker_session\n",
    "    #hyperparameters={'max_leaf_nodes': 30}\n",
    ")"
   ]
  },
  {
   "cell_type": "code",
   "execution_count": 79,
   "metadata": {},
   "outputs": [],
   "source": [
    "import sagemaker\n",
    "from sagemaker import get_execution_role\n",
    "\n",
    "sagemaker_session = sagemaker.Session()\n",
    "role=sagemaker.get_execution_role()\n",
    "inputs = sagemaker_session.upload_data(path='data', key_prefix='data/data.pickle', bucket='video-facerecogproj')\n"
   ]
  },
  {
   "cell_type": "code",
   "execution_count": 80,
   "metadata": {},
   "outputs": [
    {
     "name": "stdout",
     "output_type": "stream",
     "text": [
      "2020-04-26 04:47:36 Starting - Starting the training job...\n",
      "2020-04-26 04:47:38 Starting - Launching requested ML instances.........\n",
      "2020-04-26 04:49:08 Starting - Preparing the instances for training...\n",
      "2020-04-26 04:49:56 Downloading - Downloading input data...\n",
      "2020-04-26 04:50:28 Training - Downloading the training image...\n",
      "2020-04-26 04:51:01 Uploading - Uploading generated training model\n",
      "2020-04-26 04:51:01 Completed - Training job completed\n",
      "\u001b[34m2020-04-26 04:50:49,417 sagemaker-containers INFO     Imported framework sagemaker_sklearn_container.training\u001b[0m\n",
      "\u001b[34m2020-04-26 04:50:49,419 sagemaker-containers INFO     No GPUs detected (normal if no gpus installed)\u001b[0m\n",
      "\u001b[34m2020-04-26 04:50:49,431 sagemaker_sklearn_container.training INFO     Invoking user training script.\u001b[0m\n",
      "\u001b[34m2020-04-26 04:50:49,723 sagemaker-containers INFO     Module model does not provide a setup.py. \u001b[0m\n",
      "\u001b[34mGenerating setup.py\u001b[0m\n",
      "\u001b[34m2020-04-26 04:50:49,723 sagemaker-containers INFO     Generating setup.cfg\u001b[0m\n",
      "\u001b[34m2020-04-26 04:50:49,723 sagemaker-containers INFO     Generating MANIFEST.in\u001b[0m\n",
      "\u001b[34m2020-04-26 04:50:49,724 sagemaker-containers INFO     Installing module with the following command:\u001b[0m\n",
      "\u001b[34m/miniconda3/bin/python -m pip install . \u001b[0m\n",
      "\u001b[34mProcessing /opt/ml/code\u001b[0m\n",
      "\u001b[34mBuilding wheels for collected packages: model\n",
      "  Building wheel for model (setup.py): started\n",
      "  Building wheel for model (setup.py): finished with status 'done'\n",
      "  Created wheel for model: filename=model-1.0.0-py2.py3-none-any.whl size=5702 sha256=23be981d56b226ba50bb110189b2230f80cc87a78a175c1447605b40dc6380ed\n",
      "  Stored in directory: /tmp/pip-ephem-wheel-cache-23wemo3y/wheels/35/24/16/37574d11bf9bde50616c67372a334f94fa8356bc7164af8ca3\u001b[0m\n",
      "\u001b[34mSuccessfully built model\u001b[0m\n",
      "\u001b[34mInstalling collected packages: model\u001b[0m\n",
      "\u001b[34mSuccessfully installed model-1.0.0\u001b[0m\n",
      "\u001b[34m2020-04-26 04:50:51,150 sagemaker-containers INFO     No GPUs detected (normal if no gpus installed)\u001b[0m\n",
      "\u001b[34m2020-04-26 04:50:51,162 sagemaker-containers INFO     Invoking user script\n",
      "\u001b[0m\n",
      "\u001b[34mTraining Env:\n",
      "\u001b[0m\n",
      "\u001b[34m{\n",
      "    \"additional_framework_parameters\": {},\n",
      "    \"channel_input_dirs\": {\n",
      "        \"train\": \"/opt/ml/input/data/train\"\n",
      "    },\n",
      "    \"current_host\": \"algo-1\",\n",
      "    \"framework_module\": \"sagemaker_sklearn_container.training:main\",\n",
      "    \"hosts\": [\n",
      "        \"algo-1\"\n",
      "    ],\n",
      "    \"hyperparameters\": {},\n",
      "    \"input_config_dir\": \"/opt/ml/input/config\",\n",
      "    \"input_data_config\": {\n",
      "        \"train\": {\n",
      "            \"TrainingInputMode\": \"File\",\n",
      "            \"S3DistributionType\": \"FullyReplicated\",\n",
      "            \"RecordWrapperType\": \"None\"\n",
      "        }\n",
      "    },\n",
      "    \"input_dir\": \"/opt/ml/input\",\n",
      "    \"is_master\": true,\n",
      "    \"job_name\": \"sagemaker-scikit-learn-2020-04-26-04-47-36-100\",\n",
      "    \"log_level\": 20,\n",
      "    \"master_hostname\": \"algo-1\",\n",
      "    \"model_dir\": \"/opt/ml/model\",\n",
      "    \"module_dir\": \"s3://sagemaker-us-east-1-706015522303/sagemaker-scikit-learn-2020-04-26-04-47-36-100/source/sourcedir.tar.gz\",\n",
      "    \"module_name\": \"model\",\n",
      "    \"network_interface_name\": \"eth0\",\n",
      "    \"num_cpus\": 4,\n",
      "    \"num_gpus\": 0,\n",
      "    \"output_data_dir\": \"/opt/ml/output/data\",\n",
      "    \"output_dir\": \"/opt/ml/output\",\n",
      "    \"output_intermediate_dir\": \"/opt/ml/output/intermediate\",\n",
      "    \"resource_config\": {\n",
      "        \"current_host\": \"algo-1\",\n",
      "        \"hosts\": [\n",
      "            \"algo-1\"\n",
      "        ],\n",
      "        \"network_interface_name\": \"eth0\"\n",
      "    },\n",
      "    \"user_entry_point\": \"model.py\"\u001b[0m\n",
      "\u001b[34m}\n",
      "\u001b[0m\n",
      "\u001b[34mEnvironment variables:\n",
      "\u001b[0m\n",
      "\u001b[34mSM_HOSTS=[\"algo-1\"]\u001b[0m\n",
      "\u001b[34mSM_NETWORK_INTERFACE_NAME=eth0\u001b[0m\n",
      "\u001b[34mSM_HPS={}\u001b[0m\n",
      "\u001b[34mSM_USER_ENTRY_POINT=model.py\u001b[0m\n",
      "\u001b[34mSM_FRAMEWORK_PARAMS={}\u001b[0m\n",
      "\u001b[34mSM_RESOURCE_CONFIG={\"current_host\":\"algo-1\",\"hosts\":[\"algo-1\"],\"network_interface_name\":\"eth0\"}\u001b[0m\n",
      "\u001b[34mSM_INPUT_DATA_CONFIG={\"train\":{\"RecordWrapperType\":\"None\",\"S3DistributionType\":\"FullyReplicated\",\"TrainingInputMode\":\"File\"}}\u001b[0m\n",
      "\u001b[34mSM_OUTPUT_DATA_DIR=/opt/ml/output/data\u001b[0m\n",
      "\u001b[34mSM_CHANNELS=[\"train\"]\u001b[0m\n",
      "\u001b[34mSM_CURRENT_HOST=algo-1\u001b[0m\n",
      "\u001b[34mSM_MODULE_NAME=model\u001b[0m\n",
      "\u001b[34mSM_LOG_LEVEL=20\u001b[0m\n",
      "\u001b[34mSM_FRAMEWORK_MODULE=sagemaker_sklearn_container.training:main\u001b[0m\n",
      "\u001b[34mSM_INPUT_DIR=/opt/ml/input\u001b[0m\n",
      "\u001b[34mSM_INPUT_CONFIG_DIR=/opt/ml/input/config\u001b[0m\n",
      "\u001b[34mSM_OUTPUT_DIR=/opt/ml/output\u001b[0m\n",
      "\u001b[34mSM_NUM_CPUS=4\u001b[0m\n",
      "\u001b[34mSM_NUM_GPUS=0\u001b[0m\n",
      "\u001b[34mSM_MODEL_DIR=/opt/ml/model\u001b[0m\n",
      "\u001b[34mSM_MODULE_DIR=s3://sagemaker-us-east-1-706015522303/sagemaker-scikit-learn-2020-04-26-04-47-36-100/source/sourcedir.tar.gz\u001b[0m\n",
      "\u001b[34mSM_TRAINING_ENV={\"additional_framework_parameters\":{},\"channel_input_dirs\":{\"train\":\"/opt/ml/input/data/train\"},\"current_host\":\"algo-1\",\"framework_module\":\"sagemaker_sklearn_container.training:main\",\"hosts\":[\"algo-1\"],\"hyperparameters\":{},\"input_config_dir\":\"/opt/ml/input/config\",\"input_data_config\":{\"train\":{\"RecordWrapperType\":\"None\",\"S3DistributionType\":\"FullyReplicated\",\"TrainingInputMode\":\"File\"}},\"input_dir\":\"/opt/ml/input\",\"is_master\":true,\"job_name\":\"sagemaker-scikit-learn-2020-04-26-04-47-36-100\",\"log_level\":20,\"master_hostname\":\"algo-1\",\"model_dir\":\"/opt/ml/model\",\"module_dir\":\"s3://sagemaker-us-east-1-706015522303/sagemaker-scikit-learn-2020-04-26-04-47-36-100/source/sourcedir.tar.gz\",\"module_name\":\"model\",\"network_interface_name\":\"eth0\",\"num_cpus\":4,\"num_gpus\":0,\"output_data_dir\":\"/opt/ml/output/data\",\"output_dir\":\"/opt/ml/output\",\"output_intermediate_dir\":\"/opt/ml/output/intermediate\",\"resource_config\":{\"current_host\":\"algo-1\",\"hosts\":[\"algo-1\"],\"network_interface_name\":\"eth0\"},\"user_entry_point\":\"model.py\"}\u001b[0m\n",
      "\u001b[34mSM_USER_ARGS=[]\u001b[0m\n",
      "\u001b[34mSM_OUTPUT_INTERMEDIATE_DIR=/opt/ml/output/intermediate\u001b[0m\n",
      "\u001b[34mSM_CHANNEL_TRAIN=/opt/ml/input/data/train\u001b[0m\n",
      "\u001b[34mPYTHONPATH=/miniconda3/bin:/miniconda3/lib/python37.zip:/miniconda3/lib/python3.7:/miniconda3/lib/python3.7/lib-dynload:/miniconda3/lib/python3.7/site-packages\n",
      "\u001b[0m\n",
      "\u001b[34mInvoking script with the following command:\n",
      "\u001b[0m\n",
      "\u001b[34m/miniconda3/bin/python -m model\n",
      "\n",
      "\u001b[0m\n",
      "\u001b[34m/miniconda3/lib/python3.7/site-packages/sklearn/externals/joblib/externals/cloudpickle/cloudpickle.py:47: DeprecationWarning: the imp module is deprecated in favour of importlib; see the module's documentation for alternative uses\n",
      "  import imp\u001b[0m\n",
      "\u001b[34m2020-04-26 04:50:52,409 sagemaker-containers INFO     Reporting training SUCCESS\u001b[0m\n",
      "Training seconds: 65\n",
      "Billable seconds: 65\n"
     ]
    }
   ],
   "source": [
    "sklearn.fit({'train': inputs})"
   ]
  },
  {
   "cell_type": "code",
   "execution_count": 112,
   "metadata": {},
   "outputs": [
    {
     "name": "stdout",
     "output_type": "stream",
     "text": [
      "---------------!"
     ]
    }
   ],
   "source": [
    "predictor = sklearn.deploy(initial_instance_count=1, instance_type=\"ml.m4.xlarge\")"
   ]
  },
  {
   "cell_type": "code",
   "execution_count": 13,
   "metadata": {},
   "outputs": [],
   "source": [
    "import os\n",
    "import pickle as pkl\n",
    "with open(os.path.join(\"data/\", \"data.pickle\"), 'rb') as handle:\n",
    "    data = pkl.load(handle)"
   ]
  },
  {
   "cell_type": "code",
   "execution_count": 16,
   "metadata": {},
   "outputs": [],
   "source": [
    "train = data['data']\n",
    "label = data['label']"
   ]
  },
  {
   "cell_type": "code",
   "execution_count": 19,
   "metadata": {},
   "outputs": [
    {
     "name": "stdout",
     "output_type": "stream",
     "text": [
      "['Joaquin' 'Joaquin' 'Joaquin' 'Joaquin' 'Joaquin' 'Joaquin' 'Joaquin'\n",
      " 'Joaquin' 'Joaquin' 'Joaquin']\n"
     ]
    }
   ],
   "source": [
    "print(predictor.predict(train[:10]))"
   ]
  },
  {
   "cell_type": "code",
   "execution_count": 20,
   "metadata": {},
   "outputs": [
    {
     "name": "stdout",
     "output_type": "stream",
     "text": [
      "['Joaquin', 'Joaquin', 'Joaquin', 'Joaquin', 'Joaquin', 'Joaquin', 'Joaquin', 'Joaquin', 'Joaquin', 'Joaquin']\n"
     ]
    }
   ],
   "source": [
    "print(label[:10])"
   ]
  },
  {
   "cell_type": "code",
   "execution_count": 115,
   "metadata": {},
   "outputs": [],
   "source": [
    "sklearn.delete_endpoint()"
   ]
  },
  {
   "cell_type": "code",
   "execution_count": 114,
   "metadata": {},
   "outputs": [
    {
     "data": {
      "text/plain": [
       "array([-2.57115811e-02,  1.98415630e-02, -1.46681396e-03, -4.20558453e-02,\n",
       "        8.22106823e-02, -3.96466404e-02,  3.55508327e-02, -1.26171976e-01,\n",
       "        5.03112376e-02,  1.39594767e-02, -1.01855956e-02,  4.95452899e-03,\n",
       "        1.04509955e-02, -3.38419713e-02, -3.14687751e-02, -1.02371015e-02,\n",
       "       -4.50850837e-02,  3.12295444e-02,  3.96762639e-02,  5.04005440e-02,\n",
       "       -2.62199412e-03, -2.48780828e-02,  1.87106375e-02, -1.28021343e-02,\n",
       "        1.49545973e-04, -2.64918851e-03, -3.29065509e-02, -1.30084723e-01,\n",
       "       -1.30194187e-01, -1.94491241e-02,  2.65950337e-03,  1.55568793e-02,\n",
       "       -5.17100170e-02,  8.39981716e-03,  2.02221964e-02, -6.34659268e-03,\n",
       "        9.34613720e-02, -8.56327042e-02, -4.86232117e-02,  1.67191345e-02,\n",
       "       -6.88029528e-02,  3.38283442e-02, -2.85061672e-02, -1.17968796e-02,\n",
       "       -3.30465883e-02,  4.41443026e-02, -1.17959166e-02,  7.34066218e-02,\n",
       "       -6.09000809e-02, -2.36181896e-02,  4.93767522e-02, -6.12642244e-02,\n",
       "       -8.35187659e-02,  4.48710956e-02, -9.08901356e-03, -1.04075007e-01,\n",
       "        8.11632257e-03, -5.92641009e-04, -7.86242634e-02,  1.68313254e-02,\n",
       "       -9.62987728e-03,  7.70503357e-02,  2.51022857e-02, -6.50447933e-03,\n",
       "       -4.67793979e-02, -5.80420643e-02, -2.86756624e-02, -5.19348262e-03,\n",
       "        1.43775586e-02,  3.50696146e-02,  3.94411795e-02, -4.24297452e-02,\n",
       "        3.03564742e-02,  1.71403848e-02,  5.27678709e-03, -5.76813221e-02,\n",
       "        1.54458024e-02,  3.79140005e-02,  5.66553287e-02,  1.19366264e-02,\n",
       "        1.03108343e-02,  2.35771872e-02,  8.32495000e-03, -5.35202846e-02,\n",
       "       -5.42714372e-02,  1.08722253e-02, -6.32390846e-03, -1.13762571e-02,\n",
       "       -8.61120969e-03,  2.93653551e-02,  3.45538706e-02,  8.87582824e-02,\n",
       "        3.08088195e-02,  4.21824213e-03,  3.66790779e-02,  1.33940149e-02,\n",
       "        1.80385392e-02,  5.75066432e-02, -3.71389687e-02,  2.46713664e-02,\n",
       "        1.24308243e-02,  1.70523506e-02, -6.19396791e-02, -4.05209430e-04,\n",
       "       -2.58809663e-02, -4.01542261e-02,  4.30157734e-03,  3.77850011e-02,\n",
       "       -1.63705405e-02, -1.68110989e-02,  9.19161662e-02, -5.54131605e-02,\n",
       "        2.80141383e-02,  5.21066338e-02,  2.29627341e-02,  3.01308576e-02,\n",
       "        5.10705486e-02, -6.25603693e-03,  1.67664271e-02,  6.55974895e-02,\n",
       "       -4.67365980e-03, -2.54697967e-02,  7.19125792e-02,  5.51364338e-03,\n",
       "        5.46471812e-02, -6.97716232e-03, -7.13849291e-02,  1.03947055e-02,\n",
       "       -6.24921694e-02,  5.61228767e-03,  1.77962966e-02, -4.72822133e-03,\n",
       "       -2.18973607e-02, -4.29195575e-02, -2.32108552e-02,  5.76663092e-02,\n",
       "       -2.00460162e-02, -1.72745474e-02, -5.51381595e-02, -1.38815530e-02,\n",
       "       -3.08762509e-02, -1.30823329e-02, -8.07612315e-02,  6.26163483e-02,\n",
       "        3.14133056e-02, -7.63986036e-02,  2.23555211e-02,  3.79336141e-02,\n",
       "        4.90443334e-02, -1.66316796e-02, -5.48514687e-02,  4.16728714e-03,\n",
       "       -1.02910185e-02,  4.70230095e-02,  2.95793414e-02, -1.99668519e-02,\n",
       "        3.92362252e-02,  5.12630902e-02, -2.51588896e-02, -6.64211204e-03,\n",
       "        2.02016234e-02,  2.46087238e-02, -5.92847876e-02, -2.07992606e-02,\n",
       "        2.23308317e-02,  1.17889629e-03, -3.44070792e-02,  5.41649573e-02,\n",
       "       -2.65548136e-02, -3.16042677e-02, -1.37956347e-02, -4.07687165e-02,\n",
       "       -7.50416145e-03,  3.40846926e-02,  4.25414275e-03, -3.31488885e-02,\n",
       "        5.08596515e-03, -8.10753834e-03, -3.58070470e-02,  2.41706409e-02,\n",
       "       -2.55437922e-02,  4.58631627e-02,  5.94794564e-03, -3.20158037e-03,\n",
       "       -1.79348104e-02,  3.78924087e-02,  2.75699254e-02,  4.86718025e-03,\n",
       "        3.13052051e-02,  5.18641584e-02, -4.79744300e-02, -5.45451492e-02,\n",
       "        7.19729289e-02,  2.30882112e-02, -4.78785578e-03, -7.04786405e-02,\n",
       "        4.32641543e-02,  4.84555699e-02,  6.46285787e-02,  9.41023789e-03,\n",
       "        1.97551306e-02, -1.20630041e-01, -5.99858537e-02,  1.02755763e-01,\n",
       "        5.31456694e-02,  2.30858792e-02,  6.02361746e-02,  2.08459701e-02,\n",
       "        2.72135660e-02,  3.16840373e-02, -3.77166681e-02, -2.62524970e-02,\n",
       "       -5.19654155e-03, -4.41070572e-02,  3.02147400e-02, -2.81560551e-02,\n",
       "        4.56760265e-02,  3.75911891e-02,  8.78001899e-02, -1.18977216e-03,\n",
       "       -3.58884558e-02, -4.20995802e-02,  8.52481350e-02, -4.44847383e-02,\n",
       "        7.05623180e-02,  3.58920358e-02, -2.11734902e-02,  1.58565845e-02,\n",
       "       -3.13190855e-02,  2.92169247e-02,  7.49963745e-02,  9.66991261e-02,\n",
       "       -2.59626862e-02,  9.81623977e-02,  7.86593705e-02, -1.10714454e-02,\n",
       "       -1.24923669e-01, -5.64852282e-02,  1.08871171e-02, -1.07266288e-02,\n",
       "        7.88693223e-03, -1.25400955e-02,  8.12037010e-03,  8.30329135e-02,\n",
       "        2.10099798e-02, -3.52841499e-03,  3.48966382e-02,  2.66130622e-02,\n",
       "        5.03350981e-02,  3.74304727e-02,  1.22170076e-02, -6.90065771e-02,\n",
       "        6.60572127e-02, -4.93757538e-02,  6.91798795e-03, -7.63136744e-02,\n",
       "       -4.74237055e-02,  8.97522084e-03, -2.25700103e-02,  1.47236942e-03,\n",
       "       -7.64217600e-02,  6.28105849e-02, -8.71178787e-03, -8.26578029e-03,\n",
       "       -1.96331739e-03,  5.15030921e-02,  2.48715794e-03,  1.91922090e-03,\n",
       "        8.10782332e-03,  1.58229638e-02, -3.89601802e-03, -6.61716908e-02,\n",
       "       -2.79719029e-02, -4.01734635e-02, -2.46391129e-02,  7.50736892e-03,\n",
       "        9.33244303e-02,  6.84810355e-02,  4.28364091e-02, -3.39469276e-02,\n",
       "       -1.41992122e-02,  5.73944971e-02,  4.70730588e-02,  3.77387926e-02,\n",
       "       -4.30045351e-02, -7.99423456e-02, -1.17592867e-02, -8.49859267e-02,\n",
       "       -1.43762836e-02,  3.71085890e-02, -3.46103348e-02, -2.22148821e-02,\n",
       "       -4.14840877e-02, -1.86412074e-02,  1.32875293e-02, -2.26574345e-03,\n",
       "        3.67039219e-02,  1.48091987e-02, -6.80319145e-02, -4.94168082e-04,\n",
       "       -1.79062523e-02,  5.64693250e-02, -6.43604025e-02,  9.82681662e-02,\n",
       "        1.75762661e-02,  4.66546789e-02, -1.08190559e-01, -2.19735447e-02,\n",
       "        1.00491159e-02, -1.34242298e-02,  7.42136361e-03,  4.51170206e-02,\n",
       "        3.66741046e-02,  7.27593340e-03,  3.21723372e-02, -4.13883179e-02,\n",
       "       -3.86200175e-02, -4.41796221e-02, -9.04939231e-03,  3.08318343e-02,\n",
       "        4.88557592e-02,  7.41015524e-02,  1.13654253e-03,  6.71565607e-02,\n",
       "       -3.16476934e-02,  4.93000746e-02,  7.26408213e-02,  1.87220406e-02,\n",
       "       -4.25837263e-02, -1.46772992e-02, -3.04867625e-02,  1.24098044e-02,\n",
       "        2.56204884e-02,  2.46645976e-02, -3.87667343e-02, -7.94536024e-02,\n",
       "        6.41396195e-02,  5.27536124e-03,  5.15885465e-02, -3.81142600e-03,\n",
       "        1.76268502e-03, -9.06855054e-03, -2.02307403e-02, -5.92805073e-02,\n",
       "        2.67171171e-02,  5.03109507e-02, -2.72886100e-04, -7.74672721e-03,\n",
       "        1.94222480e-02, -5.64556830e-02, -2.93228608e-02,  5.53732663e-02,\n",
       "       -9.12245538e-04, -5.71900979e-04, -2.73519717e-02,  1.34834917e-02,\n",
       "        3.38250920e-02, -1.68064963e-02,  5.84946349e-02, -8.89155176e-03,\n",
       "        1.15629315e-01, -8.32977984e-03, -7.30895950e-03, -2.79987194e-02,\n",
       "        1.16625028e-02, -3.24602202e-02, -2.92854104e-02, -5.46268784e-02,\n",
       "       -2.87058800e-02,  2.71606003e-03, -6.94720075e-02,  3.59662343e-03,\n",
       "       -2.23315768e-02,  5.03469370e-02,  7.34441634e-03,  5.91476746e-02,\n",
       "        1.02592288e-02, -6.89874942e-05,  2.08245907e-02,  1.17917761e-01,\n",
       "        7.00689182e-02, -4.06386405e-02,  2.54339613e-02,  1.15665374e-02,\n",
       "       -3.05483565e-02,  1.30741475e-02, -9.60568413e-02,  2.02060547e-02,\n",
       "       -2.67101801e-03,  1.00555852e-01, -5.63852154e-02,  1.37679921e-02,\n",
       "        4.77905609e-02,  6.17852174e-02,  2.97239479e-02,  3.37106921e-02,\n",
       "       -2.10091751e-02, -1.03345979e-03, -2.20075948e-04, -2.60592122e-02,\n",
       "       -2.38317549e-02, -1.09284848e-01, -3.59884538e-02, -7.80965993e-03,\n",
       "        6.32407740e-02, -4.78023067e-02, -2.01290678e-02,  6.07087836e-02,\n",
       "        3.54689583e-02, -1.71832711e-04,  1.38508845e-02, -9.01879836e-03,\n",
       "        2.73624044e-02,  2.25190371e-02, -7.15590417e-02, -2.85820849e-03,\n",
       "       -1.77153165e-03,  2.16828100e-02, -9.27445199e-03,  8.27608351e-03,\n",
       "       -1.07828550e-01, -5.32422699e-02, -8.08219686e-02, -7.48676946e-03,\n",
       "        4.49572876e-02,  1.18718609e-01, -3.30518163e-03, -1.04419459e-02,\n",
       "       -1.99541748e-02,  5.49558736e-02,  1.22031998e-02,  9.61867254e-03,\n",
       "        3.37812752e-02,  1.37224039e-02,  4.19599928e-05,  1.50144948e-02,\n",
       "       -3.12592126e-02, -4.33695875e-03, -8.04103985e-02, -8.73567630e-03,\n",
       "       -5.83940605e-03, -3.47902775e-02,  3.07610724e-02,  8.33954737e-02,\n",
       "        1.47040412e-02, -1.21604819e-02, -6.10140860e-02, -3.32202506e-03,\n",
       "        7.50100017e-02, -5.09832129e-02, -2.82666460e-02,  1.61791202e-02,\n",
       "       -6.18042424e-02, -6.41346350e-02, -6.36063516e-02,  3.09873801e-02,\n",
       "       -5.62909283e-02,  1.56315435e-02,  5.95541038e-02,  9.48545616e-03,\n",
       "        2.49504223e-02, -2.16755625e-02, -5.28905429e-02, -3.94658521e-02,\n",
       "       -4.19511609e-02,  3.36400382e-02, -4.38932255e-02,  6.40345514e-02,\n",
       "        1.94107052e-02,  5.70857748e-02,  4.90939878e-02,  3.38038616e-02,\n",
       "       -8.12081248e-02,  9.60629992e-03, -3.71585079e-02, -1.89319793e-02,\n",
       "       -1.29343336e-02, -2.77942605e-02, -2.00794898e-02,  3.67881879e-02,\n",
       "       -3.77989411e-02, -2.28761564e-04,  8.14687312e-02,  6.90927953e-02,\n",
       "        1.38130868e-02,  4.58432473e-02, -1.13247288e-02,  4.48318943e-03,\n",
       "        7.38414824e-02, -3.49927992e-02, -1.66124944e-02, -6.74900785e-03,\n",
       "       -3.17610092e-02,  6.17055856e-02,  7.30718374e-02,  3.34427729e-02,\n",
       "       -7.94298053e-02,  6.49761260e-02,  4.38426062e-02,  1.23825697e-02,\n",
       "       -4.41515353e-03, -5.42181022e-02,  1.49157261e-02,  6.89158356e-03,\n",
       "        7.26857409e-02,  4.92451973e-02, -3.29058692e-02, -1.31484019e-02,\n",
       "       -2.36599986e-02, -8.39966983e-02,  5.24686575e-02, -6.68075075e-03],\n",
       "      dtype=float32)"
      ]
     },
     "execution_count": 114,
     "metadata": {},
     "output_type": "execute_result"
    }
   ],
   "source": [
    "train[0]"
   ]
  },
  {
   "cell_type": "code",
   "execution_count": null,
   "metadata": {},
   "outputs": [],
   "source": []
  }
 ],
 "metadata": {
  "kernelspec": {
   "display_name": "conda_pytorch_p36",
   "language": "python",
   "name": "conda_pytorch_p36"
  },
  "language_info": {
   "codemirror_mode": {
    "name": "ipython",
    "version": 3
   },
   "file_extension": ".py",
   "mimetype": "text/x-python",
   "name": "python",
   "nbconvert_exporter": "python",
   "pygments_lexer": "ipython3",
   "version": "3.6.5"
  }
 },
 "nbformat": 4,
 "nbformat_minor": 4
}
