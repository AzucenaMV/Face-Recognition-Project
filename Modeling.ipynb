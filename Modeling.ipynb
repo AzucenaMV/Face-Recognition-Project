{
 "cells": [
  {
   "cell_type": "code",
   "execution_count": 1,
   "metadata": {},
   "outputs": [],
   "source": [
    "# S3 prefix\n",
    "prefix = 'facerecogproj'\n",
    "\n",
    "import sagemaker\n",
    "from sagemaker import get_execution_role\n",
    "\n",
    "sagemaker_session = sagemaker.Session()\n",
    "\n",
    "# Get a SageMaker-compatible role used by this Notebook Instance.\n",
    "role = get_execution_role()"
   ]
  },
  {
   "cell_type": "code",
   "execution_count": 2,
   "metadata": {},
   "outputs": [
    {
     "name": "stdout",
     "output_type": "stream",
     "text": [
      "Collecting pip\n",
      "  Using cached https://files.pythonhosted.org/packages/54/0c/d01aa759fdc501a58f431eb594a17495f15b88da142ce14b5845662c13f3/pip-20.0.2-py2.py3-none-any.whl\n",
      "\u001b[31mfastai 1.0.60 requires nvidia-ml-py3, which is not installed.\u001b[0m\n",
      "Installing collected packages: pip\n",
      "  Found existing installation: pip 10.0.1\n",
      "    Uninstalling pip-10.0.1:\n",
      "      Successfully uninstalled pip-10.0.1\n",
      "Successfully installed pip-20.0.2\n",
      "\u001b[33mYou are using pip version 20.0.2, however version 20.1b1 is available.\n",
      "You should consider upgrading via the 'pip install --upgrade pip' command.\u001b[0m\n",
      "Collecting facenet_pytorch\n",
      "  Downloading facenet_pytorch-2.2.9-py3-none-any.whl (1.9 MB)\n",
      "\u001b[K     |████████████████████████████████| 1.9 MB 12.9 MB/s eta 0:00:01\n",
      "\u001b[?25hRequirement already satisfied: requests in /home/ec2-user/anaconda3/envs/pytorch_p36/lib/python3.6/site-packages (from facenet_pytorch) (2.20.0)\n",
      "Requirement already satisfied: numpy in /home/ec2-user/anaconda3/envs/pytorch_p36/lib/python3.6/site-packages (from facenet_pytorch) (1.15.4)\n",
      "Requirement already satisfied: idna<2.8,>=2.5 in /home/ec2-user/anaconda3/envs/pytorch_p36/lib/python3.6/site-packages (from requests->facenet_pytorch) (2.6)\n",
      "Requirement already satisfied: chardet<3.1.0,>=3.0.2 in /home/ec2-user/anaconda3/envs/pytorch_p36/lib/python3.6/site-packages (from requests->facenet_pytorch) (3.0.4)\n",
      "Requirement already satisfied: certifi>=2017.4.17 in /home/ec2-user/anaconda3/envs/pytorch_p36/lib/python3.6/site-packages (from requests->facenet_pytorch) (2019.11.28)\n",
      "Requirement already satisfied: urllib3<1.25,>=1.21.1 in /home/ec2-user/anaconda3/envs/pytorch_p36/lib/python3.6/site-packages (from requests->facenet_pytorch) (1.23)\n",
      "Installing collected packages: facenet-pytorch\n",
      "Successfully installed facenet-pytorch-2.2.9\n"
     ]
    }
   ],
   "source": [
    "# Change this to Lifecycle Configurations\n",
    "!pip install --upgrade pip\n",
    "!pip install facenet_pytorch"
   ]
  },
  {
   "cell_type": "code",
   "execution_count": 3,
   "metadata": {},
   "outputs": [],
   "source": [
    "from facenet_pytorch import InceptionResnetV1, MTCNN"
   ]
  },
  {
   "cell_type": "markdown",
   "metadata": {},
   "source": [
    "## Download the images from bucket"
   ]
  },
  {
   "cell_type": "code",
   "execution_count": 4,
   "metadata": {},
   "outputs": [],
   "source": [
    "import boto3\n",
    "import botocore\n",
    "\n",
    "BUCKET_NAME = 'images-facerecogproj'\n",
    "s3_res = boto3.resource('s3')"
   ]
  },
  {
   "cell_type": "code",
   "execution_count": 9,
   "metadata": {},
   "outputs": [],
   "source": [
    "import re\n",
    "import boto3\n",
    "import os\n",
    "\n",
    "def get_s3_keys(bucket):\n",
    "    \"\"\"Get a list of keys in an S3 bucket.\"\"\"\n",
    "    keys = []\n",
    "    s3 = boto3.client('s3')\n",
    "    resp = s3.list_objects_v2(Bucket= bucket)\n",
    "    for obj in resp['Contents']:\n",
    "        keys.append(obj['Key'])\n",
    "    return keys\n",
    "\n",
    "def download_keys(keys, file, bucket, verbose = False):\n",
    "    \"\"\" Download all the keys in a list to file\"\"\"\n",
    "    create_dirs(keys, file)\n",
    "    s3 = boto3.client('s3')\n",
    "    for i,key in enumerate(keys):\n",
    "        if verbose:\n",
    "            print(key)\n",
    "        try:\n",
    "            # download as local file\n",
    "            s3.download_file(bucket, key, os.path.join(file,key))\n",
    "            \n",
    "        except botocore.exceptions.ClientError as e:\n",
    "            if e.response['Error']['Code'] == \"404\":\n",
    "                print(\"The object does not exist.\")\n",
    "            else:\n",
    "                raise\n",
    "    return print(\"{} files were downloaded!\".format(i))\n",
    "\n",
    "def create_dirs(keys, file):\n",
    "    \"\"\" Given a set of keys will create the needed files\"\"\"\n",
    "    if not os.path.exists(file):\n",
    "        os.mkdir(file)\n",
    "        \n",
    "    folders = [re.split(\"/\", key)[:-1] for key in keys]\n",
    "    unique_folders = [list(x) for x in set(tuple(x) for x in folders)]\n",
    "    success = 0\n",
    "    for folders in unique_folders:\n",
    "        path = os.path.join(file,\"/\".join(folders))\n",
    "        if not os.path.exists(path):\n",
    "            os.makedirs(path)\n",
    "            success += 1\n",
    "    return print(\"{} Folders were created\".format(success))"
   ]
  },
  {
   "cell_type": "code",
   "execution_count": 6,
   "metadata": {},
   "outputs": [],
   "source": [
    "import cv2\n",
    "\n",
    "def crop(input_img):\n",
    "    '''\n",
    "      :return:  a cropped face in numpy array format\n",
    "    '''\n",
    "    img = cv2.imread(input_img)\n",
    "    img = cv2.cvtColor(img, cv2.COLOR_BGR2RGB)\n",
    "    mtcnn = MTCNN(select_largest=False, post_process = False, margin = 50)\n",
    "    img_cropped = mtcnn(img)\n",
    "    #simple message notifying if a face was detected or not\n",
    "    if img_cropped is None:\n",
    "        print(f'Face not detected in file {input_img}')\n",
    "        return\n",
    "    img_cropped = img_cropped.permute(1, 2, 0).int().numpy() \n",
    "    return img_cropped\n",
    "  \n",
    "def plot_crop_face(img_cropped, output_img):\n",
    "    '''\n",
    "    :params:\n",
    "    :return:\n",
    "    '''\n",
    "    plt.imshow(img_cropped)  \n",
    "    plt.axis('off')\n",
    "    plt.savefig(output_img)\n",
    "\n",
    "def cropFace(input_img, output_img = None):\n",
    "    '''\n",
    "    :params:\n",
    "    :return:\n",
    "    '''\n",
    "    if output_img is None:\n",
    "        return crop(input_img)\n",
    "    else:\n",
    "        img_cropped = crop(input_img)\n",
    "        plot_crop_face(img_cropped,output_img)\n",
    "\n",
    "def cropAllAux(file_dir, output_dir, keys = None):\n",
    "    \"\"\"\n",
    "    Crop all the functions given a directory and save it locally or in a bucket\n",
    "\n",
    "    Args:\n",
    "       file_dir (str): Name of the directory that contains all images\n",
    "       output_dir (str): Name of the directory or bucket were the images should be saved\n",
    "       keys (json): Json with credential keys\n",
    "\n",
    "\n",
    "    Returns:\n",
    "       Print statement\n",
    "    \"\"\"\n",
    "     # It creates the folder if it does not exist\n",
    "    if not keys:\n",
    "        os.makedirs(output_dir, exist_ok= True)\n",
    "        \n",
    "    for file in os.listdir(file_dir):\n",
    "        if \".jpg\" in file:\n",
    "            user = re.sub(\"_.*$\",\"\",file)\n",
    "            img_cropped = crop(os.path.join(file_dir,file))\n",
    "            if img_cropped is not None:\n",
    "                if not keys:\n",
    "                    os.makedirs(os.path.join(output_dir,user), exist_ok= True)\n",
    "                    #print(\"Saving file {file} in directory {out}\".format(file = file, out = output_dir))\n",
    "                    cv2.imwrite(os.path.join(output_dir,user,file),img_cropped)\n",
    "                else:\n",
    "                    tmp_file = \"tmp_\"+file\n",
    "                    tmp_path = os.path.join(os.getcwd(),tmp_file)\n",
    "                    cv2.imwrite(tmp_file, img_cropped) \n",
    "                    try:\n",
    "                        # Uploading to the bucket\n",
    "                        print(\"Saving file {file} in bucket {out}\".format(file = file, out = output_dir))\n",
    "                        uploadBucket(tmp_path, output_dir, file, keys = keys)\n",
    "                        os.remove(tmp_path) \n",
    "                    except: \n",
    "                        print(\"error\")        \n",
    "    return print(\"Done!\")\n",
    "\n",
    "def cropAll(file_dir, output_dir, keys = None):\n",
    "    \"\"\"\n",
    "    Crop all the functions given a directory and save it locally or in a bucket\n",
    "\n",
    "    Args:\n",
    "       file_dir (str): Name of the directory that contains all images\n",
    "       output_dir (str): Name of the directory or bucket were the images should be saved\n",
    "       keys (json): Json with credential keys\n",
    "\n",
    "\n",
    "    Returns:\n",
    "       Print statement\n",
    "    \"\"\"\n",
    "     # It creates the folder if it does not exist\n",
    "    for roots,dirs,files in os.walk(file_dir):\n",
    "        cropAllAux(roots, output_dir, keys = None)\n",
    "    return print(\"Done!\")"
   ]
  },
  {
   "cell_type": "code",
   "execution_count": 7,
   "metadata": {},
   "outputs": [],
   "source": [
    "keys = get_s3_keys(BUCKET_NAME)"
   ]
  },
  {
   "cell_type": "code",
   "execution_count": 10,
   "metadata": {},
   "outputs": [
    {
     "name": "stdout",
     "output_type": "stream",
     "text": [
      "0 Folders were created\n",
      "170 files were downloaded!\n"
     ]
    }
   ],
   "source": [
    "download_keys(keys,\"Images\",\"images-facerecogproj\")"
   ]
  },
  {
   "cell_type": "code",
   "execution_count": 20,
   "metadata": {},
   "outputs": [
    {
     "ename": "NameError",
     "evalue": "name 'cropAll' is not defined",
     "output_type": "error",
     "traceback": [
      "\u001b[0;31m---------------------------------------------------------------------------\u001b[0m",
      "\u001b[0;31mNameError\u001b[0m                                 Traceback (most recent call last)",
      "\u001b[0;32m<ipython-input-20-7a7081cbf056>\u001b[0m in \u001b[0;36m<module>\u001b[0;34m()\u001b[0m\n\u001b[0;32m----> 1\u001b[0;31m \u001b[0mcropAll\u001b[0m\u001b[0;34m(\u001b[0m\u001b[0;34m\"Images\"\u001b[0m\u001b[0;34m,\u001b[0m \u001b[0;34m\"Face\"\u001b[0m\u001b[0;34m,\u001b[0m \u001b[0mkeys\u001b[0m \u001b[0;34m=\u001b[0m \u001b[0;32mNone\u001b[0m\u001b[0;34m)\u001b[0m\u001b[0;34m\u001b[0m\u001b[0m\n\u001b[0m",
      "\u001b[0;31mNameError\u001b[0m: name 'cropAll' is not defined"
     ]
    }
   ],
   "source": [
    "cropAll(\"Images\", \"Face\", keys = None)"
   ]
  },
  {
   "cell_type": "markdown",
   "metadata": {},
   "source": [
    "## Ready to have some fun!"
   ]
  },
  {
   "cell_type": "code",
   "execution_count": 4,
   "metadata": {},
   "outputs": [],
   "source": [
    "from facenet_pytorch import InceptionResnetV1, MTCNN\n",
    "from sklearn.svm import SVC\n",
    "from sklearn.metrics import accuracy_score\n",
    "import os\n",
    "import argparse\n",
    "import cv2\n",
    "import torch\n",
    "from PIL import Image\n",
    "import torchvision.transforms as transforms\n",
    "import re\n",
    "import random "
   ]
  },
  {
   "cell_type": "code",
   "execution_count": 5,
   "metadata": {},
   "outputs": [
    {
     "name": "stdout",
     "output_type": "stream",
     "text": [
      "Downloading parameters (1/2)\n",
      "Downloading parameters (2/2)\n"
     ]
    }
   ],
   "source": [
    "resnet = InceptionResnetV1(pretrained='vggface2').eval()"
   ]
  },
  {
   "cell_type": "code",
   "execution_count": 6,
   "metadata": {},
   "outputs": [],
   "source": [
    "def readFaces(file,model,tensor = False):\n",
    "    face_dict = {}\n",
    "    for roots,dirs,files in os.walk(file):\n",
    "        emb_list = []\n",
    "        for file in files:\n",
    "            if '.jpg' in file:\n",
    "                print(file)\n",
    "                path = os.path.join(roots,file)\n",
    "                img_emb = embeddings(path,model)\n",
    "                if not tensor:\n",
    "                    img_emb = img_emb.detach().numpy()\n",
    "                    emb_list.append(img_emb)\n",
    "        face_dict[re.sub(\"_.*$\",\"\",file)] = emb_list\n",
    "    train, label = [], []\n",
    "    for key, values in face_dict.items():\n",
    "        for val in values:\n",
    "            train.append(val)\n",
    "            label.append(key)\n",
    "    return train, label\n",
    "        \n",
    "\n",
    "def embeddings(file, model):\n",
    "    img = Image.open(file).convert('RGB')\n",
    "    img_tensor = transforms.functional.to_tensor(img)\n",
    "    embedding = model(img_tensor.unsqueeze(0))[0]\n",
    "    return embedding"
   ]
  },
  {
   "cell_type": "code",
   "execution_count": 7,
   "metadata": {},
   "outputs": [
    {
     "name": "stdout",
     "output_type": "stream",
     "text": [
      "Azucena_12.jpg\n",
      "Azucena_52.jpg\n",
      "Azucena_59.jpg\n",
      "Azucena_47.jpg\n",
      "Azucena_64.jpg\n",
      "Azucena_61.jpg\n",
      "Azucena_26.jpg\n",
      "Azucena_60.jpg\n",
      "Azucena_11.jpg\n",
      "Azucena_58.jpg\n",
      "Azucena_62.jpg\n",
      "Azucena_20.jpg\n",
      "Azucena_44.jpg\n",
      "Azucena_45.jpg\n",
      "Azucena_7.jpg\n",
      "Azucena_4.jpg\n",
      "Azucena_27.jpg\n",
      "Azucena_1.jpg\n",
      "Azucena_22.jpg\n",
      "Azucena_38.jpg\n",
      "Azucena_42.jpg\n",
      "Azucena_13.jpg\n",
      "Azucena_50.jpg\n",
      "Azucena_49.jpg\n",
      "Azucena_31.jpg\n",
      "Azucena_57.jpg\n",
      "Azucena_40.jpg\n",
      "Azucena_39.jpg\n",
      "Azucena_43.jpg\n",
      "Azucena_10.jpg\n",
      "Azucena_29.jpg\n",
      "Azucena_2.jpg\n",
      "Azucena_51.jpg\n",
      "Azucena_46.jpg\n",
      "Azucena_65.jpg\n",
      "Azucena_21.jpg\n",
      "Azucena_41.jpg\n",
      "Azucena_3.jpg\n",
      "Azucena_37.jpg\n",
      "Azucena_24.jpg\n",
      "Azucena_19.jpg\n",
      "Azucena_63.jpg\n",
      "Azucena_5.jpg\n",
      "Azucena_48.jpg\n",
      "Azucena_30.jpg\n",
      "Azucena_28.jpg\n",
      "Iuliia_4.jpg\n",
      "Iuliia_28.jpg\n",
      "Iuliia_24.jpg\n",
      "Iuliia_31.jpg\n",
      "Iuliia_21.jpg\n",
      "Iuliia_13.jpg\n",
      "Iuliia_12.jpg\n",
      "Iuliia_26.jpg\n",
      "Iuliia_36.jpg\n",
      "Iuliia_22.jpg\n",
      "Iuliia_5.jpg\n",
      "Iuliia_2.jpg\n",
      "Iuliia_33.jpg\n",
      "Iuliia_29.jpg\n",
      "Iuliia_34.jpg\n",
      "Iuliia_17.jpg\n",
      "Iuliia_23.jpg\n",
      "Iuliia_16.jpg\n",
      "Iuliia_11.jpg\n",
      "Iuliia_20.jpg\n",
      "Iuliia_25.jpg\n",
      "Iuliia_19.jpg\n",
      "Iuliia_18.jpg\n",
      "Iuliia_9.jpg\n",
      "Iuliia_6.jpg\n",
      "Iuliia_27.jpg\n",
      "Iuliia_35.jpg\n",
      "Iuliia_1.jpg\n",
      "Iuliia_32.jpg\n",
      "Iuliia_14.jpg\n",
      "Iuliia_15.jpg\n",
      "Iuliia_10.jpg\n",
      "Joaquin_26.jpg\n",
      "Joaquin_41.jpg\n",
      "Joaquin_67.jpg\n",
      "Joaquin_50.jpg\n",
      "Joaquin_61.jpg\n",
      "Joaquin_27.jpg\n",
      "Joaquin_57.jpg\n",
      "Joaquin_43.jpg\n",
      "Joaquin_8.jpg\n",
      "Joaquin_3.jpg\n",
      "Joaquin_30.jpg\n",
      "Joaquin_44.jpg\n",
      "Joaquin_39.jpg\n",
      "Joaquin_29.jpg\n",
      "Joaquin_36.jpg\n",
      "Joaquin_12.jpg\n",
      "Joaquin_48.jpg\n",
      "Joaquin_65.jpg\n",
      "Joaquin_62.jpg\n",
      "Joaquin_49.jpg\n",
      "Joaquin_60.jpg\n",
      "Joaquin_33.jpg\n",
      "Joaquin_70.jpg\n",
      "Joaquin_45.jpg\n",
      "Joaquin_31.jpg\n",
      "Joaquin_19.jpg\n",
      "Joaquin_56.jpg\n",
      "Joaquin_38.jpg\n",
      "Joaquin_59.jpg\n",
      "Joaquin_6.jpg\n",
      "Joaquin_63.jpg\n",
      "Joaquin_40.jpg\n",
      "Joaquin_14.jpg\n",
      "Joaquin_53.jpg\n",
      "Joaquin_52.jpg\n",
      "Joaquin_18.jpg\n",
      "Joaquin_34.jpg\n",
      "Joaquin_42.jpg\n",
      "Joaquin_5.jpg\n",
      "Joaquin_20.jpg\n",
      "Joaquin_35.jpg\n",
      "Joaquin_69.jpg\n",
      "Joaquin_25.jpg\n",
      "Joaquin_51.jpg\n",
      "Joaquin_32.jpg\n",
      "Joaquin_13.jpg\n",
      "Joaquin_17.jpg\n",
      "Joaquin_1.jpg\n",
      "Joaquin_58.jpg\n",
      "Joaquin_66.jpg\n",
      "Joaquin_4.jpg\n",
      "Joaquin_46.jpg\n",
      "Joaquin_37.jpg\n",
      "Joaquin_16.jpg\n",
      "Joaquin_64.jpg\n",
      "Joaquin_9.jpg\n",
      "Joaquin_22.jpg\n",
      "Joaquin_23.jpg\n",
      "Joaquin_28.jpg\n",
      "Joaquin_68.jpg\n",
      "Joaquin_55.jpg\n",
      "Joaquin_2.jpg\n",
      "Joaquin_47.jpg\n",
      "Joaquin_54.jpg\n",
      "Joaquin_7.jpg\n",
      "Joaquin_15.jpg\n",
      "Joaquin_11.jpg\n",
      "Joaquin_21.jpg\n",
      "Joaquin_10.jpg\n",
      "Joaquin_24.jpg\n"
     ]
    }
   ],
   "source": [
    "train, label = readFaces(\"./Face/\", resnet)"
   ]
  },
  {
   "cell_type": "code",
   "execution_count": 8,
   "metadata": {},
   "outputs": [],
   "source": [
    "# Shuffling the lists\n",
    "temp = list(zip(train, label)) \n",
    "random.shuffle(temp) \n",
    "train_rnd, label_rnd = zip(*temp) \n",
    "train_rnd, label_rnd = list(train_rnd), list(label_rnd)"
   ]
  },
  {
   "cell_type": "code",
   "execution_count": 9,
   "metadata": {},
   "outputs": [],
   "source": [
    "#Splitting training and test\n",
    "test_num = 10\n",
    "testX, testY = train_rnd[-test_num:],label_rnd[-test_num:]\n",
    "trainX, trainY = train_rnd[:-test_num],label_rnd[:-test_num]"
   ]
  },
  {
   "cell_type": "code",
   "execution_count": 10,
   "metadata": {},
   "outputs": [
    {
     "data": {
      "text/plain": [
       "SVC(C=1.0, cache_size=200, class_weight=None, coef0=0.0,\n",
       "  decision_function_shape='ovr', degree=3, gamma='auto_deprecated',\n",
       "  kernel='linear', max_iter=-1, probability=True, random_state=None,\n",
       "  shrinking=True, tol=0.001, verbose=False)"
      ]
     },
     "execution_count": 10,
     "metadata": {},
     "output_type": "execute_result"
    }
   ],
   "source": [
    "# Fitting an SVM model\n",
    "model = SVC(kernel='linear', probability=True)\n",
    "model.fit(trainX, trainY)"
   ]
  },
  {
   "cell_type": "markdown",
   "metadata": {},
   "source": [
    "## Testing"
   ]
  },
  {
   "cell_type": "code",
   "execution_count": 14,
   "metadata": {},
   "outputs": [],
   "source": [
    "model.predict_proba(testX)\n",
    "#model.predict(testX)"
   ]
  },
  {
   "cell_type": "code",
   "execution_count": 15,
   "metadata": {},
   "outputs": [],
   "source": [
    "#testY"
   ]
  },
  {
   "cell_type": "code",
   "execution_count": 108,
   "metadata": {},
   "outputs": [],
   "source": [
    "# Test\n",
    "import json\n",
    "import ast\n",
    "import numpy as np\n",
    "\n",
    "with open(\"new1.txt\") as json_data:\n",
    "    test = json.load(json_data)\n",
    "    \n",
    "res = ast.literal_eval(test['body']) \n",
    "model.predict(np.asarray(res).reshape(1,-1))"
   ]
  },
  {
   "cell_type": "code",
   "execution_count": 111,
   "metadata": {},
   "outputs": [
    {
     "data": {
      "text/plain": [
       "array([[0.00995952, 0.00784139, 0.98219909]])"
      ]
     },
     "execution_count": 111,
     "metadata": {},
     "output_type": "execute_result"
    }
   ],
   "source": [
    "model.predict_proba(np.asarray(res).reshape(1,-1))"
   ]
  },
  {
   "cell_type": "code",
   "execution_count": 16,
   "metadata": {},
   "outputs": [],
   "source": [
    "#!wget https://upload.wikimedia.org/wikipedia/commons/c/c1/Lionel_Messi_20180626.jpg"
   ]
  },
  {
   "cell_type": "code",
   "execution_count": 34,
   "metadata": {},
   "outputs": [],
   "source": [
    "mtcnn = MTCNN(select_largest=False, post_process = False, margin = 50)"
   ]
  },
  {
   "cell_type": "code",
   "execution_count": 35,
   "metadata": {},
   "outputs": [],
   "source": [
    "img_test = cv2.imread(\"Lionel_Messi_20180626.jpg\")\n",
    "img_test = cv2.cvtColor(img_test, cv2.COLOR_BGR2RGB)\n",
    "img_test_cropped = mtcnn(img_test)\n",
    "test_emb = resnet(img_test_cropped.unsqueeze(0))[0]\n",
    "test_emb = test_emb.detach().numpy()"
   ]
  },
  {
   "cell_type": "code",
   "execution_count": 107,
   "metadata": {},
   "outputs": [
    {
     "data": {
      "text/plain": [
       "array([[0.20291716, 0.04471621, 0.75236663]])"
      ]
     },
     "execution_count": 107,
     "metadata": {},
     "output_type": "execute_result"
    }
   ],
   "source": [
    "model.predict_proba(test_emb.reshape(1,-1))"
   ]
  },
  {
   "cell_type": "markdown",
   "metadata": {},
   "source": [
    "## Upload the data"
   ]
  },
  {
   "cell_type": "code",
   "execution_count": 32,
   "metadata": {},
   "outputs": [],
   "source": [
    "import numpy as np\n",
    "import os\n",
    "from sklearn import datasets\n",
    "import pickle as pkl \n",
    "\n",
    "# Load data and join it in a dataframe\n",
    "data = {'data': trainX, \"label\": trainY}\n",
    "\n",
    "# Create directory and write csv\n",
    "os.makedirs('./data', exist_ok=True)\n",
    "#data.to_csv(\"./data/data.csv\", index = False)\n",
    "\n",
    "with open('./data/data.pickle', 'wb') as handle:\n",
    "    pkl.dump(data, handle, protocol=pkl.HIGHEST_PROTOCOL)"
   ]
  },
  {
   "cell_type": "code",
   "execution_count": 33,
   "metadata": {},
   "outputs": [],
   "source": [
    "with open(os.path.join(\"./data\", \"data.pickle\"), 'rb') as handle:\n",
    "    data = pkl.load(handle)"
   ]
  },
  {
   "cell_type": "code",
   "execution_count": 91,
   "metadata": {},
   "outputs": [
    {
     "ename": "AttributeError",
     "evalue": "'Namespace' object has no attribute 'model_dir'",
     "output_type": "error",
     "traceback": [
      "\u001b[0;31m---------------------------------------------------------------------------\u001b[0m",
      "\u001b[0;31mAttributeError\u001b[0m                            Traceback (most recent call last)",
      "\u001b[0;32m<ipython-input-91-f046b6cdaf80>\u001b[0m in \u001b[0;36m<module>\u001b[0;34m()\u001b[0m\n\u001b[1;32m     49\u001b[0m \u001b[0;34m\u001b[0m\u001b[0m\n\u001b[1;32m     50\u001b[0m     \u001b[0;31m# Print the coefficients of the trained classifier, and save the coefficients\u001b[0m\u001b[0;34m\u001b[0m\u001b[0;34m\u001b[0m\u001b[0m\n\u001b[0;32m---> 51\u001b[0;31m     \u001b[0mjoblib\u001b[0m\u001b[0;34m.\u001b[0m\u001b[0mdump\u001b[0m\u001b[0;34m(\u001b[0m\u001b[0mmodel\u001b[0m\u001b[0;34m,\u001b[0m \u001b[0mos\u001b[0m\u001b[0;34m.\u001b[0m\u001b[0mpath\u001b[0m\u001b[0;34m.\u001b[0m\u001b[0mjoin\u001b[0m\u001b[0;34m(\u001b[0m\u001b[0margs\u001b[0m\u001b[0;34m.\u001b[0m\u001b[0mmodel_dir\u001b[0m\u001b[0;34m,\u001b[0m \u001b[0;34m\"model.joblib\"\u001b[0m\u001b[0;34m)\u001b[0m\u001b[0;34m)\u001b[0m\u001b[0;34m\u001b[0m\u001b[0m\n\u001b[0m\u001b[1;32m     52\u001b[0m \u001b[0;34m\u001b[0m\u001b[0m\n\u001b[1;32m     53\u001b[0m \u001b[0;32mdef\u001b[0m \u001b[0mmodel_fn\u001b[0m\u001b[0;34m(\u001b[0m\u001b[0mmodel_dir\u001b[0m\u001b[0;34m)\u001b[0m\u001b[0;34m:\u001b[0m\u001b[0;34m\u001b[0m\u001b[0m\n",
      "\u001b[0;31mAttributeError\u001b[0m: 'Namespace' object has no attribute 'model_dir'"
     ]
    }
   ],
   "source": [
    "import argparse\n",
    "import pandas as pd\n",
    "import os\n",
    "import pickle as pkl \n",
    "import numpy as np\n",
    "from sklearn.svm import SVC\n",
    "from sklearn.externals import joblib\n",
    "import sklearn\n",
    "from io import StringIO\n",
    "\n",
    "\n",
    "if __name__ == '__main__':\n",
    "    \n",
    "    parser = argparse.ArgumentParser()\n",
    "\n",
    "    # Hyperparameters are described here. In this simple example we are just including one hyperparameter.\n",
    "    parser.add_argument('--C', type=float, default= 1)\n",
    "    parser.add_argument('--kernel', type=str, default='linear')\n",
    "    parser.add_argument('--gamma', type= str, default='scale')\n",
    "    parser.add_argument('--probability', type= bool, default= True)\n",
    "\n",
    "    \n",
    "\n",
    "    # Sagemaker specific arguments. Defaults are set in the environment variables.\n",
    "    #parser.add_argument('--output-data-dir', type=str, default=os.environ['SM_OUTPUT_DATA_DIR'])\n",
    "    #parser.add_argument('--model-dir', type=str, default=os.environ['SM_MODEL_DIR'])\n",
    "    #parser.add_argument('--train', type=str, default=os.environ['SM_CHANNEL_TRAIN'])\n",
    "\n",
    "    args, unknown = parser.parse_known_args()\n",
    "\n",
    "    # Take the set of files and read them all into a single pandas dataframe\n",
    "#     with open(os.path.join(args.train, \"data.pickle\"), 'rb') as handle:\n",
    "#         data = pkl.load(handle)\n",
    "\n",
    "    # labels are in the first column\n",
    "    train_y = data['label']\n",
    "    train_X = data['data']\n",
    "\n",
    "    # Now use scikit-learn's NN to train the model.\n",
    "    model = model = SVC(C = args.C,\n",
    "                        kernel= args.kernel,\n",
    "                        gamma = args.gamma,\n",
    "                        probability= args.probability\n",
    "                       )\n",
    "\n",
    "\n",
    "\n",
    "    model = model.fit(train_X, train_y)\n",
    "\n",
    "    # Print the coefficients of the trained classifier, and save the coefficients\n",
    "    joblib.dump(model, os.path.join(args.model_dir, \"model.joblib\"))\n",
    "    \n",
    "def model_fn(model_dir):\n",
    "    \"\"\"Deserialized and return fitted model\n",
    "\n",
    "    Note that this should have the same name as the serialized model in the main method\n",
    "    \"\"\"\n",
    "    model = joblib.load(os.path.join(model_dir, \"model.joblib\"))\n",
    "    return model\n",
    "\n",
    "\n",
    "def input_fn(request_body, request_content_type):\n",
    "    \"\"\"An input_fn that loads a pickled numpy array\"\"\"\n",
    "    if request_content_type == \"application/python-pickle\":\n",
    "        array = np.load(StringIO(request_body))\n",
    "        return array\n",
    "    elif request_content_type == \"application/x-npy\":\n",
    "        array = np.load(StringIO(request_body))\n",
    "        return array\n",
    "    else:\n",
    "        raise ValueError(\"The model does not support that content type\")\n",
    "\n",
    "\n",
    "def predict_fn(input_data, model):\n",
    "    prediction = model.predict(input_data.reshape(1,-1))\n",
    "    pred_prob = model.predict_proba(input_data.reshape(1,-1))\n",
    "    return np.array([prediction, pred_prob])\n",
    "\n"
   ]
  },
  {
   "cell_type": "code",
   "execution_count": 56,
   "metadata": {},
   "outputs": [],
   "source": [
    "from sagemaker.sklearn.estimator import SKLearn\n",
    "\n",
    "script_path = './model/model.py'\n",
    "\n",
    "sklearn = SKLearn(\n",
    "    entry_point=script_path,\n",
    "    train_instance_type=\"ml.m4.xlarge\",\n",
    "    role=role,\n",
    "    sagemaker_session=sagemaker_session\n",
    "    #hyperparameters={'max_leaf_nodes': 30}\n",
    ")"
   ]
  },
  {
   "cell_type": "code",
   "execution_count": 57,
   "metadata": {},
   "outputs": [],
   "source": [
    "import sagemaker\n",
    "from sagemaker import get_execution_role\n",
    "\n",
    "\n",
    "sagemaker_session = sagemaker.Session()\n",
    "role=sagemaker.get_execution_role()\n",
    "inputs = sagemaker_session.upload_data(path='data', key_prefix='data/data.pickle', bucket='video-facerecogproj')\n"
   ]
  },
  {
   "cell_type": "code",
   "execution_count": 58,
   "metadata": {},
   "outputs": [
    {
     "name": "stdout",
     "output_type": "stream",
     "text": [
      "2020-04-27 14:45:47 Starting - Starting the training job...\n",
      "2020-04-27 14:45:50 Starting - Launching requested ML instances.........\n",
      "2020-04-27 14:47:29 Starting - Preparing the instances for training......\n",
      "2020-04-27 14:48:27 Downloading - Downloading input data...\n",
      "2020-04-27 14:48:59 Training - Downloading the training image.\u001b[34m2020-04-27 14:49:20,412 sagemaker-containers INFO     Imported framework sagemaker_sklearn_container.training\u001b[0m\n",
      "\u001b[34m2020-04-27 14:49:20,415 sagemaker-containers INFO     No GPUs detected (normal if no gpus installed)\u001b[0m\n",
      "\u001b[34m2020-04-27 14:49:20,428 sagemaker_sklearn_container.training INFO     Invoking user training script.\u001b[0m\n",
      "\u001b[34m2020-04-27 14:49:21,015 sagemaker-containers INFO     Module model does not provide a setup.py. \u001b[0m\n",
      "\u001b[34mGenerating setup.py\u001b[0m\n",
      "\u001b[34m2020-04-27 14:49:21,015 sagemaker-containers INFO     Generating setup.cfg\u001b[0m\n",
      "\u001b[34m2020-04-27 14:49:21,015 sagemaker-containers INFO     Generating MANIFEST.in\u001b[0m\n",
      "\u001b[34m2020-04-27 14:49:21,015 sagemaker-containers INFO     Installing module with the following command:\u001b[0m\n",
      "\u001b[34m/miniconda3/bin/python -m pip install . \u001b[0m\n",
      "\u001b[34mProcessing /opt/ml/code\u001b[0m\n",
      "\u001b[34mBuilding wheels for collected packages: model\n",
      "  Building wheel for model (setup.py): started\n",
      "  Building wheel for model (setup.py): finished with status 'done'\n",
      "  Created wheel for model: filename=model-1.0.0-py2.py3-none-any.whl size=6714 sha256=184325ccba292ea685523b4d4b46670606ee96100156684d83c314a6df76996c\n",
      "  Stored in directory: /tmp/pip-ephem-wheel-cache-kyk0l2_d/wheels/35/24/16/37574d11bf9bde50616c67372a334f94fa8356bc7164af8ca3\u001b[0m\n",
      "\u001b[34mSuccessfully built model\u001b[0m\n",
      "\u001b[34mInstalling collected packages: model\u001b[0m\n",
      "\u001b[34mSuccessfully installed model-1.0.0\u001b[0m\n",
      "\u001b[34m2020-04-27 14:49:22,519 sagemaker-containers INFO     No GPUs detected (normal if no gpus installed)\u001b[0m\n",
      "\u001b[34m2020-04-27 14:49:22,532 sagemaker-containers INFO     Invoking user script\n",
      "\u001b[0m\n",
      "\u001b[34mTraining Env:\n",
      "\u001b[0m\n",
      "\u001b[34m{\n",
      "    \"additional_framework_parameters\": {},\n",
      "    \"channel_input_dirs\": {\n",
      "        \"train\": \"/opt/ml/input/data/train\"\n",
      "    },\n",
      "    \"current_host\": \"algo-1\",\n",
      "    \"framework_module\": \"sagemaker_sklearn_container.training:main\",\n",
      "    \"hosts\": [\n",
      "        \"algo-1\"\n",
      "    ],\n",
      "    \"hyperparameters\": {},\n",
      "    \"input_config_dir\": \"/opt/ml/input/config\",\n",
      "    \"input_data_config\": {\n",
      "        \"train\": {\n",
      "            \"TrainingInputMode\": \"File\",\n",
      "            \"S3DistributionType\": \"FullyReplicated\",\n",
      "            \"RecordWrapperType\": \"None\"\n",
      "        }\n",
      "    },\n",
      "    \"input_dir\": \"/opt/ml/input\",\n",
      "    \"is_master\": true,\n",
      "    \"job_name\": \"sagemaker-scikit-learn-2020-04-27-14-45-47-186\",\n",
      "    \"log_level\": 20,\n",
      "    \"master_hostname\": \"algo-1\",\n",
      "    \"model_dir\": \"/opt/ml/model\",\n",
      "    \"module_dir\": \"s3://sagemaker-us-east-1-706015522303/sagemaker-scikit-learn-2020-04-27-14-45-47-186/source/sourcedir.tar.gz\",\n",
      "    \"module_name\": \"model\",\n",
      "    \"network_interface_name\": \"eth0\",\n",
      "    \"num_cpus\": 4,\n",
      "    \"num_gpus\": 0,\n",
      "    \"output_data_dir\": \"/opt/ml/output/data\",\n",
      "    \"output_dir\": \"/opt/ml/output\",\n",
      "    \"output_intermediate_dir\": \"/opt/ml/output/intermediate\",\n",
      "    \"resource_config\": {\n",
      "        \"current_host\": \"algo-1\",\n",
      "        \"hosts\": [\n",
      "            \"algo-1\"\n",
      "        ],\n",
      "        \"network_interface_name\": \"eth0\"\n",
      "    },\n",
      "    \"user_entry_point\": \"model.py\"\u001b[0m\n",
      "\u001b[34m}\n",
      "\u001b[0m\n",
      "\u001b[34mEnvironment variables:\n",
      "\u001b[0m\n",
      "\u001b[34mSM_HOSTS=[\"algo-1\"]\u001b[0m\n",
      "\u001b[34mSM_NETWORK_INTERFACE_NAME=eth0\u001b[0m\n",
      "\u001b[34mSM_HPS={}\u001b[0m\n",
      "\u001b[34mSM_USER_ENTRY_POINT=model.py\u001b[0m\n",
      "\u001b[34mSM_FRAMEWORK_PARAMS={}\u001b[0m\n",
      "\u001b[34mSM_RESOURCE_CONFIG={\"current_host\":\"algo-1\",\"hosts\":[\"algo-1\"],\"network_interface_name\":\"eth0\"}\u001b[0m\n",
      "\u001b[34mSM_INPUT_DATA_CONFIG={\"train\":{\"RecordWrapperType\":\"None\",\"S3DistributionType\":\"FullyReplicated\",\"TrainingInputMode\":\"File\"}}\u001b[0m\n",
      "\u001b[34mSM_OUTPUT_DATA_DIR=/opt/ml/output/data\u001b[0m\n",
      "\u001b[34mSM_CHANNELS=[\"train\"]\u001b[0m\n",
      "\u001b[34mSM_CURRENT_HOST=algo-1\u001b[0m\n",
      "\u001b[34mSM_MODULE_NAME=model\u001b[0m\n",
      "\u001b[34mSM_LOG_LEVEL=20\u001b[0m\n",
      "\u001b[34mSM_FRAMEWORK_MODULE=sagemaker_sklearn_container.training:main\u001b[0m\n",
      "\u001b[34mSM_INPUT_DIR=/opt/ml/input\u001b[0m\n",
      "\u001b[34mSM_INPUT_CONFIG_DIR=/opt/ml/input/config\u001b[0m\n",
      "\u001b[34mSM_OUTPUT_DIR=/opt/ml/output\u001b[0m\n",
      "\u001b[34mSM_NUM_CPUS=4\u001b[0m\n",
      "\u001b[34mSM_NUM_GPUS=0\u001b[0m\n",
      "\u001b[34mSM_MODEL_DIR=/opt/ml/model\u001b[0m\n",
      "\u001b[34mSM_MODULE_DIR=s3://sagemaker-us-east-1-706015522303/sagemaker-scikit-learn-2020-04-27-14-45-47-186/source/sourcedir.tar.gz\u001b[0m\n",
      "\u001b[34mSM_TRAINING_ENV={\"additional_framework_parameters\":{},\"channel_input_dirs\":{\"train\":\"/opt/ml/input/data/train\"},\"current_host\":\"algo-1\",\"framework_module\":\"sagemaker_sklearn_container.training:main\",\"hosts\":[\"algo-1\"],\"hyperparameters\":{},\"input_config_dir\":\"/opt/ml/input/config\",\"input_data_config\":{\"train\":{\"RecordWrapperType\":\"None\",\"S3DistributionType\":\"FullyReplicated\",\"TrainingInputMode\":\"File\"}},\"input_dir\":\"/opt/ml/input\",\"is_master\":true,\"job_name\":\"sagemaker-scikit-learn-2020-04-27-14-45-47-186\",\"log_level\":20,\"master_hostname\":\"algo-1\",\"model_dir\":\"/opt/ml/model\",\"module_dir\":\"s3://sagemaker-us-east-1-706015522303/sagemaker-scikit-learn-2020-04-27-14-45-47-186/source/sourcedir.tar.gz\",\"module_name\":\"model\",\"network_interface_name\":\"eth0\",\"num_cpus\":4,\"num_gpus\":0,\"output_data_dir\":\"/opt/ml/output/data\",\"output_dir\":\"/opt/ml/output\",\"output_intermediate_dir\":\"/opt/ml/output/intermediate\",\"resource_config\":{\"current_host\":\"algo-1\",\"hosts\":[\"algo-1\"],\"network_interface_name\":\"eth0\"},\"user_entry_point\":\"model.py\"}\u001b[0m\n",
      "\u001b[34mSM_USER_ARGS=[]\u001b[0m\n",
      "\u001b[34mSM_OUTPUT_INTERMEDIATE_DIR=/opt/ml/output/intermediate\u001b[0m\n",
      "\u001b[34mSM_CHANNEL_TRAIN=/opt/ml/input/data/train\u001b[0m\n",
      "\u001b[34mPYTHONPATH=/miniconda3/bin:/miniconda3/lib/python37.zip:/miniconda3/lib/python3.7:/miniconda3/lib/python3.7/lib-dynload:/miniconda3/lib/python3.7/site-packages\n",
      "\u001b[0m\n",
      "\u001b[34mInvoking script with the following command:\n",
      "\u001b[0m\n",
      "\u001b[34m/miniconda3/bin/python -m model\n",
      "\n",
      "\u001b[0m\n",
      "\u001b[34m/miniconda3/lib/python3.7/site-packages/sklearn/externals/joblib/externals/cloudpickle/cloudpickle.py:47: DeprecationWarning: the imp module is deprecated in favour of importlib; see the module's documentation for alternative uses\n",
      "  import imp\u001b[0m\n",
      "\u001b[34m2020-04-27 14:49:23,998 sagemaker-containers INFO     Reporting training SUCCESS\u001b[0m\n",
      "\n",
      "2020-04-27 14:49:32 Uploading - Uploading generated training model\n",
      "2020-04-27 14:49:32 Completed - Training job completed\n",
      "Training seconds: 65\n",
      "Billable seconds: 65\n"
     ]
    }
   ],
   "source": [
    "sklearn.fit({'train': inputs})"
   ]
  },
  {
   "cell_type": "code",
   "execution_count": 59,
   "metadata": {},
   "outputs": [
    {
     "name": "stdout",
     "output_type": "stream",
     "text": [
      "---------------!"
     ]
    }
   ],
   "source": [
    "predictor = sklearn.deploy(initial_instance_count=1,\n",
    "                           instance_type=\"ml.m4.xlarge\"\n",
    "                              )"
   ]
  },
  {
   "cell_type": "code",
   "execution_count": 13,
   "metadata": {},
   "outputs": [],
   "source": [
    "import os\n",
    "import pickle as pkl\n",
    "with open(os.path.join(\"data/\", \"data.pickle\"), 'rb') as handle:\n",
    "    data = pkl.load(handle)"
   ]
  },
  {
   "cell_type": "code",
   "execution_count": 16,
   "metadata": {},
   "outputs": [],
   "source": [
    "train = data['data']\n",
    "label = data['label']"
   ]
  },
  {
   "cell_type": "code",
   "execution_count": null,
   "metadata": {},
   "outputs": [],
   "source": []
  },
  {
   "cell_type": "code",
   "execution_count": 49,
   "metadata": {},
   "outputs": [
    {
     "ename": "ModelError",
     "evalue": "An error occurred (ModelError) when calling the InvokeEndpoint operation: Received server error (500) from model with message \"<!DOCTYPE HTML PUBLIC \"-//W3C//DTD HTML 3.2 Final//EN\">\n<title>500 Internal Server Error</title>\n<h1>Internal Server Error</h1>\n<p>The server encountered an internal error and was unable to complete your request. Either the server is overloaded or there is an error in the application.</p>\n\". See https://us-east-1.console.aws.amazon.com/cloudwatch/home?region=us-east-1#logEventViewer:group=/aws/sagemaker/Endpoints/sagemaker-scikit-learn-2020-04-27-14-14-44-763 in account 706015522303 for more information.",
     "output_type": "error",
     "traceback": [
      "\u001b[0;31m---------------------------------------------------------------------------\u001b[0m",
      "\u001b[0;31mModelError\u001b[0m                                Traceback (most recent call last)",
      "\u001b[0;32m<ipython-input-49-d12e910e20a7>\u001b[0m in \u001b[0;36m<module>\u001b[0;34m()\u001b[0m\n\u001b[0;32m----> 1\u001b[0;31m \u001b[0mprint\u001b[0m\u001b[0;34m(\u001b[0m\u001b[0mpredictor\u001b[0m\u001b[0;34m.\u001b[0m\u001b[0mpredict\u001b[0m\u001b[0;34m(\u001b[0m\u001b[0mtrain\u001b[0m\u001b[0;34m[\u001b[0m\u001b[0;36m0\u001b[0m\u001b[0;34m]\u001b[0m\u001b[0;34m)\u001b[0m\u001b[0;34m)\u001b[0m\u001b[0;34m\u001b[0m\u001b[0m\n\u001b[0m",
      "\u001b[0;32m~/anaconda3/envs/pytorch_p36/lib/python3.6/site-packages/sagemaker/predictor.py\u001b[0m in \u001b[0;36mpredict\u001b[0;34m(self, data, initial_args, target_model)\u001b[0m\n\u001b[1;32m    108\u001b[0m \u001b[0;34m\u001b[0m\u001b[0m\n\u001b[1;32m    109\u001b[0m         \u001b[0mrequest_args\u001b[0m \u001b[0;34m=\u001b[0m \u001b[0mself\u001b[0m\u001b[0;34m.\u001b[0m\u001b[0m_create_request_args\u001b[0m\u001b[0;34m(\u001b[0m\u001b[0mdata\u001b[0m\u001b[0;34m,\u001b[0m \u001b[0minitial_args\u001b[0m\u001b[0;34m,\u001b[0m \u001b[0mtarget_model\u001b[0m\u001b[0;34m)\u001b[0m\u001b[0;34m\u001b[0m\u001b[0m\n\u001b[0;32m--> 110\u001b[0;31m         \u001b[0mresponse\u001b[0m \u001b[0;34m=\u001b[0m \u001b[0mself\u001b[0m\u001b[0;34m.\u001b[0m\u001b[0msagemaker_session\u001b[0m\u001b[0;34m.\u001b[0m\u001b[0msagemaker_runtime_client\u001b[0m\u001b[0;34m.\u001b[0m\u001b[0minvoke_endpoint\u001b[0m\u001b[0;34m(\u001b[0m\u001b[0;34m**\u001b[0m\u001b[0mrequest_args\u001b[0m\u001b[0;34m)\u001b[0m\u001b[0;34m\u001b[0m\u001b[0m\n\u001b[0m\u001b[1;32m    111\u001b[0m         \u001b[0;32mreturn\u001b[0m \u001b[0mself\u001b[0m\u001b[0;34m.\u001b[0m\u001b[0m_handle_response\u001b[0m\u001b[0;34m(\u001b[0m\u001b[0mresponse\u001b[0m\u001b[0;34m)\u001b[0m\u001b[0;34m\u001b[0m\u001b[0m\n\u001b[1;32m    112\u001b[0m \u001b[0;34m\u001b[0m\u001b[0m\n",
      "\u001b[0;32m~/anaconda3/envs/pytorch_p36/lib/python3.6/site-packages/botocore/client.py\u001b[0m in \u001b[0;36m_api_call\u001b[0;34m(self, *args, **kwargs)\u001b[0m\n\u001b[1;32m    314\u001b[0m                     \"%s() only accepts keyword arguments.\" % py_operation_name)\n\u001b[1;32m    315\u001b[0m             \u001b[0;31m# The \"self\" in this scope is referring to the BaseClient.\u001b[0m\u001b[0;34m\u001b[0m\u001b[0;34m\u001b[0m\u001b[0m\n\u001b[0;32m--> 316\u001b[0;31m             \u001b[0;32mreturn\u001b[0m \u001b[0mself\u001b[0m\u001b[0;34m.\u001b[0m\u001b[0m_make_api_call\u001b[0m\u001b[0;34m(\u001b[0m\u001b[0moperation_name\u001b[0m\u001b[0;34m,\u001b[0m \u001b[0mkwargs\u001b[0m\u001b[0;34m)\u001b[0m\u001b[0;34m\u001b[0m\u001b[0m\n\u001b[0m\u001b[1;32m    317\u001b[0m \u001b[0;34m\u001b[0m\u001b[0m\n\u001b[1;32m    318\u001b[0m         \u001b[0m_api_call\u001b[0m\u001b[0;34m.\u001b[0m\u001b[0m__name__\u001b[0m \u001b[0;34m=\u001b[0m \u001b[0mstr\u001b[0m\u001b[0;34m(\u001b[0m\u001b[0mpy_operation_name\u001b[0m\u001b[0;34m)\u001b[0m\u001b[0;34m\u001b[0m\u001b[0m\n",
      "\u001b[0;32m~/anaconda3/envs/pytorch_p36/lib/python3.6/site-packages/botocore/client.py\u001b[0m in \u001b[0;36m_make_api_call\u001b[0;34m(self, operation_name, api_params)\u001b[0m\n\u001b[1;32m    624\u001b[0m             \u001b[0merror_code\u001b[0m \u001b[0;34m=\u001b[0m \u001b[0mparsed_response\u001b[0m\u001b[0;34m.\u001b[0m\u001b[0mget\u001b[0m\u001b[0;34m(\u001b[0m\u001b[0;34m\"Error\"\u001b[0m\u001b[0;34m,\u001b[0m \u001b[0;34m{\u001b[0m\u001b[0;34m}\u001b[0m\u001b[0;34m)\u001b[0m\u001b[0;34m.\u001b[0m\u001b[0mget\u001b[0m\u001b[0;34m(\u001b[0m\u001b[0;34m\"Code\"\u001b[0m\u001b[0;34m)\u001b[0m\u001b[0;34m\u001b[0m\u001b[0m\n\u001b[1;32m    625\u001b[0m             \u001b[0merror_class\u001b[0m \u001b[0;34m=\u001b[0m \u001b[0mself\u001b[0m\u001b[0;34m.\u001b[0m\u001b[0mexceptions\u001b[0m\u001b[0;34m.\u001b[0m\u001b[0mfrom_code\u001b[0m\u001b[0;34m(\u001b[0m\u001b[0merror_code\u001b[0m\u001b[0;34m)\u001b[0m\u001b[0;34m\u001b[0m\u001b[0m\n\u001b[0;32m--> 626\u001b[0;31m             \u001b[0;32mraise\u001b[0m \u001b[0merror_class\u001b[0m\u001b[0;34m(\u001b[0m\u001b[0mparsed_response\u001b[0m\u001b[0;34m,\u001b[0m \u001b[0moperation_name\u001b[0m\u001b[0;34m)\u001b[0m\u001b[0;34m\u001b[0m\u001b[0m\n\u001b[0m\u001b[1;32m    627\u001b[0m         \u001b[0;32melse\u001b[0m\u001b[0;34m:\u001b[0m\u001b[0;34m\u001b[0m\u001b[0m\n\u001b[1;32m    628\u001b[0m             \u001b[0;32mreturn\u001b[0m \u001b[0mparsed_response\u001b[0m\u001b[0;34m\u001b[0m\u001b[0m\n",
      "\u001b[0;31mModelError\u001b[0m: An error occurred (ModelError) when calling the InvokeEndpoint operation: Received server error (500) from model with message \"<!DOCTYPE HTML PUBLIC \"-//W3C//DTD HTML 3.2 Final//EN\">\n<title>500 Internal Server Error</title>\n<h1>Internal Server Error</h1>\n<p>The server encountered an internal error and was unable to complete your request. Either the server is overloaded or there is an error in the application.</p>\n\". See https://us-east-1.console.aws.amazon.com/cloudwatch/home?region=us-east-1#logEventViewer:group=/aws/sagemaker/Endpoints/sagemaker-scikit-learn-2020-04-27-14-14-44-763 in account 706015522303 for more information."
     ]
    }
   ],
   "source": [
    "print(predictor.predict(train[0]))"
   ]
  },
  {
   "cell_type": "code",
   "execution_count": 26,
   "metadata": {},
   "outputs": [
    {
     "data": {
      "text/plain": [
       "list"
      ]
     },
     "execution_count": 26,
     "metadata": {},
     "output_type": "execute_result"
    }
   ],
   "source": [
    "type(train)"
   ]
  },
  {
   "cell_type": "code",
   "execution_count": 20,
   "metadata": {},
   "outputs": [
    {
     "name": "stdout",
     "output_type": "stream",
     "text": [
      "['Joaquin', 'Joaquin', 'Joaquin', 'Joaquin', 'Joaquin', 'Joaquin', 'Joaquin', 'Joaquin', 'Joaquin', 'Joaquin']\n"
     ]
    }
   ],
   "source": [
    "print(label[:10])"
   ]
  },
  {
   "cell_type": "code",
   "execution_count": 62,
   "metadata": {},
   "outputs": [],
   "source": [
    "sklearn.delete_endpoint()"
   ]
  },
  {
   "cell_type": "code",
   "execution_count": 35,
   "metadata": {},
   "outputs": [],
   "source": [
    "import io\n",
    "import numpy as np\n",
    "def np2csv(arr):\n",
    "    csv = io.BytesIO()\n",
    "    np.savetxt(csv, arr, delimiter=',', fmt='%g')\n",
    "    return csv.getvalue().decode().rstrip()"
   ]
  },
  {
   "cell_type": "code",
   "execution_count": 54,
   "metadata": {},
   "outputs": [],
   "source": [
    "csv = np2csv(testX[0].reshape((1, -1)))"
   ]
  },
  {
   "cell_type": "code",
   "execution_count": 55,
   "metadata": {},
   "outputs": [
    {
     "data": {
      "text/plain": [
       "'-0.0276967,-0.00947405,-0.0437801,-0.00265858,0.0659367,-0.0583536,0.0515616,-0.0571609,0.0152766,-0.0283148,0.0513925,-0.0626204,0.0454505,-0.0574892,-0.051499,-0.0289718,-0.0649302,0.052929,0.0365728,0.0483517,-0.000967004,1.59277e-05,0.0607418,0.0108548,0.0150728,-0.0374967,0.0137491,-0.133851,-0.0824334,0.0435455,0.0533719,0.0382914,-0.0632364,-0.0352004,0.08106,0.0039423,0.118406,-0.052887,-0.00549808,0.00700636,-0.0702291,0.037005,-0.0142568,-0.00580784,0.000908085,0.00844869,-0.0418347,0.0548378,-0.0324489,0.0117128,0.0233124,-0.100277,-0.0826881,0.082128,-0.022932,-0.0436458,0.000652619,0.00654165,-0.0482634,-0.00501404,0.0456865,0.047958,0.0145354,-0.0282688,0.00468444,-0.0396894,0.00947171,-0.0296179,0.0590882,0.0229156,0.0203455,-0.00783025,-0.0115986,-0.000327578,1.4225e-07,-0.0583341,0.041384,-0.00976306,0.0501623,0.027557,0.0223692,0.0727697,0.0429439,-0.0354119,-0.00747092,0.0426174,0.032778,0.012745,0.0534812,0.00144818,0.0154812,0.0304081,0.0257239,-0.00314719,0.0112507,-0.0322949,-0.00163836,-0.00777959,-0.0594633,0.0691935,-0.0271301,-0.00193236,-0.00868254,0.00328667,-0.0426857,0.00757082,-0.04147,0.00640699,0.00244944,-0.025271,0.0801133,0.0388501,0.0218317,-0.00629861,0.00643296,0.0146652,0.0321844,0.039124,-0.00807282,0.0793575,-0.0147464,-0.0364647,0.0466949,0.0619446,0.0231739,0.0361656,-0.0997184,0.00794785,-0.0292455,0.0172388,0.0675048,-0.0604895,-0.0276857,-0.0112005,0.0497536,0.0588293,-0.048098,-0.0132789,-0.0228707,0.00996052,-0.0757267,0.0353141,-0.0772488,0.0636338,-0.00106177,0.0309059,0.0118546,0.0606465,0.0839717,-0.00678049,-0.0366011,-0.0121807,0.0116178,0.0245576,-0.00798683,-0.0388905,0.033276,0.05874,-0.0125531,-0.0176369,-0.0185889,-0.0123224,-0.0641041,-0.0343398,0.0284501,-0.018697,-0.0491035,0.013885,0.0163929,-0.066301,-0.0245414,-0.0633655,-0.0240538,0.0535312,-0.0173584,0.0129524,-0.00324997,0.0115076,-0.0324572,0.0130009,0.0108882,0.0214499,0.0409617,0.00445734,0.0110461,0.06445,0.0429745,-0.00203655,-0.0291573,-0.0013373,-0.0550546,-0.0617904,0.0627324,0.0196247,0.0182729,-0.0456742,0.0119009,0.0523374,0.0833149,0.0660858,-0.0188903,-0.0729521,-0.0376244,0.0644892,0.084079,0.0582617,0.0342736,0.0157046,0.0332689,0.00146101,-0.0223449,-0.0333694,-0.0293729,-0.0158189,-0.0730505,0.059584,0.0362486,0.00908521,0.0876593,-0.0111159,0.00202254,-0.0200469,0.0605237,0.025037,0.0411673,0.0511052,-0.0387769,0.00731589,-0.0196043,-0.012889,0.0441027,0.106678,-0.00590669,0.0897305,0.0555688,0.0372675,-0.130867,-0.0273464,-0.0115793,-0.00591241,-0.0112621,0.0103511,-0.0151601,0.0492607,0.0439259,-0.041355,-0.053345,0.038998,0.0430434,0.0341845,0.0140387,-0.0493868,-0.0367291,-0.0460744,0.0329136,-0.14412,-0.00232438,-0.0318276,-0.00169434,-0.0508195,-0.0253249,-0.0110696,0.0168677,0.0191119,-0.0110486,0.0257397,4.54184e-05,0.0142168,0.00192418,-0.0303764,-0.0227194,-0.0293178,-0.016615,-0.0137673,-0.0520613,0.0294004,0.0895139,0.0265967,0.017271,-0.0588772,0.0125366,0.033972,0.031638,0.0372978,0.0297503,-0.0975308,0.0426355,-0.0699706,-0.0322851,0.00487301,-0.0507254,-0.0379768,-0.0693721,-0.00580341,-0.00765418,0.0535765,-0.00731775,0.0298335,-0.0503021,0.0163955,0.018624,0.117849,-0.0181398,0.0467053,0.00746784,0.0163954,-0.0625134,0.00315963,-0.0514234,0.0368316,0.0394505,0.028917,0.0823461,-0.0452397,0.0158513,0.0311922,-0.0224229,-0.0126643,-0.0175773,0.010854,0.0357116,0.0121427,0.073522,0.0707268,0.0129753,0.0336054,0.0827462,-0.00366223,0.0345921,-0.0488704,0.00826003,-0.015145,0.0334493,0.063931,0.00574757,-0.0572898,0.0115135,0.0446239,0.0540505,-0.0189704,0.0852374,-0.0018489,-0.0677606,-0.0243957,0.0195378,0.0580924,-0.0270654,0.0159174,0.027749,-0.044575,0.00928568,-0.00952048,0.025051,-0.0159461,-0.0133902,0.0370032,0.0170962,-0.0388959,0.0269328,-0.0317196,0.0902496,0.0198549,-0.0403253,0.000279502,0.0703056,-0.0629347,0.0217308,-0.0648049,-0.0787517,0.0146233,-0.0598332,0.000432385,-0.0400429,0.0163508,-0.0286609,0.0173345,0.00407679,-0.0380764,0.0174793,0.0411893,0.0916673,-0.00916899,0.039074,0.00368265,-0.0496062,0.0188996,-0.0743287,0.00611332,-0.0162201,0.0864284,-0.0230371,-0.00604557,-0.0306344,-0.0282751,0.0701231,0.0163393,0.0411633,0.0216195,-0.0148934,-0.0503308,-0.0404425,-0.0611889,-0.0291887,0.0257266,0.081413,-0.0225268,-0.066298,0.0174312,0.0376656,-0.0437157,0.0124335,-0.0303941,-0.0431839,-0.0085594,-0.0525695,-0.00489903,0.0155822,0.0517225,-0.0239549,0.0630855,-0.0636566,-0.0665068,-0.0879822,0.0295442,0.0242407,0.0933877,0.0380948,0.0069632,-0.0435615,0.0643733,-0.0153657,0.0199472,0.01742,0.0414546,-0.0524343,-0.0288435,0.0133241,-0.00869287,-0.0957105,0.00924597,-0.0285564,-0.0912451,-0.00788257,0.0936179,0.057827,0.00343916,-0.0441242,0.0247771,0.0882406,-0.0163073,0.0583279,0.0173423,-0.0451579,-0.0466065,-0.017538,0.0599867,-0.0997944,0.0177813,0.0249382,0.0374793,0.0157735,-0.00177951,-0.0634234,0.0163103,-0.0751965,0.0214581,-0.00254643,0.0377019,0.0148579,0.018737,0.0543554,0.0944616,-0.0717279,-0.0133346,-0.0218329,-0.0231808,-0.0782042,-0.0383128,-0.0502369,-0.00955437,-0.0533649,-0.00853629,0.0856726,0.0720513,-0.0292387,0.0533444,-0.00779124,0.0395485,0.0608189,-0.051954,0.0627323,-0.0245881,-0.0465539,0.0415059,0.0847331,0.0293138,-0.0129677,0.04634,0.0190904,-0.0159812,0.0258414,-0.0881336,0.0385977,0.00282524,0.078307,0.0637025,-0.00764531,0.0296165,-0.023221,-0.0337264,0.0670784,-0.0236823'"
      ]
     },
     "execution_count": 55,
     "metadata": {},
     "output_type": "execute_result"
    }
   ],
   "source": [
    "csv"
   ]
  },
  {
   "cell_type": "code",
   "execution_count": 46,
   "metadata": {},
   "outputs": [
    {
     "data": {
      "text/plain": [
       "(512,)"
      ]
     },
     "execution_count": 46,
     "metadata": {},
     "output_type": "execute_result"
    }
   ],
   "source": [
    "testX[0].shape"
   ]
  },
  {
   "cell_type": "code",
   "execution_count": 111,
   "metadata": {},
   "outputs": [],
   "source": [
    "# Test\n",
    "import json\n",
    "import ast\n",
    "import numpy as np\n",
    "\n",
    "with open(\"new1.txt\") as json_data:\n",
    "    test = json.load(json_data)"
   ]
  },
  {
   "cell_type": "code",
   "execution_count": 31,
   "metadata": {},
   "outputs": [
    {
     "ename": "TypeError",
     "evalue": "Object of type 'float32' is not JSON serializable",
     "output_type": "error",
     "traceback": [
      "\u001b[0;31m---------------------------------------------------------------------------\u001b[0m",
      "\u001b[0;31mTypeError\u001b[0m                                 Traceback (most recent call last)",
      "\u001b[0;32m<ipython-input-31-3f4eb2fae256>\u001b[0m in \u001b[0;36m<module>\u001b[0;34m()\u001b[0m\n\u001b[1;32m      2\u001b[0m \u001b[0;34m\u001b[0m\u001b[0m\n\u001b[1;32m      3\u001b[0m \u001b[0mtest\u001b[0m \u001b[0;34m=\u001b[0m \u001b[0mlist\u001b[0m\u001b[0;34m(\u001b[0m\u001b[0mtestX\u001b[0m\u001b[0;34m[\u001b[0m\u001b[0;36m0\u001b[0m\u001b[0;34m]\u001b[0m\u001b[0;34m)\u001b[0m\u001b[0;34m\u001b[0m\u001b[0m\n\u001b[0;32m----> 4\u001b[0;31m \u001b[0mto_json\u001b[0m\u001b[0;34m=\u001b[0m \u001b[0mjson\u001b[0m\u001b[0;34m.\u001b[0m\u001b[0mdumps\u001b[0m\u001b[0;34m(\u001b[0m\u001b[0mtest\u001b[0m\u001b[0;34m)\u001b[0m\u001b[0;34m\u001b[0m\u001b[0m\n\u001b[0m",
      "\u001b[0;32m~/anaconda3/envs/pytorch_p36/lib/python3.6/json/__init__.py\u001b[0m in \u001b[0;36mdumps\u001b[0;34m(obj, skipkeys, ensure_ascii, check_circular, allow_nan, cls, indent, separators, default, sort_keys, **kw)\u001b[0m\n\u001b[1;32m    229\u001b[0m         \u001b[0mcls\u001b[0m \u001b[0;32mis\u001b[0m \u001b[0;32mNone\u001b[0m \u001b[0;32mand\u001b[0m \u001b[0mindent\u001b[0m \u001b[0;32mis\u001b[0m \u001b[0;32mNone\u001b[0m \u001b[0;32mand\u001b[0m \u001b[0mseparators\u001b[0m \u001b[0;32mis\u001b[0m \u001b[0;32mNone\u001b[0m \u001b[0;32mand\u001b[0m\u001b[0;34m\u001b[0m\u001b[0m\n\u001b[1;32m    230\u001b[0m         default is None and not sort_keys and not kw):\n\u001b[0;32m--> 231\u001b[0;31m         \u001b[0;32mreturn\u001b[0m \u001b[0m_default_encoder\u001b[0m\u001b[0;34m.\u001b[0m\u001b[0mencode\u001b[0m\u001b[0;34m(\u001b[0m\u001b[0mobj\u001b[0m\u001b[0;34m)\u001b[0m\u001b[0;34m\u001b[0m\u001b[0m\n\u001b[0m\u001b[1;32m    232\u001b[0m     \u001b[0;32mif\u001b[0m \u001b[0mcls\u001b[0m \u001b[0;32mis\u001b[0m \u001b[0;32mNone\u001b[0m\u001b[0;34m:\u001b[0m\u001b[0;34m\u001b[0m\u001b[0m\n\u001b[1;32m    233\u001b[0m         \u001b[0mcls\u001b[0m \u001b[0;34m=\u001b[0m \u001b[0mJSONEncoder\u001b[0m\u001b[0;34m\u001b[0m\u001b[0m\n",
      "\u001b[0;32m~/anaconda3/envs/pytorch_p36/lib/python3.6/json/encoder.py\u001b[0m in \u001b[0;36mencode\u001b[0;34m(self, o)\u001b[0m\n\u001b[1;32m    197\u001b[0m         \u001b[0;31m# exceptions aren't as detailed.  The list call should be roughly\u001b[0m\u001b[0;34m\u001b[0m\u001b[0;34m\u001b[0m\u001b[0m\n\u001b[1;32m    198\u001b[0m         \u001b[0;31m# equivalent to the PySequence_Fast that ''.join() would do.\u001b[0m\u001b[0;34m\u001b[0m\u001b[0;34m\u001b[0m\u001b[0m\n\u001b[0;32m--> 199\u001b[0;31m         \u001b[0mchunks\u001b[0m \u001b[0;34m=\u001b[0m \u001b[0mself\u001b[0m\u001b[0;34m.\u001b[0m\u001b[0miterencode\u001b[0m\u001b[0;34m(\u001b[0m\u001b[0mo\u001b[0m\u001b[0;34m,\u001b[0m \u001b[0m_one_shot\u001b[0m\u001b[0;34m=\u001b[0m\u001b[0;32mTrue\u001b[0m\u001b[0;34m)\u001b[0m\u001b[0;34m\u001b[0m\u001b[0m\n\u001b[0m\u001b[1;32m    200\u001b[0m         \u001b[0;32mif\u001b[0m \u001b[0;32mnot\u001b[0m \u001b[0misinstance\u001b[0m\u001b[0;34m(\u001b[0m\u001b[0mchunks\u001b[0m\u001b[0;34m,\u001b[0m \u001b[0;34m(\u001b[0m\u001b[0mlist\u001b[0m\u001b[0;34m,\u001b[0m \u001b[0mtuple\u001b[0m\u001b[0;34m)\u001b[0m\u001b[0;34m)\u001b[0m\u001b[0;34m:\u001b[0m\u001b[0;34m\u001b[0m\u001b[0m\n\u001b[1;32m    201\u001b[0m             \u001b[0mchunks\u001b[0m \u001b[0;34m=\u001b[0m \u001b[0mlist\u001b[0m\u001b[0;34m(\u001b[0m\u001b[0mchunks\u001b[0m\u001b[0;34m)\u001b[0m\u001b[0;34m\u001b[0m\u001b[0m\n",
      "\u001b[0;32m~/anaconda3/envs/pytorch_p36/lib/python3.6/json/encoder.py\u001b[0m in \u001b[0;36miterencode\u001b[0;34m(self, o, _one_shot)\u001b[0m\n\u001b[1;32m    255\u001b[0m                 \u001b[0mself\u001b[0m\u001b[0;34m.\u001b[0m\u001b[0mkey_separator\u001b[0m\u001b[0;34m,\u001b[0m \u001b[0mself\u001b[0m\u001b[0;34m.\u001b[0m\u001b[0mitem_separator\u001b[0m\u001b[0;34m,\u001b[0m \u001b[0mself\u001b[0m\u001b[0;34m.\u001b[0m\u001b[0msort_keys\u001b[0m\u001b[0;34m,\u001b[0m\u001b[0;34m\u001b[0m\u001b[0m\n\u001b[1;32m    256\u001b[0m                 self.skipkeys, _one_shot)\n\u001b[0;32m--> 257\u001b[0;31m         \u001b[0;32mreturn\u001b[0m \u001b[0m_iterencode\u001b[0m\u001b[0;34m(\u001b[0m\u001b[0mo\u001b[0m\u001b[0;34m,\u001b[0m \u001b[0;36m0\u001b[0m\u001b[0;34m)\u001b[0m\u001b[0;34m\u001b[0m\u001b[0m\n\u001b[0m\u001b[1;32m    258\u001b[0m \u001b[0;34m\u001b[0m\u001b[0m\n\u001b[1;32m    259\u001b[0m def _make_iterencode(markers, _default, _encoder, _indent, _floatstr,\n",
      "\u001b[0;32m~/anaconda3/envs/pytorch_p36/lib/python3.6/json/encoder.py\u001b[0m in \u001b[0;36mdefault\u001b[0;34m(self, o)\u001b[0m\n\u001b[1;32m    178\u001b[0m         \"\"\"\n\u001b[1;32m    179\u001b[0m         raise TypeError(\"Object of type '%s' is not JSON serializable\" %\n\u001b[0;32m--> 180\u001b[0;31m                         o.__class__.__name__)\n\u001b[0m\u001b[1;32m    181\u001b[0m \u001b[0;34m\u001b[0m\u001b[0m\n\u001b[1;32m    182\u001b[0m     \u001b[0;32mdef\u001b[0m \u001b[0mencode\u001b[0m\u001b[0;34m(\u001b[0m\u001b[0mself\u001b[0m\u001b[0;34m,\u001b[0m \u001b[0mo\u001b[0m\u001b[0;34m)\u001b[0m\u001b[0;34m:\u001b[0m\u001b[0;34m\u001b[0m\u001b[0m\n",
      "\u001b[0;31mTypeError\u001b[0m: Object of type 'float32' is not JSON serializable"
     ]
    }
   ],
   "source": [
    "import json \n",
    "\n",
    "test = list(testX[0])\n",
    "to_json= json.dumps(test)"
   ]
  },
  {
   "cell_type": "code",
   "execution_count": 50,
   "metadata": {},
   "outputs": [],
   "source": [
    "data = testX[0]\n",
    "#payload = json.dumps(data.tolist())"
   ]
  },
  {
   "cell_type": "code",
   "execution_count": 20,
   "metadata": {},
   "outputs": [
    {
     "data": {
      "text/plain": [
       "numpy.ndarray"
      ]
     },
     "execution_count": 20,
     "metadata": {},
     "output_type": "execute_result"
    }
   ],
   "source": [
    "type(data)"
   ]
  },
  {
   "cell_type": "code",
   "execution_count": 117,
   "metadata": {},
   "outputs": [],
   "source": [
    "from six import BytesIO\n",
    "test = BytesIO(data)"
   ]
  },
  {
   "cell_type": "code",
   "execution_count": 134,
   "metadata": {},
   "outputs": [
    {
     "data": {
      "text/plain": [
       "(512,)"
      ]
     },
     "execution_count": 134,
     "metadata": {},
     "output_type": "execute_result"
    }
   ],
   "source": [
    "data.shape"
   ]
  },
  {
   "cell_type": "code",
   "execution_count": 18,
   "metadata": {},
   "outputs": [],
   "source": [
    "# from sagemaker.sklearn.model import SKLearnPredictor\n",
    "\n",
    "# predictor = SKLearnPredictor(\"sagemaker-scikit-learn-2020-04-27-05-21-00-478\", sagemaker_session=None)\n",
    "# result = predictor.predict(data)"
   ]
  },
  {
   "cell_type": "code",
   "execution_count": 61,
   "metadata": {},
   "outputs": [
    {
     "data": {
      "text/plain": [
       "'-0.0276967,-0.00947405,-0.0437801,-0.00265858,0.0659367,-0.0583536,0.0515616,-0.0571609,0.0152766,-0.0283148,0.0513925,-0.0626204,0.0454505,-0.0574892,-0.051499,-0.0289718,-0.0649302,0.052929,0.0365728,0.0483517,-0.000967004,1.59277e-05,0.0607418,0.0108548,0.0150728,-0.0374967,0.0137491,-0.133851,-0.0824334,0.0435455,0.0533719,0.0382914,-0.0632364,-0.0352004,0.08106,0.0039423,0.118406,-0.052887,-0.00549808,0.00700636,-0.0702291,0.037005,-0.0142568,-0.00580784,0.000908085,0.00844869,-0.0418347,0.0548378,-0.0324489,0.0117128,0.0233124,-0.100277,-0.0826881,0.082128,-0.022932,-0.0436458,0.000652619,0.00654165,-0.0482634,-0.00501404,0.0456865,0.047958,0.0145354,-0.0282688,0.00468444,-0.0396894,0.00947171,-0.0296179,0.0590882,0.0229156,0.0203455,-0.00783025,-0.0115986,-0.000327578,1.4225e-07,-0.0583341,0.041384,-0.00976306,0.0501623,0.027557,0.0223692,0.0727697,0.0429439,-0.0354119,-0.00747092,0.0426174,0.032778,0.012745,0.0534812,0.00144818,0.0154812,0.0304081,0.0257239,-0.00314719,0.0112507,-0.0322949,-0.00163836,-0.00777959,-0.0594633,0.0691935,-0.0271301,-0.00193236,-0.00868254,0.00328667,-0.0426857,0.00757082,-0.04147,0.00640699,0.00244944,-0.025271,0.0801133,0.0388501,0.0218317,-0.00629861,0.00643296,0.0146652,0.0321844,0.039124,-0.00807282,0.0793575,-0.0147464,-0.0364647,0.0466949,0.0619446,0.0231739,0.0361656,-0.0997184,0.00794785,-0.0292455,0.0172388,0.0675048,-0.0604895,-0.0276857,-0.0112005,0.0497536,0.0588293,-0.048098,-0.0132789,-0.0228707,0.00996052,-0.0757267,0.0353141,-0.0772488,0.0636338,-0.00106177,0.0309059,0.0118546,0.0606465,0.0839717,-0.00678049,-0.0366011,-0.0121807,0.0116178,0.0245576,-0.00798683,-0.0388905,0.033276,0.05874,-0.0125531,-0.0176369,-0.0185889,-0.0123224,-0.0641041,-0.0343398,0.0284501,-0.018697,-0.0491035,0.013885,0.0163929,-0.066301,-0.0245414,-0.0633655,-0.0240538,0.0535312,-0.0173584,0.0129524,-0.00324997,0.0115076,-0.0324572,0.0130009,0.0108882,0.0214499,0.0409617,0.00445734,0.0110461,0.06445,0.0429745,-0.00203655,-0.0291573,-0.0013373,-0.0550546,-0.0617904,0.0627324,0.0196247,0.0182729,-0.0456742,0.0119009,0.0523374,0.0833149,0.0660858,-0.0188903,-0.0729521,-0.0376244,0.0644892,0.084079,0.0582617,0.0342736,0.0157046,0.0332689,0.00146101,-0.0223449,-0.0333694,-0.0293729,-0.0158189,-0.0730505,0.059584,0.0362486,0.00908521,0.0876593,-0.0111159,0.00202254,-0.0200469,0.0605237,0.025037,0.0411673,0.0511052,-0.0387769,0.00731589,-0.0196043,-0.012889,0.0441027,0.106678,-0.00590669,0.0897305,0.0555688,0.0372675,-0.130867,-0.0273464,-0.0115793,-0.00591241,-0.0112621,0.0103511,-0.0151601,0.0492607,0.0439259,-0.041355,-0.053345,0.038998,0.0430434,0.0341845,0.0140387,-0.0493868,-0.0367291,-0.0460744,0.0329136,-0.14412,-0.00232438,-0.0318276,-0.00169434,-0.0508195,-0.0253249,-0.0110696,0.0168677,0.0191119,-0.0110486,0.0257397,4.54184e-05,0.0142168,0.00192418,-0.0303764,-0.0227194,-0.0293178,-0.016615,-0.0137673,-0.0520613,0.0294004,0.0895139,0.0265967,0.017271,-0.0588772,0.0125366,0.033972,0.031638,0.0372978,0.0297503,-0.0975308,0.0426355,-0.0699706,-0.0322851,0.00487301,-0.0507254,-0.0379768,-0.0693721,-0.00580341,-0.00765418,0.0535765,-0.00731775,0.0298335,-0.0503021,0.0163955,0.018624,0.117849,-0.0181398,0.0467053,0.00746784,0.0163954,-0.0625134,0.00315963,-0.0514234,0.0368316,0.0394505,0.028917,0.0823461,-0.0452397,0.0158513,0.0311922,-0.0224229,-0.0126643,-0.0175773,0.010854,0.0357116,0.0121427,0.073522,0.0707268,0.0129753,0.0336054,0.0827462,-0.00366223,0.0345921,-0.0488704,0.00826003,-0.015145,0.0334493,0.063931,0.00574757,-0.0572898,0.0115135,0.0446239,0.0540505,-0.0189704,0.0852374,-0.0018489,-0.0677606,-0.0243957,0.0195378,0.0580924,-0.0270654,0.0159174,0.027749,-0.044575,0.00928568,-0.00952048,0.025051,-0.0159461,-0.0133902,0.0370032,0.0170962,-0.0388959,0.0269328,-0.0317196,0.0902496,0.0198549,-0.0403253,0.000279502,0.0703056,-0.0629347,0.0217308,-0.0648049,-0.0787517,0.0146233,-0.0598332,0.000432385,-0.0400429,0.0163508,-0.0286609,0.0173345,0.00407679,-0.0380764,0.0174793,0.0411893,0.0916673,-0.00916899,0.039074,0.00368265,-0.0496062,0.0188996,-0.0743287,0.00611332,-0.0162201,0.0864284,-0.0230371,-0.00604557,-0.0306344,-0.0282751,0.0701231,0.0163393,0.0411633,0.0216195,-0.0148934,-0.0503308,-0.0404425,-0.0611889,-0.0291887,0.0257266,0.081413,-0.0225268,-0.066298,0.0174312,0.0376656,-0.0437157,0.0124335,-0.0303941,-0.0431839,-0.0085594,-0.0525695,-0.00489903,0.0155822,0.0517225,-0.0239549,0.0630855,-0.0636566,-0.0665068,-0.0879822,0.0295442,0.0242407,0.0933877,0.0380948,0.0069632,-0.0435615,0.0643733,-0.0153657,0.0199472,0.01742,0.0414546,-0.0524343,-0.0288435,0.0133241,-0.00869287,-0.0957105,0.00924597,-0.0285564,-0.0912451,-0.00788257,0.0936179,0.057827,0.00343916,-0.0441242,0.0247771,0.0882406,-0.0163073,0.0583279,0.0173423,-0.0451579,-0.0466065,-0.017538,0.0599867,-0.0997944,0.0177813,0.0249382,0.0374793,0.0157735,-0.00177951,-0.0634234,0.0163103,-0.0751965,0.0214581,-0.00254643,0.0377019,0.0148579,0.018737,0.0543554,0.0944616,-0.0717279,-0.0133346,-0.0218329,-0.0231808,-0.0782042,-0.0383128,-0.0502369,-0.00955437,-0.0533649,-0.00853629,0.0856726,0.0720513,-0.0292387,0.0533444,-0.00779124,0.0395485,0.0608189,-0.051954,0.0627323,-0.0245881,-0.0465539,0.0415059,0.0847331,0.0293138,-0.0129677,0.04634,0.0190904,-0.0159812,0.0258414,-0.0881336,0.0385977,0.00282524,0.078307,0.0637025,-0.00764531,0.0296165,-0.023221,-0.0337264,0.0670784,-0.0236823'"
      ]
     },
     "execution_count": 61,
     "metadata": {},
     "output_type": "execute_result"
    }
   ],
   "source": [
    "csv"
   ]
  },
  {
   "cell_type": "code",
   "execution_count": 60,
   "metadata": {},
   "outputs": [
    {
     "ename": "ModelError",
     "evalue": "An error occurred (ModelError) when calling the InvokeEndpoint operation: Received server error (500) from model with message \"<!DOCTYPE HTML PUBLIC \"-//W3C//DTD HTML 3.2 Final//EN\">\n<title>500 Internal Server Error</title>\n<h1>Internal Server Error</h1>\n<p>The server encountered an internal error and was unable to complete your request. Either the server is overloaded or there is an error in the application.</p>\n\". See https://us-east-1.console.aws.amazon.com/cloudwatch/home?region=us-east-1#logEventViewer:group=/aws/sagemaker/Endpoints/sagemaker-scikit-learn-2020-04-27-14-45-47-186 in account 706015522303 for more information.",
     "output_type": "error",
     "traceback": [
      "\u001b[0;31m---------------------------------------------------------------------------\u001b[0m",
      "\u001b[0;31mModelError\u001b[0m                                Traceback (most recent call last)",
      "\u001b[0;32m<ipython-input-60-a3788bf49aad>\u001b[0m in \u001b[0;36m<module>\u001b[0;34m()\u001b[0m\n\u001b[1;32m      6\u001b[0m response = runtime.invoke_endpoint(EndpointName=\"sagemaker-scikit-learn-2020-04-27-14-45-47-186\",\n\u001b[1;32m      7\u001b[0m                                    \u001b[0mContentType\u001b[0m\u001b[0;34m=\u001b[0m \u001b[0;34m'text/csv'\u001b[0m\u001b[0;34m,\u001b[0m\u001b[0;34m\u001b[0m\u001b[0m\n\u001b[0;32m----> 8\u001b[0;31m                                     Body=csv)\n\u001b[0m\u001b[1;32m      9\u001b[0m \u001b[0;31m#result = json.loads(response['Body'].read().decod\u001b[0m\u001b[0;34m\u001b[0m\u001b[0;34m\u001b[0m\u001b[0m\n",
      "\u001b[0;32m~/anaconda3/envs/pytorch_p36/lib/python3.6/site-packages/botocore/client.py\u001b[0m in \u001b[0;36m_api_call\u001b[0;34m(self, *args, **kwargs)\u001b[0m\n\u001b[1;32m    314\u001b[0m                     \"%s() only accepts keyword arguments.\" % py_operation_name)\n\u001b[1;32m    315\u001b[0m             \u001b[0;31m# The \"self\" in this scope is referring to the BaseClient.\u001b[0m\u001b[0;34m\u001b[0m\u001b[0;34m\u001b[0m\u001b[0m\n\u001b[0;32m--> 316\u001b[0;31m             \u001b[0;32mreturn\u001b[0m \u001b[0mself\u001b[0m\u001b[0;34m.\u001b[0m\u001b[0m_make_api_call\u001b[0m\u001b[0;34m(\u001b[0m\u001b[0moperation_name\u001b[0m\u001b[0;34m,\u001b[0m \u001b[0mkwargs\u001b[0m\u001b[0;34m)\u001b[0m\u001b[0;34m\u001b[0m\u001b[0m\n\u001b[0m\u001b[1;32m    317\u001b[0m \u001b[0;34m\u001b[0m\u001b[0m\n\u001b[1;32m    318\u001b[0m         \u001b[0m_api_call\u001b[0m\u001b[0;34m.\u001b[0m\u001b[0m__name__\u001b[0m \u001b[0;34m=\u001b[0m \u001b[0mstr\u001b[0m\u001b[0;34m(\u001b[0m\u001b[0mpy_operation_name\u001b[0m\u001b[0;34m)\u001b[0m\u001b[0;34m\u001b[0m\u001b[0m\n",
      "\u001b[0;32m~/anaconda3/envs/pytorch_p36/lib/python3.6/site-packages/botocore/client.py\u001b[0m in \u001b[0;36m_make_api_call\u001b[0;34m(self, operation_name, api_params)\u001b[0m\n\u001b[1;32m    624\u001b[0m             \u001b[0merror_code\u001b[0m \u001b[0;34m=\u001b[0m \u001b[0mparsed_response\u001b[0m\u001b[0;34m.\u001b[0m\u001b[0mget\u001b[0m\u001b[0;34m(\u001b[0m\u001b[0;34m\"Error\"\u001b[0m\u001b[0;34m,\u001b[0m \u001b[0;34m{\u001b[0m\u001b[0;34m}\u001b[0m\u001b[0;34m)\u001b[0m\u001b[0;34m.\u001b[0m\u001b[0mget\u001b[0m\u001b[0;34m(\u001b[0m\u001b[0;34m\"Code\"\u001b[0m\u001b[0;34m)\u001b[0m\u001b[0;34m\u001b[0m\u001b[0m\n\u001b[1;32m    625\u001b[0m             \u001b[0merror_class\u001b[0m \u001b[0;34m=\u001b[0m \u001b[0mself\u001b[0m\u001b[0;34m.\u001b[0m\u001b[0mexceptions\u001b[0m\u001b[0;34m.\u001b[0m\u001b[0mfrom_code\u001b[0m\u001b[0;34m(\u001b[0m\u001b[0merror_code\u001b[0m\u001b[0;34m)\u001b[0m\u001b[0;34m\u001b[0m\u001b[0m\n\u001b[0;32m--> 626\u001b[0;31m             \u001b[0;32mraise\u001b[0m \u001b[0merror_class\u001b[0m\u001b[0;34m(\u001b[0m\u001b[0mparsed_response\u001b[0m\u001b[0;34m,\u001b[0m \u001b[0moperation_name\u001b[0m\u001b[0;34m)\u001b[0m\u001b[0;34m\u001b[0m\u001b[0m\n\u001b[0m\u001b[1;32m    627\u001b[0m         \u001b[0;32melse\u001b[0m\u001b[0;34m:\u001b[0m\u001b[0;34m\u001b[0m\u001b[0m\n\u001b[1;32m    628\u001b[0m             \u001b[0;32mreturn\u001b[0m \u001b[0mparsed_response\u001b[0m\u001b[0;34m\u001b[0m\u001b[0m\n",
      "\u001b[0;31mModelError\u001b[0m: An error occurred (ModelError) when calling the InvokeEndpoint operation: Received server error (500) from model with message \"<!DOCTYPE HTML PUBLIC \"-//W3C//DTD HTML 3.2 Final//EN\">\n<title>500 Internal Server Error</title>\n<h1>Internal Server Error</h1>\n<p>The server encountered an internal error and was unable to complete your request. Either the server is overloaded or there is an error in the application.</p>\n\". See https://us-east-1.console.aws.amazon.com/cloudwatch/home?region=us-east-1#logEventViewer:group=/aws/sagemaker/Endpoints/sagemaker-scikit-learn-2020-04-27-14-45-47-186 in account 706015522303 for more information."
     ]
    }
   ],
   "source": [
    "import boto3\n",
    "\n",
    "runtime= boto3.client('runtime.sagemaker')\n",
    "\n",
    "#payload = np2csv(test_X)\n",
    "response = runtime.invoke_endpoint(EndpointName=\"sagemaker-scikit-learn-2020-04-27-14-45-47-186\",\n",
    "                                   ContentType= 'text/csv',\n",
    "                                    Body=csv)\n",
    "#result = json.loads(response['Body'].read().decod\n"
   ]
  },
  {
   "cell_type": "code",
   "execution_count": 105,
   "metadata": {},
   "outputs": [
    {
     "data": {
      "text/plain": [
       "<_io.BytesIO at 0x7f4569cf2518>"
      ]
     },
     "execution_count": 105,
     "metadata": {},
     "output_type": "execute_result"
    }
   ],
   "source": [
    "test"
   ]
  },
  {
   "cell_type": "code",
   "execution_count": null,
   "metadata": {},
   "outputs": [],
   "source": [
    "from sagemaker.tensorflow import TensorFlowPredictor\n",
    "\n",
    "predictor = TensorFlowPredictor('myexistingendpoint')\n",
    "result = predictor.predict(['my request body'])"
   ]
  }
 ],
 "metadata": {
  "kernelspec": {
   "display_name": "conda_pytorch_p36",
   "language": "python",
   "name": "conda_pytorch_p36"
  },
  "language_info": {
   "codemirror_mode": {
    "name": "ipython",
    "version": 3
   },
   "file_extension": ".py",
   "mimetype": "text/x-python",
   "name": "python",
   "nbconvert_exporter": "python",
   "pygments_lexer": "ipython3",
   "version": "3.6.5"
  }
 },
 "nbformat": 4,
 "nbformat_minor": 4
}
